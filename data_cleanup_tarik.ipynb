{
 "cells": [
  {
   "cell_type": "code",
   "execution_count": 1,
   "metadata": {
    "ExecuteTime": {
     "end_time": "2023-12-06T00:52:52.136386700Z",
     "start_time": "2023-12-06T00:52:52.084525100Z"
    }
   },
   "outputs": [],
   "source": [
    "import pandas as pd\n",
    "import requests\n",
    "from bs4 import BeautifulSoup\n",
    "import country_converter as coco"
   ]
  },
  {
   "cell_type": "markdown",
   "metadata": {},
   "source": [
    "## Get the data\n",
    "The function bellow is used to extract the first table present in a wikipedia Page"
   ]
  },
  {
   "cell_type": "code",
   "execution_count": 2,
   "metadata": {
    "ExecuteTime": {
     "end_time": "2023-12-06T00:52:52.182264700Z",
     "start_time": "2023-12-06T00:52:52.101508Z"
    }
   },
   "outputs": [],
   "source": [
    "\n",
    "def getDataFrameFromWikipedia(wikipedia_url, table_no):\n",
    "    \"\"\"\n",
    "    returns a dataframe of the data from the wikipedia page. \\n\n",
    "    optionaly, if there are multiple tables on the page, you can specify which table to use in `table_no`.\n",
    "    \"\"\"\n",
    "    response = requests.get(wikipedia_url)\n",
    "    print(response.status_code)\n",
    "    soup = BeautifulSoup(response.text, 'html.parser')\n",
    "    tables = soup.findAll('table', {'class': 'wikitable'})\n",
    "    \n",
    "    if table_no is not None:\n",
    "        if table_no >= 1 and table_no <= len(tables):\n",
    "            df = pd.read_html(str(tables[table_no - 1]))[0]\n",
    "            return df\n",
    "        else:\n",
    "            return None\n",
    "    else:\n",
    "        # Merge all tables into one DataFrame\n",
    "        dfs = [pd.read_html(str(table))[0] for table in tables]\n",
    "        df_merged = pd.concat(dfs, ignore_index=True)\n",
    "        return df_merged\n",
    "        "
   ]
  },
  {
   "cell_type": "markdown",
   "metadata": {},
   "source": [
    "## Normalise the country\n",
    "- As there are no standerdised way to get countries, we use a library called `country_converter` to convert countries for us.\n",
    "- Some country might not exist (Channel Islands, European Union, World...), in that case, we just drop the whole record for this country"
   ]
  },
  {
   "cell_type": "code",
   "execution_count": 3,
   "metadata": {
    "ExecuteTime": {
     "end_time": "2023-12-06T00:52:52.184258100Z",
     "start_time": "2023-12-06T00:52:52.113447700Z"
    }
   },
   "outputs": [],
   "source": [
    "def normaliseCountryNames(df):\n",
    "    df.columns.values[0] = 'Country'\n",
    "    df['Country'] = df['Country'].apply(lambda x: coco.convert(names=x, to='name_short', not_found='not found'))\n",
    "    df = df[df['Country'] != 'not found']\n",
    "    return df"
   ]
  },
  {
   "cell_type": "markdown",
   "metadata": {},
   "source": [
    "## All column"
   ]
  },
  {
   "cell_type": "code",
   "execution_count": 4,
   "metadata": {
    "ExecuteTime": {
     "end_time": "2023-12-06T00:52:52.184258100Z",
     "start_time": "2023-12-06T00:52:52.127411Z"
    }
   },
   "outputs": [],
   "source": [
    "the_final_table = []"
   ]
  },
  {
   "cell_type": "code",
   "execution_count": 5,
   "metadata": {
    "ExecuteTime": {
     "end_time": "2023-12-06T02:58:56.290942300Z",
     "start_time": "2023-12-06T02:58:43.222876100Z"
    }
   },
   "outputs": [
    {
     "name": "stdout",
     "output_type": "stream",
     "text": [
      "200\n"
     ]
    },
    {
     "name": "stderr",
     "output_type": "stream",
     "text": [
      "Republika Srpska not found in regex\n",
      "Northern Ireland * [Note] not found in regex\n",
      "Scotland * [Note] not found in regex\n"
     ]
    },
    {
     "ename": "TypeError",
     "evalue": "Can only merge Series or DataFrame objects, a <class 'list'> was passed",
     "output_type": "error",
     "traceback": [
      "\u001b[0;31m---------------------------------------------------------------------------\u001b[0m",
      "\u001b[0;31mTypeError\u001b[0m                                 Traceback (most recent call last)",
      "\u001b[1;32m/Users/jeankhoury0/Documents/ift3700/travail-final/data_cleanup_tarik.ipynb Cell 8\u001b[0m line \u001b[0;36m1\n\u001b[1;32m      <a href='vscode-notebook-cell:/Users/jeankhoury0/Documents/ift3700/travail-final/data_cleanup_tarik.ipynb#X10sZmlsZQ%3D%3D?line=8'>9</a>\u001b[0m df\u001b[39m.\u001b[39mcolumns \u001b[39m=\u001b[39m [\u001b[39m*\u001b[39mdf\u001b[39m.\u001b[39mcolumns[:\u001b[39m-\u001b[39m\u001b[39m1\u001b[39m], \u001b[39m\"\u001b[39m\u001b[39mIncarceration rates (per 100 000)\u001b[39m\u001b[39m\"\u001b[39m]\n\u001b[1;32m     <a href='vscode-notebook-cell:/Users/jeankhoury0/Documents/ift3700/travail-final/data_cleanup_tarik.ipynb#X10sZmlsZQ%3D%3D?line=10'>11</a>\u001b[0m df \u001b[39m=\u001b[39m normaliseCountryNames(df)\n\u001b[0;32m---> <a href='vscode-notebook-cell:/Users/jeankhoury0/Documents/ift3700/travail-final/data_cleanup_tarik.ipynb#X10sZmlsZQ%3D%3D?line=12'>13</a>\u001b[0m the_final_table \u001b[39m=\u001b[39m pd\u001b[39m.\u001b[39;49mmerge(the_final_table, df, on\u001b[39m=\u001b[39;49m\u001b[39m'\u001b[39;49m\u001b[39mCountry\u001b[39;49m\u001b[39m'\u001b[39;49m, how\u001b[39m=\u001b[39;49m\u001b[39m'\u001b[39;49m\u001b[39mouter\u001b[39;49m\u001b[39m'\u001b[39;49m)\n\u001b[1;32m     <a href='vscode-notebook-cell:/Users/jeankhoury0/Documents/ift3700/travail-final/data_cleanup_tarik.ipynb#X10sZmlsZQ%3D%3D?line=14'>15</a>\u001b[0m \u001b[39mprint\u001b[39m(df\u001b[39m.\u001b[39mhead(\u001b[39m10000\u001b[39m)) \n",
      "File \u001b[0;32m/opt/homebrew/lib/python3.10/site-packages/pandas/core/reshape/merge.py:110\u001b[0m, in \u001b[0;36mmerge\u001b[0;34m(left, right, how, on, left_on, right_on, left_index, right_index, sort, suffixes, copy, indicator, validate)\u001b[0m\n\u001b[1;32m     93\u001b[0m \u001b[39m@Substitution\u001b[39m(\u001b[39m\"\u001b[39m\u001b[39m\\n\u001b[39;00m\u001b[39mleft : DataFrame or named Series\u001b[39m\u001b[39m\"\u001b[39m)\n\u001b[1;32m     94\u001b[0m \u001b[39m@Appender\u001b[39m(_merge_doc, indents\u001b[39m=\u001b[39m\u001b[39m0\u001b[39m)\n\u001b[1;32m     95\u001b[0m \u001b[39mdef\u001b[39;00m \u001b[39mmerge\u001b[39m(\n\u001b[0;32m   (...)\u001b[0m\n\u001b[1;32m    108\u001b[0m     validate: \u001b[39mstr\u001b[39m \u001b[39m|\u001b[39m \u001b[39mNone\u001b[39;00m \u001b[39m=\u001b[39m \u001b[39mNone\u001b[39;00m,\n\u001b[1;32m    109\u001b[0m ) \u001b[39m-\u001b[39m\u001b[39m>\u001b[39m DataFrame:\n\u001b[0;32m--> 110\u001b[0m     op \u001b[39m=\u001b[39m _MergeOperation(\n\u001b[1;32m    111\u001b[0m         left,\n\u001b[1;32m    112\u001b[0m         right,\n\u001b[1;32m    113\u001b[0m         how\u001b[39m=\u001b[39;49mhow,\n\u001b[1;32m    114\u001b[0m         on\u001b[39m=\u001b[39;49mon,\n\u001b[1;32m    115\u001b[0m         left_on\u001b[39m=\u001b[39;49mleft_on,\n\u001b[1;32m    116\u001b[0m         right_on\u001b[39m=\u001b[39;49mright_on,\n\u001b[1;32m    117\u001b[0m         left_index\u001b[39m=\u001b[39;49mleft_index,\n\u001b[1;32m    118\u001b[0m         right_index\u001b[39m=\u001b[39;49mright_index,\n\u001b[1;32m    119\u001b[0m         sort\u001b[39m=\u001b[39;49msort,\n\u001b[1;32m    120\u001b[0m         suffixes\u001b[39m=\u001b[39;49msuffixes,\n\u001b[1;32m    121\u001b[0m         indicator\u001b[39m=\u001b[39;49mindicator,\n\u001b[1;32m    122\u001b[0m         validate\u001b[39m=\u001b[39;49mvalidate,\n\u001b[1;32m    123\u001b[0m     )\n\u001b[1;32m    124\u001b[0m     \u001b[39mreturn\u001b[39;00m op\u001b[39m.\u001b[39mget_result(copy\u001b[39m=\u001b[39mcopy)\n",
      "File \u001b[0;32m/opt/homebrew/lib/python3.10/site-packages/pandas/core/reshape/merge.py:644\u001b[0m, in \u001b[0;36m_MergeOperation.__init__\u001b[0;34m(self, left, right, how, on, left_on, right_on, axis, left_index, right_index, sort, suffixes, indicator, validate)\u001b[0m\n\u001b[1;32m    628\u001b[0m \u001b[39mdef\u001b[39;00m \u001b[39m__init__\u001b[39m(\n\u001b[1;32m    629\u001b[0m     \u001b[39mself\u001b[39m,\n\u001b[1;32m    630\u001b[0m     left: DataFrame \u001b[39m|\u001b[39m Series,\n\u001b[0;32m   (...)\u001b[0m\n\u001b[1;32m    642\u001b[0m     validate: \u001b[39mstr\u001b[39m \u001b[39m|\u001b[39m \u001b[39mNone\u001b[39;00m \u001b[39m=\u001b[39m \u001b[39mNone\u001b[39;00m,\n\u001b[1;32m    643\u001b[0m ) \u001b[39m-\u001b[39m\u001b[39m>\u001b[39m \u001b[39mNone\u001b[39;00m:\n\u001b[0;32m--> 644\u001b[0m     _left \u001b[39m=\u001b[39m _validate_operand(left)\n\u001b[1;32m    645\u001b[0m     _right \u001b[39m=\u001b[39m _validate_operand(right)\n\u001b[1;32m    646\u001b[0m     \u001b[39mself\u001b[39m\u001b[39m.\u001b[39mleft \u001b[39m=\u001b[39m \u001b[39mself\u001b[39m\u001b[39m.\u001b[39morig_left \u001b[39m=\u001b[39m _left\n",
      "File \u001b[0;32m/opt/homebrew/lib/python3.10/site-packages/pandas/core/reshape/merge.py:2426\u001b[0m, in \u001b[0;36m_validate_operand\u001b[0;34m(obj)\u001b[0m\n\u001b[1;32m   2424\u001b[0m         \u001b[39mreturn\u001b[39;00m obj\u001b[39m.\u001b[39mto_frame()\n\u001b[1;32m   2425\u001b[0m \u001b[39melse\u001b[39;00m:\n\u001b[0;32m-> 2426\u001b[0m     \u001b[39mraise\u001b[39;00m \u001b[39mTypeError\u001b[39;00m(\n\u001b[1;32m   2427\u001b[0m         \u001b[39mf\u001b[39m\u001b[39m\"\u001b[39m\u001b[39mCan only merge Series or DataFrame objects, a \u001b[39m\u001b[39m{\u001b[39;00m\u001b[39mtype\u001b[39m(obj)\u001b[39m}\u001b[39;00m\u001b[39m was passed\u001b[39m\u001b[39m\"\u001b[39m\n\u001b[1;32m   2428\u001b[0m     )\n",
      "\u001b[0;31mTypeError\u001b[0m: Can only merge Series or DataFrame objects, a <class 'list'> was passed"
     ]
    }
   ],
   "source": [
    "#31. List of countries by incarceration rate\n",
    "\n",
    "incarceration_rate = getDataFrameFromWikipedia(\"https://en.wikipedia.org/wiki/List_of_countries_by_incarceration_rate\", 1)\n",
    "\n",
    "df = incarceration_rate\n",
    "\n",
    "df = df.drop(\"Counts[3]\", axis=1)\n",
    "df = df.drop(0)\n",
    "df.columns = [*df.columns[:-1], \"Incarceration rates (per 100 000)\"]\n",
    "\n",
    "df = normaliseCountryNames(df)\n",
    "\n",
    "the_final_table = pd.merge(the_final_table, df, on='Country', how='outer')\n",
    "\n",
    "print(df.head(10000)) "
   ]
  },
  {
   "cell_type": "code",
   "execution_count": 154,
   "metadata": {
    "ExecuteTime": {
     "end_time": "2023-12-06T00:53:17.145857600Z",
     "start_time": "2023-12-06T00:53:05.703725100Z"
    },
    "collapsed": false
   },
   "outputs": [
    {
     "name": "stdout",
     "output_type": "stream",
     "text": [
      "200\n"
     ]
    },
    {
     "name": "stderr",
     "output_type": "stream",
     "text": [
      "Congo * not found in regex\n",
      "World not found in regex\n"
     ]
    },
    {
     "name": "stdout",
     "output_type": "stream",
     "text": [
      "         Country Literacy rate\n",
      "0    Afghanistan         37.3%\n",
      "1        Albania         98.1%\n",
      "2        Algeria         81.4%\n",
      "3        Andorra        100.0%\n",
      "4         Angola         71.1%\n",
      "..           ...           ...\n",
      "190    Venezuela         97.1%\n",
      "191      Vietnam         95.8%\n",
      "192        Yemen         70.1%\n",
      "193       Zambia         86.7%\n",
      "194     Zimbabwe         86.5%\n",
      "\n",
      "[194 rows x 2 columns]\n"
     ]
    }
   ],
   "source": [
    "#32. List of countries by literacy rate\n",
    "\n",
    "literacy_rate = getDataFrameFromWikipedia(\"https://en.wikipedia.org/wiki/List_of_countries_by_literacy_rate\", 2)\n",
    "\n",
    "df = literacy_rate\n",
    "\n",
    "df = df.drop([('Literacy rate[10][11]', 'Male'), ('Literacy rate[10][11]', 'Female'), ('Literacy rate[10][11]', 'Gender Gap'), ('Literacy rate[10][11]', 'Year')], axis=1) \n",
    "df.columns = [*df.columns[:-1], \"Literacy rate\"]\n",
    "\n",
    "df = normaliseCountryNames(df)\n",
    "\n",
    "#the_final_table = pd.merge(the_final_table, df, on='Country', how='outer')\n",
    "\n",
    "print(df.head(10000)) "
   ]
  },
  {
   "cell_type": "code",
   "execution_count": 155,
   "metadata": {
    "ExecuteTime": {
     "end_time": "2023-12-06T00:53:28.121517900Z",
     "start_time": "2023-12-06T00:53:17.150844200Z"
    },
    "collapsed": false
   },
   "outputs": [
    {
     "name": "stdout",
     "output_type": "stream",
     "text": [
      "200\n"
     ]
    },
    {
     "name": "stderr",
     "output_type": "stream",
     "text": [
      "Congo[a] not found in regex\n",
      "South Korea (more info) not found in regex\n"
     ]
    },
    {
     "name": "stdout",
     "output_type": "stream",
     "text": [
      "             Country  Average  Age at first marriage\n",
      "0            Algeria     30.3                    NaN\n",
      "1             Angola     23.1                    NaN\n",
      "2              Benin     21.3                    NaN\n",
      "3           Botswana     28.7                    NaN\n",
      "4       Burkina Faso     21.1                    NaN\n",
      "..               ...      ...                    ...\n",
      "188            Samoa      NaN                   26.4\n",
      "189  Solomon Islands      NaN                   23.0\n",
      "190            Tonga      NaN                   24.3\n",
      "191           Tuvalu      NaN                   24.7\n",
      "192          Vanuatu      NaN                   22.6\n",
      "\n",
      "[191 rows x 3 columns]\n"
     ]
    }
   ],
   "source": [
    "#33. List of countries by age at first marriage\n",
    "\n",
    "age_first_marriage = getDataFrameFromWikipedia(\"https://en.wikipedia.org/wiki/List_of_countries_by_age_at_first_marriage\", None)\n",
    "    \n",
    "df = age_first_marriage\n",
    "    \n",
    "df.drop([\"Men\", \"Women\", \"Age Gap\", \"Age Ratio\", \"Year\", \"Source\"], axis=1, inplace = True)\n",
    "df.columns = [*df.columns[:-1], \"Age at first marriage\"]\n",
    "    \n",
    "df = normaliseCountryNames(df)\n",
    "\n",
    "#the_final_table = pd.merge(the_final_table, df, on='Country', how='outer')\n",
    "\n",
    "print(df.head(10000)) \n",
    "print(\"\\n\")"
   ]
  },
  {
   "cell_type": "code",
   "execution_count": 156,
   "metadata": {
    "ExecuteTime": {
     "end_time": "2023-12-06T00:53:41.276088500Z",
     "start_time": "2023-12-06T00:53:28.121517900Z"
    },
    "collapsed": false
   },
   "outputs": [
    {
     "name": "stdout",
     "output_type": "stream",
     "text": [
      "200\n",
      "                    Country Spending on education (% of GDP)\n",
      "0          Marshall Islands                             15.8\n",
      "1                      Cuba                             12.9\n",
      "2     Micronesia, Fed. Sts.                             12.5\n",
      "3                  Kiribati                             12.0\n",
      "4                   Somalia                              9.6\n",
      "..                      ...                              ...\n",
      "193                 Somalia                             n.a.\n",
      "194  Bosnia and Herzegovina                             n.a.\n",
      "195              Montenegro                             n.a.\n",
      "196             North Korea                             n.a.\n",
      "197        Papua New Guinea                             n.a.\n",
      "\n",
      "[198 rows x 2 columns]\n"
     ]
    }
   ],
   "source": [
    "#34. List of countries by spending on education as percentage of GDP\n",
    " \n",
    "spending_education = getDataFrameFromWikipedia(\"https://en.wikipedia.org/wiki/List_of_countries_by_spending_on_education_as_percentage_of_GDP\", 1)\n",
    "    \n",
    "df = spending_education\n",
    "    \n",
    "df.drop([\"Year\", \"Source\"], axis=1, inplace= True)\n",
    "df.columns = [*df.columns[:-1], \"Spending on education (% of GDP)\"]\n",
    "    \n",
    "df = normaliseCountryNames(df)\n",
    "\n",
    "#the_final_table = pd.merge(the_final_table, df, on='Country', how='outer')\n",
    "\n",
    "print(df.head(10000))    \n",
    "    "
   ]
  },
  {
   "cell_type": "code",
   "execution_count": 157,
   "metadata": {
    "ExecuteTime": {
     "end_time": "2023-12-06T00:53:47.976838500Z",
     "start_time": "2023-12-06T00:53:41.282073100Z"
    },
    "collapsed": false
   },
   "outputs": [
    {
     "name": "stdout",
     "output_type": "stream",
     "text": [
      "200\n",
      "          Country  Homeless population per 10k\n",
      "0     Afghanistan                       1180.0\n",
      "1         Albania                        121.0\n",
      "2       Australia                         48.0\n",
      "3         Austria                         25.4\n",
      "4      Azerbaijan                        725.0\n",
      "..            ...                          ...\n",
      "86  United States                         17.5\n",
      "87        Vatican                          0.0\n",
      "88        Vietnam                         16.6\n",
      "89          Yemen                       1294.0\n",
      "90       Zimbabwe                        848.0\n",
      "\n",
      "[91 rows x 2 columns]\n"
     ]
    }
   ],
   "source": [
    "#35. List of sovereign states by homeless population\n",
    "\n",
    "homeless_pop = getDataFrameFromWikipedia(\"https://en.wikipedia.org/wiki/List_of_sovereign_states_by_homeless_population\", 1)\n",
    "    \n",
    "df = homeless_pop\n",
    "\n",
    "df.drop([\"Homeless (average day)\", \"Data year\", \"Unsheltered per 10k\", \"Main article, other notes\", \"Unnamed: 6\"], axis=1, inplace=True)\n",
    "df.columns = [*df.columns[:-1], \"Homeless population per 10k\"] \n",
    "    \n",
    "df = normaliseCountryNames(df)\n",
    "\n",
    "#the_final_table = pd.merge(the_final_table, df, on='Country', how='outer')\n",
    "\n",
    "print(df.head(10000))    "
   ]
  },
  {
   "cell_type": "code",
   "execution_count": 158,
   "metadata": {
    "ExecuteTime": {
     "end_time": "2023-12-06T00:54:00.137232400Z",
     "start_time": "2023-12-06T00:53:47.983818800Z"
    },
    "collapsed": false
   },
   "outputs": [
    {
     "name": "stdout",
     "output_type": "stream",
     "text": [
      "200\n"
     ]
    },
    {
     "name": "stderr",
     "output_type": "stream",
     "text": [
      "Netherlands Antilles not found in regex\n"
     ]
    },
    {
     "name": "stdout",
     "output_type": "stream",
     "text": [
      "         Country  Milk consumption per capita\n",
      "0        Finland                       430.76\n",
      "1     Montenegro                       349.21\n",
      "2    Netherlands                       341.47\n",
      "3         Sweden                       341.23\n",
      "4    Switzerland                       318.69\n",
      "..           ...                          ...\n",
      "178  North Korea                         3.79\n",
      "179     Cambodia                         3.47\n",
      "180         Laos                         2.92\n",
      "181      Liberia                         3.04\n",
      "182     DR Congo                          NaN\n",
      "\n",
      "[182 rows x 2 columns]\n"
     ]
    }
   ],
   "source": [
    "#36. List of countries by milk consumption per capita\n",
    "\n",
    "milk_consumption = getDataFrameFromWikipedia(\"https://en.wikipedia.org/wiki/List_of_countries_by_milk_consumption_per_capita\", 1)\n",
    "    \n",
    "df = milk_consumption\n",
    "\n",
    "df.drop([\"Rank\", \"Change in rank 2013/2007\", \"Milk consumption 2007 (kg/capita/yr) [2]\"], axis=1, inplace=True)\n",
    "df.columns = [*df.columns[:-1], \"Milk consumption per capita\"] \n",
    "    \n",
    "df = normaliseCountryNames(df)\n",
    "\n",
    "#the_final_table = pd.merge(the_final_table, df, on='Country', how='outer')\n",
    "\n",
    "print(df.head(10000))  "
   ]
  },
  {
   "cell_type": "code",
   "execution_count": 159,
   "metadata": {
    "ExecuteTime": {
     "end_time": "2023-12-06T00:54:12.888669100Z",
     "start_time": "2023-12-06T00:54:00.143244300Z"
    },
    "collapsed": false
   },
   "outputs": [
    {
     "name": "stdout",
     "output_type": "stream",
     "text": [
      "200\n"
     ]
    },
    {
     "name": "stderr",
     "output_type": "stream",
     "text": [
      "World not found in regex\n"
     ]
    },
    {
     "name": "stdout",
     "output_type": "stream",
     "text": [
      "                            Country  Number of scientific publications\n",
      "0                             China                             744042\n",
      "1                     United States                             624554\n",
      "2                    United Kingdom                             198500\n",
      "3                             India                             191590\n",
      "4                           Germany                             174524\n",
      "..                              ...                                ...\n",
      "224  Svalbard and Jan Mayen Islands                                  3\n",
      "225                          Tuvalu                                  2\n",
      "226         St. Pierre and Miquelon                                  1\n",
      "227                         Tokelau                                  1\n",
      "228     French Southern Territories                                  1\n",
      "\n",
      "[229 rows x 2 columns]\n"
     ]
    }
   ],
   "source": [
    "#37. List of countries by number of scientific and technical journal articles\n",
    "\n",
    "sci_publi = getDataFrameFromWikipedia(\"https://en.wikipedia.org/wiki/List_of_countries_by_number_of_scientific_and_technical_journal_articles\", 1)\n",
    "    \n",
    "df = sci_publi\n",
    "\n",
    "df.drop([\"Rank\", \"Scientific publications per capita (per million)\"], axis=1, inplace=True)\n",
    "df.columns = [*df.columns[:-1], \"Number of scientific publications\"] \n",
    "    \n",
    "df = normaliseCountryNames(df)\n",
    "\n",
    "#the_final_table = pd.merge(the_final_table, df, on='Country', how='outer')\n",
    "\n",
    "print(df.head(10000))  "
   ]
  },
  {
   "cell_type": "code",
   "execution_count": 160,
   "metadata": {
    "ExecuteTime": {
     "end_time": "2023-12-06T02:48:41.461955Z",
     "start_time": "2023-12-06T02:48:33.261903800Z"
    },
    "collapsed": false
   },
   "outputs": [
    {
     "name": "stdout",
     "output_type": "stream",
     "text": [
      "200\n",
      "            Country Books published per year\n",
      "0     United States                   275232\n",
      "1             China                   208418\n",
      "2    United Kingdom                   186000\n",
      "3             Japan                   139078\n",
      "4         Indonesia                   135081\n",
      "..              ...                      ...\n",
      "128          Angola                       22\n",
      "129          Gambia                       14\n",
      "130            Mali                       14\n",
      "131    Burkina Faso                       12\n",
      "132            Oman                        7\n",
      "\n",
      "[133 rows x 2 columns]\n"
     ]
    }
   ],
   "source": [
    "#38. Books published per country per year\n",
    "\n",
    "books_publi = getDataFrameFromWikipedia(\"https://en.wikipedia.org/wiki/Books_published_per_country_per_year\", 1)\n",
    "    \n",
    "df = books_publi\n",
    "\n",
    "df.drop([\"Rank\", \"Year\", \"Notes\", \"References\"], axis=1, inplace=True)\n",
    "df.columns = [*df.columns[:-1], \"Books published per year\"] \n",
    "    \n",
    "df = normaliseCountryNames(df)\n",
    "\n",
    "#the_final_table = pd.merge(the_final_table, df, on='Country', how='outer')\n",
    "\n",
    "print(df.head(10000))  \n"
   ]
  },
  {
   "cell_type": "code",
   "execution_count": 162,
   "metadata": {
    "ExecuteTime": {
     "end_time": "2023-12-06T02:55:10.608580500Z",
     "start_time": "2023-12-06T02:55:00.188407700Z"
    },
    "collapsed": false
   },
   "outputs": [
    {
     "name": "stdout",
     "output_type": "stream",
     "text": [
      "200\n"
     ]
    },
    {
     "name": "stderr",
     "output_type": "stream",
     "text": [
      "C:\\Users\\Tarik\\AppData\\Local\\Temp\\ipykernel_28080\\3358009269.py:7: PerformanceWarning: dropping on a non-lexsorted multi-index without a level parameter may impact performance.\n",
      "  df.drop([\"Rank\", ('Average daily dietary energy consumption per capita[8]', 'Year')], axis=1, inplace=True)\n",
      "More than one regular expression match for New Caledonia (France)\n",
      "More than one regular expression match for New Caledonia (France)\n",
      "More than one regular expression match for New Caledonia (France)\n",
      "More than one regular expression match for New Caledonia (France)\n",
      "More than one regular expression match for New Caledonia (France)\n",
      "More than one regular expression match for New Caledonia (France)\n",
      "More than one regular expression match for New Caledonia (France)\n",
      "More than one regular expression match for New Caledonia (France)\n",
      "More than one regular expression match for New Caledonia (France)\n",
      "More than one regular expression match for New Caledonia (France)\n",
      "More than one regular expression match for New Caledonia (France)\n",
      "More than one regular expression match for New Caledonia (France)\n",
      "More than one regular expression match for New Caledonia (France)\n",
      "More than one regular expression match for New Caledonia (France)\n",
      "More than one regular expression match for New Caledonia (France)\n",
      "More than one regular expression match for New Caledonia (France)\n",
      "More than one regular expression match for New Caledonia (France)\n",
      "More than one regular expression match for New Caledonia (France)\n",
      "More than one regular expression match for New Caledonia (France)\n",
      "More than one regular expression match for New Caledonia (France)\n",
      "More than one regular expression match for New Caledonia (France)\n",
      "More than one regular expression match for New Caledonia (France)\n",
      "More than one regular expression match for New Caledonia (France)\n",
      "More than one regular expression match for New Caledonia (France)\n",
      "More than one regular expression match for New Caledonia (France)\n",
      "More than one regular expression match for New Caledonia (France)\n",
      "More than one regular expression match for New Caledonia (France)\n",
      "More than one regular expression match for New Caledonia (France)\n",
      "More than one regular expression match for New Caledonia (France)\n",
      "More than one regular expression match for New Caledonia (France)\n",
      "More than one regular expression match for New Caledonia (France)\n",
      "More than one regular expression match for New Caledonia (France)\n",
      "More than one regular expression match for New Caledonia (France)\n",
      "More than one regular expression match for New Caledonia (France)\n",
      "More than one regular expression match for New Caledonia (France)\n",
      "More than one regular expression match for New Caledonia (France)\n",
      "More than one regular expression match for New Caledonia (France)\n",
      "More than one regular expression match for New Caledonia (France)\n",
      "More than one regular expression match for New Caledonia (France)\n",
      "More than one regular expression match for New Caledonia (France)\n",
      "More than one regular expression match for New Caledonia (France)\n",
      "More than one regular expression match for New Caledonia (France)\n",
      "More than one regular expression match for New Caledonia (France)\n",
      "More than one regular expression match for New Caledonia (France)\n",
      "More than one regular expression match for New Caledonia (France)\n",
      "More than one regular expression match for New Caledonia (France)\n",
      "More than one regular expression match for New Caledonia (France)\n",
      "More than one regular expression match for New Caledonia (France)\n",
      "More than one regular expression match for New Caledonia (France)\n",
      "More than one regular expression match for New Caledonia (France)\n",
      "More than one regular expression match for New Caledonia (France)\n",
      "More than one regular expression match for New Caledonia (France)\n",
      "More than one regular expression match for New Caledonia (France)\n",
      "More than one regular expression match for New Caledonia (France)\n",
      "More than one regular expression match for New Caledonia (France)\n",
      "More than one regular expression match for New Caledonia (France)\n",
      "More than one regular expression match for New Caledonia (France)\n",
      "More than one regular expression match for New Caledonia (France)\n",
      "More than one regular expression match for New Caledonia (France)\n",
      "More than one regular expression match for New Caledonia (France)\n",
      "More than one regular expression match for New Caledonia (France)\n",
      "More than one regular expression match for New Caledonia (France)\n",
      "More than one regular expression match for New Caledonia (France)\n",
      "More than one regular expression match for New Caledonia (France)\n",
      "More than one regular expression match for New Caledonia (France)\n",
      "More than one regular expression match for New Caledonia (France)\n",
      "More than one regular expression match for New Caledonia (France)\n",
      "More than one regular expression match for New Caledonia (France)\n",
      "More than one regular expression match for New Caledonia (France)\n",
      "More than one regular expression match for New Caledonia (France)\n",
      "More than one regular expression match for New Caledonia (France)\n",
      "More than one regular expression match for New Caledonia (France)\n",
      "More than one regular expression match for New Caledonia (France)\n",
      "More than one regular expression match for New Caledonia (France)\n",
      "More than one regular expression match for New Caledonia (France)\n",
      "More than one regular expression match for New Caledonia (France)\n",
      "More than one regular expression match for New Caledonia (France)\n",
      "More than one regular expression match for New Caledonia (France)\n",
      "More than one regular expression match for New Caledonia (France)\n",
      "More than one regular expression match for New Caledonia (France)\n",
      "More than one regular expression match for New Caledonia (France)\n",
      "More than one regular expression match for New Caledonia (France)\n",
      "More than one regular expression match for New Caledonia (France)\n",
      "More than one regular expression match for New Caledonia (France)\n",
      "More than one regular expression match for New Caledonia (France)\n",
      "More than one regular expression match for New Caledonia (France)\n",
      "More than one regular expression match for New Caledonia (France)\n",
      "More than one regular expression match for New Caledonia (France)\n",
      "More than one regular expression match for New Caledonia (France)\n",
      "More than one regular expression match for New Caledonia (France)\n",
      "More than one regular expression match for New Caledonia (France)\n",
      "More than one regular expression match for New Caledonia (France)\n",
      "More than one regular expression match for New Caledonia (France)\n"
     ]
    },
    {
     "name": "stdout",
     "output_type": "stream",
     "text": [
      "                      Country  Average kilocalories consumption per capita\n",
      "0                     Ireland                                         3885\n",
      "1               United States                                         3782\n",
      "2                     Belgium                                         3769\n",
      "3                     Türkiye                                         3711\n",
      "4                     Austria                                         3695\n",
      "..                        ...                                          ...\n",
      "166                    Zambia                                         2002\n",
      "167                    Uganda                                         1981\n",
      "168                Madagascar                                         1938\n",
      "169                  Zimbabwe                                         1908\n",
      "170  Central African Republic                                         1786\n",
      "\n",
      "[171 rows x 2 columns]\n"
     ]
    }
   ],
   "source": [
    "#39. List of countries by food energy intake\n",
    "\n",
    "kilocal = getDataFrameFromWikipedia(\"https://en.wikipedia.org/wiki/List_of_countries_by_food_energy_intake\", 1)\n",
    "    \n",
    "df = kilocal\n",
    "\n",
    "df.drop([\"Rank\", ('Average daily dietary energy consumption per capita[8]', 'Year')], axis=1, inplace=True)\n",
    "df.columns = [*df.columns[:-1], \"Average daily dietary energy consumption per capita (kcal)\"] \n",
    "    \n",
    "df = normaliseCountryNames(df)\n",
    "\n",
    "#the_final_table = pd.merge(the_final_table, df, on='Country', how='outer')\n",
    "\n",
    "print(df.head(10000))  "
   ]
  },
  {
   "cell_type": "code",
   "execution_count": 163,
   "metadata": {
    "ExecuteTime": {
     "end_time": "2023-12-06T02:58:22.151341800Z",
     "start_time": "2023-12-06T02:58:11.388114800Z"
    },
    "collapsed": false
   },
   "outputs": [
    {
     "name": "stdout",
     "output_type": "stream",
     "text": [
      "200\n",
      "          Country Average yearly temperature from 1961 to 1990 (°C)\n",
      "0    Burkina Faso                                             28.29\n",
      "1            Mali                                             28.25\n",
      "2        Kiribati                                             28.20\n",
      "3        Djibouti                                             28.00\n",
      "4        Maldives                                             28.00\n",
      "..            ...                                               ...\n",
      "187       Finland                                             01.55\n",
      "188        Norway                                             01.50\n",
      "189       Iceland                                             −0.70\n",
      "190        Canada                                             −5.10\n",
      "191        Russia                                             −5.35\n",
      "\n",
      "[192 rows x 2 columns]\n"
     ]
    }
   ],
   "source": [
    "#40. List of countries by average yearly temperature\n",
    "\n",
    "temp_celsius_avg = getDataFrameFromWikipedia(\"https://en.wikipedia.org/wiki/List_of_countries_by_average_yearly_temperature\", 1)\n",
    "    \n",
    "df = temp_celsius_avg\n",
    "\n",
    "df.columns = [*df.columns[:-1], \"Average yearly temperature from 1961 to 1990 (°C)\"] \n",
    "    \n",
    "df = normaliseCountryNames(df)\n",
    "\n",
    "#the_final_table = pd.merge(the_final_table, df, on='Country', how='outer')\n",
    "\n",
    "print(df.head(10000))  \n"
   ]
  }
 ],
 "metadata": {
  "kernelspec": {
   "display_name": "Python 3",
   "language": "python",
   "name": "python3"
  },
  "language_info": {
   "codemirror_mode": {
    "name": "ipython",
    "version": 3
   },
   "file_extension": ".py",
   "mimetype": "text/x-python",
   "name": "python",
   "nbconvert_exporter": "python",
   "pygments_lexer": "ipython3",
   "version": "3.10.13"
  }
 },
 "nbformat": 4,
 "nbformat_minor": 2
}
