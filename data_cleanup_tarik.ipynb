{
 "cells": [
  {
   "cell_type": "code",
   "execution_count": 149,
   "metadata": {
    "ExecuteTime": {
     "end_time": "2023-12-06T00:52:52.136386700Z",
     "start_time": "2023-12-06T00:52:52.084525100Z"
    }
   },
   "outputs": [],
   "source": [
    "import pandas as pd\n",
    "import requests\n",
    "from bs4 import BeautifulSoup\n",
    "import country_converter as coco"
   ]
  },
  {
   "cell_type": "markdown",
   "metadata": {},
   "source": [
    "## Get the data\n",
    "The function bellow is used to extract the first table present in a wikipedia Page"
   ]
  },
  {
   "cell_type": "code",
   "execution_count": 150,
   "metadata": {
    "ExecuteTime": {
     "end_time": "2023-12-06T00:52:52.182264700Z",
     "start_time": "2023-12-06T00:52:52.101508Z"
    }
   },
   "outputs": [],
   "source": [
    "\n",
    "def getDataFrameFromWikipedia(wikipedia_url, table_no):\n",
    "    \"\"\"\n",
    "    returns a dataframe of the data from the wikipedia page. \\n\n",
    "    optionaly, if there are multiple tables on the page, you can specify which table to use in `table_no`.\n",
    "    \"\"\"\n",
    "    response = requests.get(wikipedia_url)\n",
    "    print(response.status_code)\n",
    "    soup = BeautifulSoup(response.text, 'html.parser')\n",
    "    tables = soup.findAll('table', {'class': 'wikitable'})\n",
    "    \n",
    "    if table_no is not None:\n",
    "        if table_no >= 1 and table_no <= len(tables):\n",
    "            df = pd.read_html(str(tables[table_no - 1]))[0]\n",
    "            return df\n",
    "        else:\n",
    "            return None\n",
    "    else:\n",
    "        # Merge all tables into one DataFrame\n",
    "        dfs = [pd.read_html(str(table))[0] for table in tables]\n",
    "        df_merged = pd.concat(dfs, ignore_index=True)\n",
    "        return df_merged\n",
    "        "
   ]
  },
  {
   "cell_type": "markdown",
   "metadata": {},
   "source": [
    "## Normalise the country\n",
    "- As there are no standerdised way to get countries, we use a library called `country_converter` to convert countries for us.\n",
    "- Some country might not exist (Channel Islands, European Union, World...), in that case, we just drop the whole record for this country"
   ]
  },
  {
   "cell_type": "code",
   "execution_count": 151,
   "metadata": {
    "ExecuteTime": {
     "end_time": "2023-12-06T00:52:52.184258100Z",
     "start_time": "2023-12-06T00:52:52.113447700Z"
    }
   },
   "outputs": [],
   "source": [
    "def normaliseCountryNames(df):\n",
    "    df.columns.values[0] = 'Country'\n",
    "    df['Country'] = df['Country'].apply(lambda x: coco.convert(names=x, to='name_short', not_found='not found'))\n",
    "    df = df[df['Country'] != 'not found']\n",
    "    return df"
   ]
  },
  {
   "cell_type": "markdown",
   "metadata": {},
   "source": [
    "## All column"
   ]
  },
  {
   "cell_type": "code",
   "execution_count": 152,
   "metadata": {
    "ExecuteTime": {
     "end_time": "2023-12-06T00:52:52.184258100Z",
     "start_time": "2023-12-06T00:52:52.127411Z"
    }
   },
   "outputs": [],
   "source": [
    "the_final_table = []"
   ]
  },
  {
   "cell_type": "code",
   "execution_count": 164,
   "metadata": {
    "ExecuteTime": {
     "end_time": "2023-12-06T02:58:56.290942300Z",
     "start_time": "2023-12-06T02:58:43.222876100Z"
    }
   },
   "outputs": [
    {
     "name": "stdout",
     "output_type": "stream",
     "text": [
      "200\n"
     ]
    },
    {
     "name": "stderr",
     "output_type": "stream",
     "text": [
      "Republika Srpska not found in regex\n",
      "Northern Ireland * [Note] not found in regex\n",
      "Scotland * [Note] not found in regex\n"
     ]
    },
    {
     "ename": "TypeError",
     "evalue": "Can only merge Series or DataFrame objects, a <class 'list'> was passed",
     "output_type": "error",
     "traceback": [
      "\u001B[1;31m---------------------------------------------------------------------------\u001B[0m",
      "\u001B[1;31mTypeError\u001B[0m                                 Traceback (most recent call last)",
      "Cell \u001B[1;32mIn[164], line 13\u001B[0m\n\u001B[0;32m      9\u001B[0m df\u001B[38;5;241m.\u001B[39mcolumns \u001B[38;5;241m=\u001B[39m [\u001B[38;5;241m*\u001B[39mdf\u001B[38;5;241m.\u001B[39mcolumns[:\u001B[38;5;241m-\u001B[39m\u001B[38;5;241m1\u001B[39m], \u001B[38;5;124m\"\u001B[39m\u001B[38;5;124mIncarceration rates (per 100 000)\u001B[39m\u001B[38;5;124m\"\u001B[39m]\n\u001B[0;32m     11\u001B[0m df \u001B[38;5;241m=\u001B[39m normaliseCountryNames(df)\n\u001B[1;32m---> 13\u001B[0m the_final_table \u001B[38;5;241m=\u001B[39m \u001B[43mpd\u001B[49m\u001B[38;5;241;43m.\u001B[39;49m\u001B[43mmerge\u001B[49m\u001B[43m(\u001B[49m\u001B[43mthe_final_table\u001B[49m\u001B[43m,\u001B[49m\u001B[43m \u001B[49m\u001B[43mdf\u001B[49m\u001B[43m,\u001B[49m\u001B[43m \u001B[49m\u001B[43mon\u001B[49m\u001B[38;5;241;43m=\u001B[39;49m\u001B[38;5;124;43m'\u001B[39;49m\u001B[38;5;124;43mCountry\u001B[39;49m\u001B[38;5;124;43m'\u001B[39;49m\u001B[43m,\u001B[49m\u001B[43m \u001B[49m\u001B[43mhow\u001B[49m\u001B[38;5;241;43m=\u001B[39;49m\u001B[38;5;124;43m'\u001B[39;49m\u001B[38;5;124;43mouter\u001B[39;49m\u001B[38;5;124;43m'\u001B[39;49m\u001B[43m)\u001B[49m\n\u001B[0;32m     15\u001B[0m \u001B[38;5;28mprint\u001B[39m(df\u001B[38;5;241m.\u001B[39mhead(\u001B[38;5;241m10000\u001B[39m))\n",
      "File \u001B[1;32m~\\anaconda3\\lib\\site-packages\\pandas\\core\\reshape\\merge.py:148\u001B[0m, in \u001B[0;36mmerge\u001B[1;34m(left, right, how, on, left_on, right_on, left_index, right_index, sort, suffixes, copy, indicator, validate)\u001B[0m\n\u001B[0;32m    131\u001B[0m \u001B[38;5;129m@Substitution\u001B[39m(\u001B[38;5;124m\"\u001B[39m\u001B[38;5;130;01m\\n\u001B[39;00m\u001B[38;5;124mleft : DataFrame or named Series\u001B[39m\u001B[38;5;124m\"\u001B[39m)\n\u001B[0;32m    132\u001B[0m \u001B[38;5;129m@Appender\u001B[39m(_merge_doc, indents\u001B[38;5;241m=\u001B[39m\u001B[38;5;241m0\u001B[39m)\n\u001B[0;32m    133\u001B[0m \u001B[38;5;28;01mdef\u001B[39;00m \u001B[38;5;21mmerge\u001B[39m(\n\u001B[1;32m   (...)\u001B[0m\n\u001B[0;32m    146\u001B[0m     validate: \u001B[38;5;28mstr\u001B[39m \u001B[38;5;241m|\u001B[39m \u001B[38;5;28;01mNone\u001B[39;00m \u001B[38;5;241m=\u001B[39m \u001B[38;5;28;01mNone\u001B[39;00m,\n\u001B[0;32m    147\u001B[0m ) \u001B[38;5;241m-\u001B[39m\u001B[38;5;241m>\u001B[39m DataFrame:\n\u001B[1;32m--> 148\u001B[0m     op \u001B[38;5;241m=\u001B[39m \u001B[43m_MergeOperation\u001B[49m\u001B[43m(\u001B[49m\n\u001B[0;32m    149\u001B[0m \u001B[43m        \u001B[49m\u001B[43mleft\u001B[49m\u001B[43m,\u001B[49m\n\u001B[0;32m    150\u001B[0m \u001B[43m        \u001B[49m\u001B[43mright\u001B[49m\u001B[43m,\u001B[49m\n\u001B[0;32m    151\u001B[0m \u001B[43m        \u001B[49m\u001B[43mhow\u001B[49m\u001B[38;5;241;43m=\u001B[39;49m\u001B[43mhow\u001B[49m\u001B[43m,\u001B[49m\n\u001B[0;32m    152\u001B[0m \u001B[43m        \u001B[49m\u001B[43mon\u001B[49m\u001B[38;5;241;43m=\u001B[39;49m\u001B[43mon\u001B[49m\u001B[43m,\u001B[49m\n\u001B[0;32m    153\u001B[0m \u001B[43m        \u001B[49m\u001B[43mleft_on\u001B[49m\u001B[38;5;241;43m=\u001B[39;49m\u001B[43mleft_on\u001B[49m\u001B[43m,\u001B[49m\n\u001B[0;32m    154\u001B[0m \u001B[43m        \u001B[49m\u001B[43mright_on\u001B[49m\u001B[38;5;241;43m=\u001B[39;49m\u001B[43mright_on\u001B[49m\u001B[43m,\u001B[49m\n\u001B[0;32m    155\u001B[0m \u001B[43m        \u001B[49m\u001B[43mleft_index\u001B[49m\u001B[38;5;241;43m=\u001B[39;49m\u001B[43mleft_index\u001B[49m\u001B[43m,\u001B[49m\n\u001B[0;32m    156\u001B[0m \u001B[43m        \u001B[49m\u001B[43mright_index\u001B[49m\u001B[38;5;241;43m=\u001B[39;49m\u001B[43mright_index\u001B[49m\u001B[43m,\u001B[49m\n\u001B[0;32m    157\u001B[0m \u001B[43m        \u001B[49m\u001B[43msort\u001B[49m\u001B[38;5;241;43m=\u001B[39;49m\u001B[43msort\u001B[49m\u001B[43m,\u001B[49m\n\u001B[0;32m    158\u001B[0m \u001B[43m        \u001B[49m\u001B[43msuffixes\u001B[49m\u001B[38;5;241;43m=\u001B[39;49m\u001B[43msuffixes\u001B[49m\u001B[43m,\u001B[49m\n\u001B[0;32m    159\u001B[0m \u001B[43m        \u001B[49m\u001B[43mindicator\u001B[49m\u001B[38;5;241;43m=\u001B[39;49m\u001B[43mindicator\u001B[49m\u001B[43m,\u001B[49m\n\u001B[0;32m    160\u001B[0m \u001B[43m        \u001B[49m\u001B[43mvalidate\u001B[49m\u001B[38;5;241;43m=\u001B[39;49m\u001B[43mvalidate\u001B[49m\u001B[43m,\u001B[49m\n\u001B[0;32m    161\u001B[0m \u001B[43m    \u001B[49m\u001B[43m)\u001B[49m\n\u001B[0;32m    162\u001B[0m     \u001B[38;5;28;01mreturn\u001B[39;00m op\u001B[38;5;241m.\u001B[39mget_result(copy\u001B[38;5;241m=\u001B[39mcopy)\n",
      "File \u001B[1;32m~\\anaconda3\\lib\\site-packages\\pandas\\core\\reshape\\merge.py:680\u001B[0m, in \u001B[0;36m_MergeOperation.__init__\u001B[1;34m(self, left, right, how, on, left_on, right_on, axis, left_index, right_index, sort, suffixes, indicator, validate)\u001B[0m\n\u001B[0;32m    664\u001B[0m \u001B[38;5;28;01mdef\u001B[39;00m \u001B[38;5;21m__init__\u001B[39m(\n\u001B[0;32m    665\u001B[0m     \u001B[38;5;28mself\u001B[39m,\n\u001B[0;32m    666\u001B[0m     left: DataFrame \u001B[38;5;241m|\u001B[39m Series,\n\u001B[1;32m   (...)\u001B[0m\n\u001B[0;32m    678\u001B[0m     validate: \u001B[38;5;28mstr\u001B[39m \u001B[38;5;241m|\u001B[39m \u001B[38;5;28;01mNone\u001B[39;00m \u001B[38;5;241m=\u001B[39m \u001B[38;5;28;01mNone\u001B[39;00m,\n\u001B[0;32m    679\u001B[0m ) \u001B[38;5;241m-\u001B[39m\u001B[38;5;241m>\u001B[39m \u001B[38;5;28;01mNone\u001B[39;00m:\n\u001B[1;32m--> 680\u001B[0m     _left \u001B[38;5;241m=\u001B[39m \u001B[43m_validate_operand\u001B[49m\u001B[43m(\u001B[49m\u001B[43mleft\u001B[49m\u001B[43m)\u001B[49m\n\u001B[0;32m    681\u001B[0m     _right \u001B[38;5;241m=\u001B[39m _validate_operand(right)\n\u001B[0;32m    682\u001B[0m     \u001B[38;5;28mself\u001B[39m\u001B[38;5;241m.\u001B[39mleft \u001B[38;5;241m=\u001B[39m \u001B[38;5;28mself\u001B[39m\u001B[38;5;241m.\u001B[39morig_left \u001B[38;5;241m=\u001B[39m _left\n",
      "File \u001B[1;32m~\\anaconda3\\lib\\site-packages\\pandas\\core\\reshape\\merge.py:2575\u001B[0m, in \u001B[0;36m_validate_operand\u001B[1;34m(obj)\u001B[0m\n\u001B[0;32m   2573\u001B[0m     \u001B[38;5;28;01mreturn\u001B[39;00m obj\u001B[38;5;241m.\u001B[39mto_frame()\n\u001B[0;32m   2574\u001B[0m \u001B[38;5;28;01melse\u001B[39;00m:\n\u001B[1;32m-> 2575\u001B[0m     \u001B[38;5;28;01mraise\u001B[39;00m \u001B[38;5;167;01mTypeError\u001B[39;00m(\n\u001B[0;32m   2576\u001B[0m         \u001B[38;5;124mf\u001B[39m\u001B[38;5;124m\"\u001B[39m\u001B[38;5;124mCan only merge Series or DataFrame objects, a \u001B[39m\u001B[38;5;132;01m{\u001B[39;00m\u001B[38;5;28mtype\u001B[39m(obj)\u001B[38;5;132;01m}\u001B[39;00m\u001B[38;5;124m was passed\u001B[39m\u001B[38;5;124m\"\u001B[39m\n\u001B[0;32m   2577\u001B[0m     )\n",
      "\u001B[1;31mTypeError\u001B[0m: Can only merge Series or DataFrame objects, a <class 'list'> was passed"
     ]
    }
   ],
   "source": [
    "#31. List of countries by incarceration rate\n",
    "\n",
    "incarceration_rate = getDataFrameFromWikipedia(\"https://en.wikipedia.org/wiki/List_of_countries_by_incarceration_rate\", 1)\n",
    "\n",
    "df = incarceration_rate\n",
    "\n",
    "df = df.drop(\"Counts[3]\", axis=1)\n",
    "df = df.drop(0)\n",
    "df.columns = [*df.columns[:-1], \"Incarceration rates (per 100 000)\"]\n",
    "\n",
    "df = normaliseCountryNames(df)\n",
    "\n",
    "the_final_table = pd.merge(the_final_table, df, on='Country', how='outer')\n",
    "\n",
    "print(df.head(10000)) "
   ]
  },
  {
   "cell_type": "code",
   "execution_count": 154,
   "outputs": [
    {
     "name": "stdout",
     "output_type": "stream",
     "text": [
      "200\n"
     ]
    },
    {
     "name": "stderr",
     "output_type": "stream",
     "text": [
      "Congo * not found in regex\n",
      "World not found in regex\n"
     ]
    },
    {
     "name": "stdout",
     "output_type": "stream",
     "text": [
      "         Country Literacy rate\n",
      "0    Afghanistan         37.3%\n",
      "1        Albania         98.1%\n",
      "2        Algeria         81.4%\n",
      "3        Andorra        100.0%\n",
      "4         Angola         71.1%\n",
      "..           ...           ...\n",
      "190    Venezuela         97.1%\n",
      "191      Vietnam         95.8%\n",
      "192        Yemen         70.1%\n",
      "193       Zambia         86.7%\n",
      "194     Zimbabwe         86.5%\n",
      "\n",
      "[194 rows x 2 columns]\n"
     ]
    }
   ],
   "source": [
    "#32. List of countries by literacy rate\n",
    "\n",
    "literacy_rate = getDataFrameFromWikipedia(\"https://en.wikipedia.org/wiki/List_of_countries_by_literacy_rate\", 2)\n",
    "\n",
    "df = literacy_rate\n",
    "\n",
    "df = df.drop([('Literacy rate[10][11]', 'Male'), ('Literacy rate[10][11]', 'Female'), ('Literacy rate[10][11]', 'Gender Gap'), ('Literacy rate[10][11]', 'Year')], axis=1) \n",
    "df.columns = [*df.columns[:-1], \"Literacy rate\"]\n",
    "\n",
    "df = normaliseCountryNames(df)\n",
    "\n",
    "#the_final_table = pd.merge(the_final_table, df, on='Country', how='outer')\n",
    "\n",
    "print(df.head(10000)) "
   ],
   "metadata": {
    "collapsed": false,
    "ExecuteTime": {
     "end_time": "2023-12-06T00:53:17.145857600Z",
     "start_time": "2023-12-06T00:53:05.703725100Z"
    }
   }
  },
  {
   "cell_type": "code",
   "execution_count": 155,
   "outputs": [
    {
     "name": "stdout",
     "output_type": "stream",
     "text": [
      "200\n"
     ]
    },
    {
     "name": "stderr",
     "output_type": "stream",
     "text": [
      "Congo[a] not found in regex\n",
      "South Korea (more info) not found in regex\n"
     ]
    },
    {
     "name": "stdout",
     "output_type": "stream",
     "text": [
      "             Country  Average  Age at first marriage\n",
      "0            Algeria     30.3                    NaN\n",
      "1             Angola     23.1                    NaN\n",
      "2              Benin     21.3                    NaN\n",
      "3           Botswana     28.7                    NaN\n",
      "4       Burkina Faso     21.1                    NaN\n",
      "..               ...      ...                    ...\n",
      "188            Samoa      NaN                   26.4\n",
      "189  Solomon Islands      NaN                   23.0\n",
      "190            Tonga      NaN                   24.3\n",
      "191           Tuvalu      NaN                   24.7\n",
      "192          Vanuatu      NaN                   22.6\n",
      "\n",
      "[191 rows x 3 columns]\n"
     ]
    }
   ],
   "source": [
    "#33. List of countries by age at first marriage\n",
    "\n",
    "age_first_marriage = getDataFrameFromWikipedia(\"https://en.wikipedia.org/wiki/List_of_countries_by_age_at_first_marriage\", None)\n",
    "    \n",
    "df = age_first_marriage\n",
    "    \n",
    "df.drop([\"Men\", \"Women\", \"Age Gap\", \"Age Ratio\", \"Year\", \"Source\"], axis=1, inplace = True)\n",
    "df.columns = [*df.columns[:-1], \"Age at first marriage\"]\n",
    "    \n",
    "df = normaliseCountryNames(df)\n",
    "\n",
    "#the_final_table = pd.merge(the_final_table, df, on='Country', how='outer')\n",
    "\n",
    "print(df.head(10000)) \n",
    "print(\"\\n\")"
   ],
   "metadata": {
    "collapsed": false,
    "ExecuteTime": {
     "end_time": "2023-12-06T00:53:28.121517900Z",
     "start_time": "2023-12-06T00:53:17.150844200Z"
    }
   }
  },
  {
   "cell_type": "code",
   "execution_count": 156,
   "outputs": [
    {
     "name": "stdout",
     "output_type": "stream",
     "text": [
      "200\n",
      "                    Country Spending on education (% of GDP)\n",
      "0          Marshall Islands                             15.8\n",
      "1                      Cuba                             12.9\n",
      "2     Micronesia, Fed. Sts.                             12.5\n",
      "3                  Kiribati                             12.0\n",
      "4                   Somalia                              9.6\n",
      "..                      ...                              ...\n",
      "193                 Somalia                             n.a.\n",
      "194  Bosnia and Herzegovina                             n.a.\n",
      "195              Montenegro                             n.a.\n",
      "196             North Korea                             n.a.\n",
      "197        Papua New Guinea                             n.a.\n",
      "\n",
      "[198 rows x 2 columns]\n"
     ]
    }
   ],
   "source": [
    "#34. List of countries by spending on education as percentage of GDP\n",
    " \n",
    "spending_education = getDataFrameFromWikipedia(\"https://en.wikipedia.org/wiki/List_of_countries_by_spending_on_education_as_percentage_of_GDP\", 1)\n",
    "    \n",
    "df = spending_education\n",
    "    \n",
    "df.drop([\"Year\", \"Source\"], axis=1, inplace= True)\n",
    "df.columns = [*df.columns[:-1], \"Spending on education (% of GDP)\"]\n",
    "    \n",
    "df = normaliseCountryNames(df)\n",
    "\n",
    "#the_final_table = pd.merge(the_final_table, df, on='Country', how='outer')\n",
    "\n",
    "print(df.head(10000))    \n",
    "    "
   ],
   "metadata": {
    "collapsed": false,
    "ExecuteTime": {
     "end_time": "2023-12-06T00:53:41.276088500Z",
     "start_time": "2023-12-06T00:53:28.121517900Z"
    }
   }
  },
  {
   "cell_type": "code",
   "execution_count": 157,
   "outputs": [
    {
     "name": "stdout",
     "output_type": "stream",
     "text": [
      "200\n",
      "          Country  Homeless population per 10k\n",
      "0     Afghanistan                       1180.0\n",
      "1         Albania                        121.0\n",
      "2       Australia                         48.0\n",
      "3         Austria                         25.4\n",
      "4      Azerbaijan                        725.0\n",
      "..            ...                          ...\n",
      "86  United States                         17.5\n",
      "87        Vatican                          0.0\n",
      "88        Vietnam                         16.6\n",
      "89          Yemen                       1294.0\n",
      "90       Zimbabwe                        848.0\n",
      "\n",
      "[91 rows x 2 columns]\n"
     ]
    }
   ],
   "source": [
    "#35. List of sovereign states by homeless population\n",
    "\n",
    "homeless_pop = getDataFrameFromWikipedia(\"https://en.wikipedia.org/wiki/List_of_sovereign_states_by_homeless_population\", 1)\n",
    "    \n",
    "df = homeless_pop\n",
    "\n",
    "df.drop([\"Homeless (average day)\", \"Data year\", \"Unsheltered per 10k\", \"Main article, other notes\", \"Unnamed: 6\"], axis=1, inplace=True)\n",
    "df.columns = [*df.columns[:-1], \"Homeless population per 10k\"] \n",
    "    \n",
    "df = normaliseCountryNames(df)\n",
    "\n",
    "#the_final_table = pd.merge(the_final_table, df, on='Country', how='outer')\n",
    "\n",
    "print(df.head(10000))    "
   ],
   "metadata": {
    "collapsed": false,
    "ExecuteTime": {
     "end_time": "2023-12-06T00:53:47.976838500Z",
     "start_time": "2023-12-06T00:53:41.282073100Z"
    }
   }
  },
  {
   "cell_type": "code",
   "execution_count": 158,
   "outputs": [
    {
     "name": "stdout",
     "output_type": "stream",
     "text": [
      "200\n"
     ]
    },
    {
     "name": "stderr",
     "output_type": "stream",
     "text": [
      "Netherlands Antilles not found in regex\n"
     ]
    },
    {
     "name": "stdout",
     "output_type": "stream",
     "text": [
      "         Country  Milk consumption per capita\n",
      "0        Finland                       430.76\n",
      "1     Montenegro                       349.21\n",
      "2    Netherlands                       341.47\n",
      "3         Sweden                       341.23\n",
      "4    Switzerland                       318.69\n",
      "..           ...                          ...\n",
      "178  North Korea                         3.79\n",
      "179     Cambodia                         3.47\n",
      "180         Laos                         2.92\n",
      "181      Liberia                         3.04\n",
      "182     DR Congo                          NaN\n",
      "\n",
      "[182 rows x 2 columns]\n"
     ]
    }
   ],
   "source": [
    "#36. List of countries by milk consumption per capita\n",
    "\n",
    "milk_consumption = getDataFrameFromWikipedia(\"https://en.wikipedia.org/wiki/List_of_countries_by_milk_consumption_per_capita\", 1)\n",
    "    \n",
    "df = milk_consumption\n",
    "\n",
    "df.drop([\"Rank\", \"Change in rank 2013/2007\", \"Milk consumption 2007 (kg/capita/yr) [2]\"], axis=1, inplace=True)\n",
    "df.columns = [*df.columns[:-1], \"Milk consumption per capita\"] \n",
    "    \n",
    "df = normaliseCountryNames(df)\n",
    "\n",
    "#the_final_table = pd.merge(the_final_table, df, on='Country', how='outer')\n",
    "\n",
    "print(df.head(10000))  "
   ],
   "metadata": {
    "collapsed": false,
    "ExecuteTime": {
     "end_time": "2023-12-06T00:54:00.137232400Z",
     "start_time": "2023-12-06T00:53:47.983818800Z"
    }
   }
  },
  {
   "cell_type": "code",
   "execution_count": 159,
   "outputs": [
    {
     "name": "stdout",
     "output_type": "stream",
     "text": [
      "200\n"
     ]
    },
    {
     "name": "stderr",
     "output_type": "stream",
     "text": [
      "World not found in regex\n"
     ]
    },
    {
     "name": "stdout",
     "output_type": "stream",
     "text": [
      "                            Country  Number of scientific publications\n",
      "0                             China                             744042\n",
      "1                     United States                             624554\n",
      "2                    United Kingdom                             198500\n",
      "3                             India                             191590\n",
      "4                           Germany                             174524\n",
      "..                              ...                                ...\n",
      "224  Svalbard and Jan Mayen Islands                                  3\n",
      "225                          Tuvalu                                  2\n",
      "226         St. Pierre and Miquelon                                  1\n",
      "227                         Tokelau                                  1\n",
      "228     French Southern Territories                                  1\n",
      "\n",
      "[229 rows x 2 columns]\n"
     ]
    }
   ],
   "source": [
    "#37. List of countries by number of scientific and technical journal articles\n",
    "\n",
    "sci_publi = getDataFrameFromWikipedia(\"https://en.wikipedia.org/wiki/List_of_countries_by_number_of_scientific_and_technical_journal_articles\", 1)\n",
    "    \n",
    "df = sci_publi\n",
    "\n",
    "df.drop([\"Rank\", \"Scientific publications per capita (per million)\"], axis=1, inplace=True)\n",
    "df.columns = [*df.columns[:-1], \"Number of scientific publications\"] \n",
    "    \n",
    "df = normaliseCountryNames(df)\n",
    "\n",
    "#the_final_table = pd.merge(the_final_table, df, on='Country', how='outer')\n",
    "\n",
    "print(df.head(10000))  "
   ],
   "metadata": {
    "collapsed": false,
    "ExecuteTime": {
     "end_time": "2023-12-06T00:54:12.888669100Z",
     "start_time": "2023-12-06T00:54:00.143244300Z"
    }
   }
  },
  {
   "cell_type": "code",
   "execution_count": 160,
   "outputs": [
    {
     "name": "stdout",
     "output_type": "stream",
     "text": [
      "200\n",
      "            Country Books published per year\n",
      "0     United States                   275232\n",
      "1             China                   208418\n",
      "2    United Kingdom                   186000\n",
      "3             Japan                   139078\n",
      "4         Indonesia                   135081\n",
      "..              ...                      ...\n",
      "128          Angola                       22\n",
      "129          Gambia                       14\n",
      "130            Mali                       14\n",
      "131    Burkina Faso                       12\n",
      "132            Oman                        7\n",
      "\n",
      "[133 rows x 2 columns]\n"
     ]
    }
   ],
   "source": [
    "#38. Books published per country per year\n",
    "\n",
    "books_publi = getDataFrameFromWikipedia(\"https://en.wikipedia.org/wiki/Books_published_per_country_per_year\", 1)\n",
    "    \n",
    "df = books_publi\n",
    "\n",
    "df.drop([\"Rank\", \"Year\", \"Notes\", \"References\"], axis=1, inplace=True)\n",
    "df.columns = [*df.columns[:-1], \"Books published per year\"] \n",
    "    \n",
    "df = normaliseCountryNames(df)\n",
    "\n",
    "#the_final_table = pd.merge(the_final_table, df, on='Country', how='outer')\n",
    "\n",
    "print(df.head(10000))  \n"
   ],
   "metadata": {
    "collapsed": false,
    "ExecuteTime": {
     "end_time": "2023-12-06T02:48:41.461955Z",
     "start_time": "2023-12-06T02:48:33.261903800Z"
    }
   }
  },
  {
   "cell_type": "code",
   "execution_count": 162,
   "outputs": [
    {
     "name": "stdout",
     "output_type": "stream",
     "text": [
      "200\n"
     ]
    },
    {
     "name": "stderr",
     "output_type": "stream",
     "text": [
      "C:\\Users\\Tarik\\AppData\\Local\\Temp\\ipykernel_28080\\3358009269.py:7: PerformanceWarning: dropping on a non-lexsorted multi-index without a level parameter may impact performance.\n",
      "  df.drop([\"Rank\", ('Average daily dietary energy consumption per capita[8]', 'Year')], axis=1, inplace=True)\n",
      "More than one regular expression match for New Caledonia (France)\n",
      "More than one regular expression match for New Caledonia (France)\n",
      "More than one regular expression match for New Caledonia (France)\n",
      "More than one regular expression match for New Caledonia (France)\n",
      "More than one regular expression match for New Caledonia (France)\n",
      "More than one regular expression match for New Caledonia (France)\n",
      "More than one regular expression match for New Caledonia (France)\n",
      "More than one regular expression match for New Caledonia (France)\n",
      "More than one regular expression match for New Caledonia (France)\n",
      "More than one regular expression match for New Caledonia (France)\n",
      "More than one regular expression match for New Caledonia (France)\n",
      "More than one regular expression match for New Caledonia (France)\n",
      "More than one regular expression match for New Caledonia (France)\n",
      "More than one regular expression match for New Caledonia (France)\n",
      "More than one regular expression match for New Caledonia (France)\n",
      "More than one regular expression match for New Caledonia (France)\n",
      "More than one regular expression match for New Caledonia (France)\n",
      "More than one regular expression match for New Caledonia (France)\n",
      "More than one regular expression match for New Caledonia (France)\n",
      "More than one regular expression match for New Caledonia (France)\n",
      "More than one regular expression match for New Caledonia (France)\n",
      "More than one regular expression match for New Caledonia (France)\n",
      "More than one regular expression match for New Caledonia (France)\n",
      "More than one regular expression match for New Caledonia (France)\n",
      "More than one regular expression match for New Caledonia (France)\n",
      "More than one regular expression match for New Caledonia (France)\n",
      "More than one regular expression match for New Caledonia (France)\n",
      "More than one regular expression match for New Caledonia (France)\n",
      "More than one regular expression match for New Caledonia (France)\n",
      "More than one regular expression match for New Caledonia (France)\n",
      "More than one regular expression match for New Caledonia (France)\n",
      "More than one regular expression match for New Caledonia (France)\n",
      "More than one regular expression match for New Caledonia (France)\n",
      "More than one regular expression match for New Caledonia (France)\n",
      "More than one regular expression match for New Caledonia (France)\n",
      "More than one regular expression match for New Caledonia (France)\n",
      "More than one regular expression match for New Caledonia (France)\n",
      "More than one regular expression match for New Caledonia (France)\n",
      "More than one regular expression match for New Caledonia (France)\n",
      "More than one regular expression match for New Caledonia (France)\n",
      "More than one regular expression match for New Caledonia (France)\n",
      "More than one regular expression match for New Caledonia (France)\n",
      "More than one regular expression match for New Caledonia (France)\n",
      "More than one regular expression match for New Caledonia (France)\n",
      "More than one regular expression match for New Caledonia (France)\n",
      "More than one regular expression match for New Caledonia (France)\n",
      "More than one regular expression match for New Caledonia (France)\n",
      "More than one regular expression match for New Caledonia (France)\n",
      "More than one regular expression match for New Caledonia (France)\n",
      "More than one regular expression match for New Caledonia (France)\n",
      "More than one regular expression match for New Caledonia (France)\n",
      "More than one regular expression match for New Caledonia (France)\n",
      "More than one regular expression match for New Caledonia (France)\n",
      "More than one regular expression match for New Caledonia (France)\n",
      "More than one regular expression match for New Caledonia (France)\n",
      "More than one regular expression match for New Caledonia (France)\n",
      "More than one regular expression match for New Caledonia (France)\n",
      "More than one regular expression match for New Caledonia (France)\n",
      "More than one regular expression match for New Caledonia (France)\n",
      "More than one regular expression match for New Caledonia (France)\n",
      "More than one regular expression match for New Caledonia (France)\n",
      "More than one regular expression match for New Caledonia (France)\n",
      "More than one regular expression match for New Caledonia (France)\n",
      "More than one regular expression match for New Caledonia (France)\n",
      "More than one regular expression match for New Caledonia (France)\n",
      "More than one regular expression match for New Caledonia (France)\n",
      "More than one regular expression match for New Caledonia (France)\n",
      "More than one regular expression match for New Caledonia (France)\n",
      "More than one regular expression match for New Caledonia (France)\n",
      "More than one regular expression match for New Caledonia (France)\n",
      "More than one regular expression match for New Caledonia (France)\n",
      "More than one regular expression match for New Caledonia (France)\n",
      "More than one regular expression match for New Caledonia (France)\n",
      "More than one regular expression match for New Caledonia (France)\n",
      "More than one regular expression match for New Caledonia (France)\n",
      "More than one regular expression match for New Caledonia (France)\n",
      "More than one regular expression match for New Caledonia (France)\n",
      "More than one regular expression match for New Caledonia (France)\n",
      "More than one regular expression match for New Caledonia (France)\n",
      "More than one regular expression match for New Caledonia (France)\n",
      "More than one regular expression match for New Caledonia (France)\n",
      "More than one regular expression match for New Caledonia (France)\n",
      "More than one regular expression match for New Caledonia (France)\n",
      "More than one regular expression match for New Caledonia (France)\n",
      "More than one regular expression match for New Caledonia (France)\n",
      "More than one regular expression match for New Caledonia (France)\n",
      "More than one regular expression match for New Caledonia (France)\n",
      "More than one regular expression match for New Caledonia (France)\n",
      "More than one regular expression match for New Caledonia (France)\n",
      "More than one regular expression match for New Caledonia (France)\n",
      "More than one regular expression match for New Caledonia (France)\n",
      "More than one regular expression match for New Caledonia (France)\n",
      "More than one regular expression match for New Caledonia (France)\n"
     ]
    },
    {
     "name": "stdout",
     "output_type": "stream",
     "text": [
      "                      Country  Average kilocalories consumption per capita\n",
      "0                     Ireland                                         3885\n",
      "1               United States                                         3782\n",
      "2                     Belgium                                         3769\n",
      "3                     Türkiye                                         3711\n",
      "4                     Austria                                         3695\n",
      "..                        ...                                          ...\n",
      "166                    Zambia                                         2002\n",
      "167                    Uganda                                         1981\n",
      "168                Madagascar                                         1938\n",
      "169                  Zimbabwe                                         1908\n",
      "170  Central African Republic                                         1786\n",
      "\n",
      "[171 rows x 2 columns]\n"
     ]
    }
   ],
   "source": [
    "#39. List of countries by food energy intake\n",
    "\n",
    "kilocal = getDataFrameFromWikipedia(\"https://en.wikipedia.org/wiki/List_of_countries_by_food_energy_intake\", 1)\n",
    "    \n",
    "df = kilocal\n",
    "\n",
    "df.drop([\"Rank\", ('Average daily dietary energy consumption per capita[8]', 'Year')], axis=1, inplace=True)\n",
    "df.columns = [*df.columns[:-1], \"Average daily dietary energy consumption per capita (kcal)\"] \n",
    "    \n",
    "df = normaliseCountryNames(df)\n",
    "\n",
    "#the_final_table = pd.merge(the_final_table, df, on='Country', how='outer')\n",
    "\n",
    "print(df.head(10000))  "
   ],
   "metadata": {
    "collapsed": false,
    "ExecuteTime": {
     "end_time": "2023-12-06T02:55:10.608580500Z",
     "start_time": "2023-12-06T02:55:00.188407700Z"
    }
   }
  },
  {
   "cell_type": "code",
   "execution_count": 163,
   "outputs": [
    {
     "name": "stdout",
     "output_type": "stream",
     "text": [
      "200\n",
      "          Country Average yearly temperature from 1961 to 1990 (°C)\n",
      "0    Burkina Faso                                             28.29\n",
      "1            Mali                                             28.25\n",
      "2        Kiribati                                             28.20\n",
      "3        Djibouti                                             28.00\n",
      "4        Maldives                                             28.00\n",
      "..            ...                                               ...\n",
      "187       Finland                                             01.55\n",
      "188        Norway                                             01.50\n",
      "189       Iceland                                             −0.70\n",
      "190        Canada                                             −5.10\n",
      "191        Russia                                             −5.35\n",
      "\n",
      "[192 rows x 2 columns]\n"
     ]
    }
   ],
   "source": [
    "#40. List of countries by average yearly temperature\n",
    "\n",
    "temp_celsius_avg = getDataFrameFromWikipedia(\"https://en.wikipedia.org/wiki/List_of_countries_by_average_yearly_temperature\", 1)\n",
    "    \n",
    "df = temp_celsius_avg\n",
    "\n",
    "df.columns = [*df.columns[:-1], \"Average yearly temperature from 1961 to 1990 (°C)\"] \n",
    "    \n",
    "df = normaliseCountryNames(df)\n",
    "\n",
    "#the_final_table = pd.merge(the_final_table, df, on='Country', how='outer')\n",
    "\n",
    "print(df.head(10000))  \n"
   ],
   "metadata": {
    "collapsed": false,
    "ExecuteTime": {
     "end_time": "2023-12-06T02:58:22.151341800Z",
     "start_time": "2023-12-06T02:58:11.388114800Z"
    }
   }
  }
 ],
 "metadata": {
  "kernelspec": {
   "display_name": "Python 3",
   "language": "python",
   "name": "python3"
  },
  "language_info": {
   "codemirror_mode": {
    "name": "ipython",
    "version": 3
   },
   "file_extension": ".py",
   "mimetype": "text/x-python",
   "name": "python",
   "nbconvert_exporter": "python",
   "pygments_lexer": "ipython3",
   "version": "3.10.13"
  }
 },
 "nbformat": 4,
 "nbformat_minor": 2
}
