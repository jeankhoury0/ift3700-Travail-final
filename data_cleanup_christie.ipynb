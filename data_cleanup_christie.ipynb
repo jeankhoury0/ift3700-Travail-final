{
 "cells": [
  {
   "cell_type": "code",
   "execution_count": 18,
   "metadata": {},
   "outputs": [
    {
     "name": "stdout",
     "output_type": "stream",
     "text": [
      "Collecting lxml\n",
      "  Obtaining dependency information for lxml from https://files.pythonhosted.org/packages/78/8d/96b95d704fab4a95651ceeb6022855ae5a3c631f86c6647749a2e868af92/lxml-4.9.3-cp310-cp310-macosx_11_0_x86_64.whl.metadata\n",
      "  Downloading lxml-4.9.3-cp310-cp310-macosx_11_0_x86_64.whl.metadata (3.8 kB)\n",
      "Downloading lxml-4.9.3-cp310-cp310-macosx_11_0_x86_64.whl (4.8 MB)\n",
      "\u001b[2K   \u001b[90m━━━━━━━━━━━━━━━━━━━━━━━━━━━━━━━━━━━━━━━━\u001b[0m \u001b[32m4.8/4.8 MB\u001b[0m \u001b[31m6.2 MB/s\u001b[0m eta \u001b[36m0:00:00\u001b[0m00:01\u001b[0m00:01\u001b[0m\n",
      "\u001b[?25hInstalling collected packages: lxml\n",
      "Successfully installed lxml-4.9.3\n"
     ]
    }
   ],
   "source": [
    "!pip install lxml\n"
   ]
  },
  {
   "cell_type": "code",
   "execution_count": 145,
   "metadata": {},
   "outputs": [],
   "source": [
    "import pandas as pd\n",
    "import requests\n",
    "from bs4 import BeautifulSoup\n",
    "import country_converter as coco"
   ]
  },
  {
   "cell_type": "markdown",
   "metadata": {},
   "source": [
    "## Get the data\n",
    "The function bellow is used to extract the first table present in a wikipedia Page"
   ]
  },
  {
   "cell_type": "code",
   "execution_count": 146,
   "metadata": {},
   "outputs": [],
   "source": [
    "\n",
    "def getDataFrameFromWikipedia(wikipedia_url, table_no=1):\n",
    "    \"\"\"\n",
    "    returns a dataframe of the data from the wikipedia page. \\n\n",
    "    optionaly, if there are multiple tables on the page, you can specify which table to use in `table_no`.\n",
    "    \"\"\"\n",
    "    response = requests.get(wikipedia_url)\n",
    "    print(response.status_code)\n",
    "    soup = BeautifulSoup(response.text, 'html.parser')\n",
    "    tables = soup.findAll('table', {'class': 'wikitable'})\n",
    "    \n",
    "    if table_no >= 1 and table_no <= len(tables):\n",
    "        df = pd.read_html(str(tables[table_no - 1]))[0]\n",
    "        return df\n",
    "    else:\n",
    "        return None"
   ]
  },
  {
   "cell_type": "markdown",
   "metadata": {},
   "source": [
    "## Normalise the country\n",
    "- As there are no standerdised way to get countries, we use a library called `country_converter` to convert countries for us.\n",
    "- Some country might not exist (Channel Islands, European Union, World...), in that case, we just drop the whole record for this country"
   ]
  },
  {
   "cell_type": "code",
   "execution_count": 147,
   "metadata": {},
   "outputs": [],
   "source": [
    "def normaliseCountryNames(df):\n",
    "    df.columns.values[0] = 'Country'\n",
    "    df['Country'] = df['Country'].apply(lambda x: coco.convert(names=x, to='name_short', not_found='not found'))\n",
    "    df = df[df['Country'] != 'not found']\n",
    "    return df"
   ]
  },
  {
   "cell_type": "markdown",
   "metadata": {},
   "source": [
    "## All column"
   ]
  },
  {
   "cell_type": "code",
   "execution_count": 148,
   "metadata": {},
   "outputs": [],
   "source": [
    "the_final_table = []"
   ]
  },
  {
   "cell_type": "code",
   "execution_count": 149,
   "metadata": {},
   "outputs": [
    {
     "name": "stdout",
     "output_type": "stream",
     "text": [
      "200\n"
     ]
    },
    {
     "name": "stderr",
     "output_type": "stream",
     "text": [
      "/var/folders/p_/y91nv_9n4pd_cdyjthbpxm900000gn/T/ipykernel_12771/3126715534.py:12: FutureWarning: Passing literal html to 'read_html' is deprecated and will be removed in a future version. To read from a literal string, wrap it in a 'StringIO' object.\n",
      "  df = pd.read_html(str(tables[table_no - 1]))[0]\n",
      "/var/folders/p_/y91nv_9n4pd_cdyjthbpxm900000gn/T/ipykernel_12771/563173382.py:7: PerformanceWarning: dropping on a non-lexsorted multi-index without a level parameter may impact performance.\n",
      "  df = df.drop([\"IMF[4][5]\", \"United Nations[7]\"], axis = 1)\n",
      "Channel Islands not found in regex\n",
      "European Union[n 1] not found in regex\n",
      "World not found in regex\n",
      "Zanzibar not found in regex\n"
     ]
    },
    {
     "name": "stdout",
     "output_type": "stream",
     "text": [
      "           Country World Bank[6]\n",
      "1           Monaco        234317\n",
      "2    Liechtenstein        184083\n",
      "3       Luxembourg        126426\n",
      "4          Bermuda        118846\n",
      "5          Ireland        104039\n",
      "..             ...           ...\n",
      "219     Madagascar           505\n",
      "220    South Sudan          1072\n",
      "221   Sierra Leone           461\n",
      "222    Afghanistan           364\n",
      "223        Burundi           238\n",
      "\n",
      "[219 rows x 2 columns]\n"
     ]
    }
   ],
   "source": [
    "## GET GDP PER CAPITA\n",
    "\n",
    "gdp_per_capita = getDataFrameFromWikipedia(\"https://en.wikipedia.org/wiki/List_of_countries_by_GDP_(nominal)_per_capita\")\n",
    "\n",
    "df= gdp_per_capita\n",
    "\n",
    "df = df.drop([\"IMF[4][5]\", \"United Nations[7]\"], axis = 1)\n",
    "df = df.drop(0)\n",
    "df.columns = df.columns.droplevel(-1)\n",
    "df.columns = [*df.columns[:-1], 'years']\n",
    "df.columns.values[0] = 'Country'\n",
    "\n",
    "df = df.drop([\"UN Region\", \"years\"], axis = 1)\n",
    "\n",
    "\n",
    "df = normaliseCountryNames(df)\n",
    "\n",
    "the_final_table = df\n",
    "\n",
    "print(df.head(10000)) "
   ]
  },
  {
   "cell_type": "code",
   "execution_count": 150,
   "metadata": {},
   "outputs": [
    {
     "name": "stdout",
     "output_type": "stream",
     "text": [
      "200\n"
     ]
    },
    {
     "name": "stderr",
     "output_type": "stream",
     "text": [
      "/var/folders/p_/y91nv_9n4pd_cdyjthbpxm900000gn/T/ipykernel_12771/3126715534.py:12: FutureWarning: Passing literal html to 'read_html' is deprecated and will be removed in a future version. To read from a literal string, wrap it in a 'StringIO' object.\n",
      "  df = pd.read_html(str(tables[table_no - 1]))[0]\n"
     ]
    },
    {
     "name": "stdout",
     "output_type": "stream",
     "text": [
      "             Country  Average download speed (Mbit/s)\n",
      "0            Romania                           178.90\n",
      "1        South Korea                           241.58\n",
      "2          Hong Kong                           265.17\n",
      "3             Monaco                           220.35\n",
      "4          Singapore                           259.11\n",
      "..               ...                              ...\n",
      "96          Dominica                            37.62\n",
      "97   North Macedonia                            37.20\n",
      "98            Greece                            36.73\n",
      "99        Bangladesh                            36.02\n",
      "100          Senegal                            35.32\n",
      "\n",
      "[101 rows x 2 columns]\n"
     ]
    }
   ],
   "source": [
    "# List of countries by Internet connection speeds, Fixed broadband, Average download speed (Mbit/s) (Ookla).\n",
    "\n",
    "internet_speed = getDataFrameFromWikipedia(\"https://en.wikipedia.org/wiki/List_of_countries_by_Internet_connection_speeds\")\n",
    "\n",
    "df = internet_speed\n",
    "df = df.drop([\"Rank\", \"Averagedownloadspeed(Mbit/s)(M-Lab)[2]\", \"Averagedownloadspeed(Mbit/s)(SpeedTestNet.io)\", \"Averagedownloadspeed(Mbit/s)(Speed-Test-Pros.com)[4]\"], axis = 1)\n",
    "df.columns = [*df.columns[:-1], \"Average download speed (Mbit/s)\"]\n",
    "df = normaliseCountryNames(df)\n",
    "\n",
    "the_final_table = pd.merge(the_final_table, df, on='Country', how='outer')\n",
    "\n",
    "print(df.head(10000)) "
   ]
  },
  {
   "cell_type": "code",
   "execution_count": 151,
   "metadata": {},
   "outputs": [
    {
     "name": "stdout",
     "output_type": "stream",
     "text": [
      "200\n"
     ]
    },
    {
     "name": "stderr",
     "output_type": "stream",
     "text": [
      "/var/folders/p_/y91nv_9n4pd_cdyjthbpxm900000gn/T/ipykernel_12771/3126715534.py:12: FutureWarning: Passing literal html to 'read_html' is deprecated and will be removed in a future version. To read from a literal string, wrap it in a 'StringIO' object.\n",
      "  df = pd.read_html(str(tables[table_no - 1]))[0]\n",
      "Netherlands Antilles not found in regex\n"
     ]
    },
    {
     "name": "stdout",
     "output_type": "stream",
     "text": [
      "         Country Alcohiol consumption per capita (litres) 2016\n",
      "0    Afghanistan                                           0.2\n",
      "1        Albania                                           7.5\n",
      "2        Algeria                                           0.9\n",
      "3        Andorra                                          11.3\n",
      "4         Angola                                           6.4\n",
      "..           ...                                           ...\n",
      "186    Venezuela                                           5.6\n",
      "187      Vietnam                                           8.3\n",
      "188        Yemen                                           0.1\n",
      "189       Zambia                                           4.8\n",
      "190     Zimbabwe                                           4.8\n",
      "\n",
      "[190 rows x 2 columns]\n"
     ]
    }
   ],
   "source": [
    "# List of countries by alcohol consumption per capita, Recorded per capita consumption of pure alcohol (litres) per adult 15 years of age and over per year, 2016.\n",
    "alcohol_consumption = getDataFrameFromWikipedia(\"https://en.wikipedia.org/wiki/List_of_countries_by_alcohol_consumption_per_capita\")\n",
    "\n",
    "df = alcohol_consumption\n",
    "\n",
    "df = df.drop([\"1996[7]\"], axis = 1)\n",
    "df.columns = [*df.columns[:-1], \"Alcohiol consumption per capita (litres) 2016\"]\n",
    "df = normaliseCountryNames(df)\n",
    "\n",
    "the_final_table = pd.merge(the_final_table, df, on='Country', how='outer')\n",
    "\n",
    "print(df.head(10000))"
   ]
  },
  {
   "cell_type": "code",
   "execution_count": 152,
   "metadata": {},
   "outputs": [
    {
     "name": "stdout",
     "output_type": "stream",
     "text": [
      "200\n"
     ]
    },
    {
     "name": "stderr",
     "output_type": "stream",
     "text": [
      "/var/folders/p_/y91nv_9n4pd_cdyjthbpxm900000gn/T/ipykernel_12771/3126715534.py:12: FutureWarning: Passing literal html to 'read_html' is deprecated and will be removed in a future version. To read from a literal string, wrap it in a 'StringIO' object.\n",
      "  df = pd.read_html(str(tables[table_no - 1]))[0]\n",
      "Northern Ireland not found in regex\n",
      "Scotland not found in regex\n"
     ]
    },
    {
     "name": "stdout",
     "output_type": "stream",
     "text": [
      "            Country  Intentional homicide victims per 100,000 inhabitants\n",
      "0       Afghanistan                                                4.0   \n",
      "1           Albania                                                2.3   \n",
      "2           Algeria                                                1.6   \n",
      "3    American Samoa                                                0.0   \n",
      "4           Andorra                                                2.6   \n",
      "..              ...                                                ...   \n",
      "201       Venezuela                                               19.3   \n",
      "202         Vietnam                                                1.5   \n",
      "203           Yemen                                                6.3   \n",
      "204          Zambia                                                5.2   \n",
      "205        Zimbabwe                                                6.1   \n",
      "\n",
      "[204 rows x 2 columns]\n"
     ]
    }
   ],
   "source": [
    "# List of countries by intentional homicide rate, Intentional homicide victims per 100,000 inhabitants. From UNODC, rate.\n",
    "\n",
    "homicide_rate = getDataFrameFromWikipedia(\"https://en.wikipedia.org/wiki/List_of_countries_by_intentional_homicide_rate\",2)\n",
    "\n",
    "df = homicide_rate\n",
    "\n",
    "df = df.drop([\"Region\", \"Subregion\", \"Year\", \"Count\"], axis = 1)\n",
    "df.columns = [*df.columns[:-1], \"Intentional homicide victims per 100,000 inhabitants\"]\n",
    "df['Location'] = df['Location'].str.replace('*', '', regex=False).str.strip()\n",
    "df = df.rename(columns={'Location': 'Country'})\n",
    "df = normaliseCountryNames(df)\n",
    "\n",
    "the_final_table = pd.merge(the_final_table, df, on='Country', how='outer')\n",
    "\n",
    "print(df.head(10000))"
   ]
  },
  {
   "cell_type": "code",
   "execution_count": 153,
   "metadata": {},
   "outputs": [
    {
     "name": "stdout",
     "output_type": "stream",
     "text": [
      "200\n"
     ]
    },
    {
     "name": "stderr",
     "output_type": "stream",
     "text": [
      "/var/folders/p_/y91nv_9n4pd_cdyjthbpxm900000gn/T/ipykernel_12771/3126715534.py:12: FutureWarning: Passing literal html to 'read_html' is deprecated and will be removed in a future version. To read from a literal string, wrap it in a 'StringIO' object.\n",
      "  df = pd.read_html(str(tables[table_no - 1]))[0]\n",
      "Netherlands Antilles not found in regex\n"
     ]
    },
    {
     "name": "stdout",
     "output_type": "stream",
     "text": [
      "                       Country Muslim percentage of total population_islam\n",
      "0                  Afghanistan                                        99.7\n",
      "1                      Albania                                        58.8\n",
      "2                      Algeria                                          99\n",
      "3               American Samoa                                       < 0.1\n",
      "4                      Andorra                                         2.6\n",
      "..                         ...                                         ...\n",
      "227  Wallis and Futuna Islands                                       < 0.1\n",
      "228             Western Sahara                                        99.4\n",
      "229                      Yemen                                        97.2\n",
      "230                     Zambia                                           1\n",
      "231                   Zimbabwe                                         0.7\n",
      "\n",
      "[231 rows x 2 columns]\n"
     ]
    }
   ],
   "source": [
    "#11. Islam by country, Muslim percentage of total population\n",
    "islam_by_country = getDataFrameFromWikipedia(\"https://en.wikipedia.org/wiki/Islam_by_country\")\n",
    "df = islam_by_country\n",
    "df = df.drop([\"Total Population\", \"Muslim Population\", \"Percentage of world (%)\", \"Sources\"], axis = 1)\n",
    "df = df.drop([\"Unnamed: 6\"], axis = 1)\n",
    "df = df.rename(columns={'Country/Region': 'Country'})\n",
    "df = normaliseCountryNames(df)\n",
    "df = df.rename(columns={'Muslim percentage of total population': 'Muslim percentage of total population_islam'})\n",
    "\n",
    "the_final_table = pd.merge(the_final_table, df, on='Country', how='outer')\n",
    "print(df.head(10000))"
   ]
  },
  {
   "cell_type": "code",
   "execution_count": 154,
   "metadata": {},
   "outputs": [
    {
     "name": "stdout",
     "output_type": "stream",
     "text": [
      "200\n"
     ]
    },
    {
     "name": "stderr",
     "output_type": "stream",
     "text": [
      "/var/folders/p_/y91nv_9n4pd_cdyjthbpxm900000gn/T/ipykernel_12771/3126715534.py:12: FutureWarning: Passing literal html to 'read_html' is deprecated and will be removed in a future version. To read from a literal string, wrap it in a 'StringIO' object.\n",
      "  df = pd.read_html(str(tables[table_no - 1]))[0]\n",
      "/var/folders/p_/y91nv_9n4pd_cdyjthbpxm900000gn/T/ipykernel_12771/3145737077.py:5: PerformanceWarning: dropping on a non-lexsorted multi-index without a level parameter may impact performance.\n",
      "  df = df.drop([\"Pew estimates (2010)[1]\", \"Other estimates\"], axis = 1)\n",
      "World not found in regex\n"
     ]
    },
    {
     "name": "stdout",
     "output_type": "stream",
     "text": [
      "            Country Buddhist population by country, % population\n",
      "0       Afghanistan                                          NaN\n",
      "1           Albania                                          NaN\n",
      "2           Algeria                                          NaN\n",
      "3    American Samoa                                          NaN\n",
      "4           Andorra                                          NaN\n",
      "..              ...                                          ...\n",
      "174       Venezuela                                          NaN\n",
      "175         Vietnam                                          NaN\n",
      "176           Yemen                                          NaN\n",
      "177          Zambia                                          NaN\n",
      "178        Zimbabwe                                          NaN\n",
      "\n",
      "[179 rows x 2 columns]\n"
     ]
    }
   ],
   "source": [
    "#12 Buddhism by country, Buddhist population by country, % population.\n",
    "Buddhist_by_country = getDataFrameFromWikipedia(\"https://en.wikipedia.org/wiki/Buddhism_by_country\")\n",
    "\n",
    "df = Buddhist_by_country\n",
    "df = df.drop([\"Pew estimates (2010)[1]\", \"Other estimates\"], axis = 1)\n",
    "df.columns = df.columns.droplevel(0)\n",
    "df = df.drop([\"Population\", \"No. of Buddhists\", \"Census Year\"], axis = 1)\n",
    "#print(df.columns)\n",
    "\n",
    "df = df.rename(columns={'Country/Territory': 'Country'})\n",
    "df = df.rename(columns={'% Buddhist': 'Buddhist population by country, % population'})\n",
    "df = normaliseCountryNames(df)\n",
    "\n",
    "the_final_table = pd.merge(the_final_table, df, on='Country', how='outer')\n",
    "\n",
    "print(df.head(10000))"
   ]
  },
  {
   "cell_type": "code",
   "execution_count": 156,
   "metadata": {},
   "outputs": [
    {
     "name": "stdout",
     "output_type": "stream",
     "text": [
      "200\n"
     ]
    },
    {
     "name": "stderr",
     "output_type": "stream",
     "text": [
      "/var/folders/p_/y91nv_9n4pd_cdyjthbpxm900000gn/T/ipykernel_12771/3126715534.py:12: FutureWarning: Passing literal html to 'read_html' is deprecated and will be removed in a future version. To read from a literal string, wrap it in a 'StringIO' object.\n",
      "  df = pd.read_html(str(tables[table_no - 1]))[0]\n",
      "/var/folders/p_/y91nv_9n4pd_cdyjthbpxm900000gn/T/ipykernel_12771/2438867356.py:5: PerformanceWarning: dropping on a non-lexsorted multi-index without a level parameter may impact performance.\n",
      "  df = df.drop([\"Connected population\", \"Enlarged population\",\"Eligible population\",\"National official\"], axis = 1)\n",
      "Netherlands Antilles not found in regex\n",
      "World not found in regex\n"
     ]
    },
    {
     "name": "stdout",
     "output_type": "stream",
     "text": [
      "                    Country  pct\n",
      "0                    Israel   39\n",
      "1             United States   35\n",
      "2                    France  2.8\n",
      "3                 Palestine  2.7\n",
      "4                    Canada  2.4\n",
      "..                      ...  ...\n",
      "107                 Iceland    —\n",
      "108              Montenegro    —\n",
      "109  British Virgin Islands    —\n",
      "110           Liechtenstein    —\n",
      "111        Falkland Islands    —\n",
      "\n",
      "[111 rows x 2 columns]\n"
     ]
    }
   ],
   "source": [
    "#13 Jewish population by country, Table, Core population, pct\n",
    "Jewish_by_country = getDataFrameFromWikipedia(\"https://en.wikipedia.org/wiki/Jewish_population_by_country\")\n",
    "df = Jewish_by_country\n",
    "\n",
    "df = df.drop([\"Connected population\", \"Enlarged population\",\"Eligible population\",\"National official\"], axis = 1)\n",
    "\n",
    "df.columns = df.columns.droplevel(0)\n",
    "df = df.drop([\"Total\", \"pmp\"], axis = 1)\n",
    "df = df.rename(columns={'Countries': 'Country'})\n",
    "df = df.rename(columns={'% pct': 'Core population, pct'})\n",
    "#print(df.columns)\n",
    "\n",
    "df = normaliseCountryNames(df)\n",
    "\n",
    "\n",
    "the_final_table = pd.merge(the_final_table, df, on='Country', how='outer', suffixes=('_final', '_jewish'))\n",
    "\n",
    "\n",
    "print(df.head(10000))"
   ]
  },
  {
   "cell_type": "code",
   "execution_count": 157,
   "metadata": {},
   "outputs": [
    {
     "name": "stdout",
     "output_type": "stream",
     "text": [
      "200\n"
     ]
    },
    {
     "name": "stderr",
     "output_type": "stream",
     "text": [
      "/var/folders/p_/y91nv_9n4pd_cdyjthbpxm900000gn/T/ipykernel_12771/3126715534.py:12: FutureWarning: Passing literal html to 'read_html' is deprecated and will be removed in a future version. To read from a literal string, wrap it in a 'StringIO' object.\n",
      "  df = pd.read_html(str(tables[table_no - 1]))[0]\n",
      "disputed not found in regex\n",
      "Congo  not found in regex\n",
      "World not found in regex\n"
     ]
    },
    {
     "name": "stdout",
     "output_type": "stream",
     "text": [
      "                      Country  2019 estimates\n",
      "1                     Iceland            1.25\n",
      "2                       China            1.32\n",
      "3                   Singapore            1.63\n",
      "4                     Finland            1.71\n",
      "5                       Japan            1.76\n",
      "..                        ...             ...\n",
      "197                      Mali           65.80\n",
      "198                   Somalia           69.31\n",
      "199                      Chad           74.50\n",
      "200  Central African Republic           81.90\n",
      "201              Sierra Leone           80.77\n",
      "\n",
      "[199 rows x 2 columns]\n"
     ]
    }
   ],
   "source": [
    "#14 List of countries by infant and under-five mortality rates,  Under-five mortality (deaths/1,000 live births) – 2019 estimates\n",
    "mortality_rate = getDataFrameFromWikipedia(\"https://en.wikipedia.org/wiki/List_of_countries_by_infant_and_under-five_mortality_rates\",4)\n",
    "\n",
    "df = mortality_rate\n",
    "df = df.drop([\"1950-1955\", \"1955-1960\",'1960-1965', '1965-1970',\n",
    "       '1970-1975', '1975-1980', '1980-1985', '1985-1990', '1990-1995',\n",
    "       '1995-2000', '2000-2005', '2005-2010', '2010-2015', 'To CIA estimates'], axis = 1)\n",
    "df = df.drop(0)\n",
    "\n",
    "df = df.rename(columns={'Location [Note 1]': 'Country'})\n",
    "df = df.rename(columns={'2015-2020': '2019 estimates'})\n",
    "\n",
    "df['Country'] = df['Country'].str.rstrip(' *')\n",
    "\n",
    "for index, row in df.iterrows():\n",
    "    if '(' in row['Country'] and ')' in row['Country']:\n",
    "        df.at[index, 'Country'] = row['Country'].split('(', 1)[1].split(')', 1)[0]\n",
    "\n",
    "df.columns.values[0] = 'Country'\n",
    "\n",
    "\n",
    "df = normaliseCountryNames(df)\n",
    "\n",
    "\n",
    "the_final_table = pd.merge(the_final_table, df, on='Country', how='outer')\n",
    "\n",
    "\n",
    "print(df.head(10000))\n"
   ]
  },
  {
   "cell_type": "code",
   "execution_count": 158,
   "metadata": {},
   "outputs": [
    {
     "name": "stdout",
     "output_type": "stream",
     "text": [
      "200\n"
     ]
    },
    {
     "name": "stderr",
     "output_type": "stream",
     "text": [
      "/var/folders/p_/y91nv_9n4pd_cdyjthbpxm900000gn/T/ipykernel_12771/3126715534.py:12: FutureWarning: Passing literal html to 'read_html' is deprecated and will be removed in a future version. To read from a literal string, wrap it in a 'StringIO' object.\n",
      "  df = pd.read_html(str(tables[table_no - 1]))[0]\n"
     ]
    },
    {
     "name": "stdout",
     "output_type": "stream",
     "text": [
      "         Country By country, age reduced\n",
      "0    Afghanistan                      12\n",
      "1        Albania                      14\n",
      "2        Algeria                      13\n",
      "3        Andorra                      12\n",
      "4         Angola                      14\n",
      "..           ...                     ...\n",
      "165      Vanuatu                      10\n",
      "166      Vietnam                      14\n",
      "167        Yemen                       7\n",
      "168       Zambia                       8\n",
      "169     Zimbabwe                       7\n",
      "\n",
      "[170 rows x 2 columns]\n"
     ]
    }
   ],
   "source": [
    "#15 Age of criminal responsibility, By country, age reduced\n",
    "\n",
    "Age= getDataFrameFromWikipedia(\"https://en.wikipedia.org/wiki/Age_of_criminal_responsibility\")\n",
    "\n",
    "df = Age\n",
    "\n",
    "\n",
    "df = df.drop([\"Age (full)[b]\", \"Ref\",\"Notes\"], axis = 1)\n",
    "\n",
    "df = df.rename(columns={'Country': 'Country'})\n",
    "df = df.rename(columns={'Age (reduced)[a]': 'By country, age reduced'})\n",
    "\n",
    "for index, row in df.iterrows():\n",
    "    if '(' in row['Country'] and ')' in row['Country']:\n",
    "        df.at[index, 'Country'] = row['Country'].split('(', 1)[1].split(')', 1)[0].strip()\n",
    "    else:\n",
    "        df.at[index, 'Country'] = row['Country'].strip()\n",
    "df = normaliseCountryNames(df)\n",
    "\n",
    "the_final_table = pd.merge(the_final_table, df, on='Country', how='outer', suffixes=('_final', '_age_reduced'))\n",
    "\n",
    "print(df.head(10000))"
   ]
  },
  {
   "cell_type": "code",
   "execution_count": 159,
   "metadata": {},
   "outputs": [
    {
     "name": "stdout",
     "output_type": "stream",
     "text": [
      "200\n"
     ]
    },
    {
     "name": "stderr",
     "output_type": "stream",
     "text": [
      "/var/folders/p_/y91nv_9n4pd_cdyjthbpxm900000gn/T/ipykernel_12771/3126715534.py:12: FutureWarning: Passing literal html to 'read_html' is deprecated and will be removed in a future version. To read from a literal string, wrap it in a 'StringIO' object.\n",
      "  df = pd.read_html(str(tables[table_no - 1]))[0]\n",
      "/var/folders/p_/y91nv_9n4pd_cdyjthbpxm900000gn/T/ipykernel_12771/4045473643.py:5: PerformanceWarning: dropping on a non-lexsorted multi-index without a level parameter may impact performance.\n",
      "  df = df.drop([\"Minimum wage\", \"Workweek (hours)[4]\",\"Hourly\",\"Effective per\"], axis = 1)\n"
     ]
    },
    {
     "name": "stdout",
     "output_type": "stream",
     "text": [
      "         Country  Annual US$\n",
      "1    Afghanistan      858.00\n",
      "2        Albania     4637.00\n",
      "3        Algeria     1777.00\n",
      "4        Andorra    18253.00\n",
      "5         Angola      663.00\n",
      "..           ...         ...\n",
      "197    Venezuela       10.32\n",
      "198      Vietnam     1591.00\n",
      "199        Yemen         NaN\n",
      "200       Zambia      596.00\n",
      "201     Zimbabwe         NaN\n",
      "\n",
      "[201 rows x 2 columns]\n"
     ]
    }
   ],
   "source": [
    "#16 List of countries by minimum wage, List, Annual, US$.\n",
    "list = getDataFrameFromWikipedia(\"https://en.wikipedia.org/wiki/List_of_countries_by_minimum_wage\")\n",
    "df = list\n",
    "\n",
    "df = df.drop([\"Minimum wage\", \"Workweek (hours)[4]\",\"Hourly\",\"Effective per\"], axis = 1)\n",
    "\n",
    "\n",
    "df.columns = df.columns.droplevel(0)\n",
    "\n",
    "df = df.drop([\"PPP (Int$)[7]\"], axis = 1)\n",
    "df = df.drop(0)\n",
    "df = df.iloc[:, :-1]\n",
    "\n",
    "df = df.rename(columns={'Country': 'Country'})\n",
    "df = df.rename(columns={'Nominal (US$)[6]': 'Annual US$'})\n",
    "#print(df.columns)\n",
    "\n",
    "df = normaliseCountryNames(df)\n",
    "\n",
    "\n",
    "the_final_table = pd.merge(the_final_table, df, on='Country', how='outer')\n",
    "\n",
    "\n",
    "print(df.head(10000))\n"
   ]
  },
  {
   "cell_type": "code",
   "execution_count": 160,
   "metadata": {},
   "outputs": [
    {
     "name": "stdout",
     "output_type": "stream",
     "text": [
      "200\n"
     ]
    },
    {
     "name": "stderr",
     "output_type": "stream",
     "text": [
      "/var/folders/p_/y91nv_9n4pd_cdyjthbpxm900000gn/T/ipykernel_12771/3126715534.py:12: FutureWarning: Passing literal html to 'read_html' is deprecated and will be removed in a future version. To read from a literal string, wrap it in a 'StringIO' object.\n",
      "  df = pd.read_html(str(tables[table_no - 1]))[0]\n"
     ]
    },
    {
     "name": "stdout",
     "output_type": "stream",
     "text": [
      "            Country  % of GDP\n",
      "0     United States    122.56\n",
      "1    United Kingdom    287.08\n",
      "2             Japan     98.44\n",
      "3       Netherlands    381.62\n",
      "4            France    112.06\n",
      "..              ...       ...\n",
      "205  United Kingdom      5.00\n",
      "206          France      6.00\n",
      "207  United Kingdom      2.00\n",
      "208   Liechtenstein      0.00\n",
      "209     New Zealand      0.00\n",
      "\n",
      "[210 rows x 2 columns]\n"
     ]
    }
   ],
   "source": [
    "#17 List of countries by external debt, List of countries with respect to external debt, % GDP\n",
    "list_countries = getDataFrameFromWikipedia(\"https://en.wikipedia.org/wiki/List_of_countries_by_external_debt\")\n",
    "df = list_countries\n",
    "\n",
    "\n",
    "df = df.drop([\"Per capita US dollars\", \"External debt US dollars\",\"% of total wealth[1]\",\"% of total wealth[1]\",\"Date\"], axis = 1)\n",
    "\n",
    "df = df.rename(columns={'Country/Region': 'Country'})\n",
    "df = df.rename(columns={'of GDP': 'external debt % GDP'})\n",
    "\n",
    "for index, row in df.iterrows():\n",
    "    if '(' in row['Country'] and ')' in row['Country']:\n",
    "        df.at[index, 'Country'] = row['Country'].split('(', 1)[1].split(')', 1)[0]\n",
    "\n",
    "df.columns.values[0] = 'Country'\n",
    "\n",
    "df = normaliseCountryNames(df)\n",
    "\n",
    "the_final_table = pd.merge(the_final_table, df, on='Country', how='outer')\n",
    "\n",
    "\n",
    "print(df.head(10000))"
   ]
  },
  {
   "cell_type": "code",
   "execution_count": 161,
   "metadata": {},
   "outputs": [
    {
     "name": "stdout",
     "output_type": "stream",
     "text": [
      "200\n"
     ]
    },
    {
     "name": "stderr",
     "output_type": "stream",
     "text": [
      "/var/folders/p_/y91nv_9n4pd_cdyjthbpxm900000gn/T/ipykernel_12771/3126715534.py:12: FutureWarning: Passing literal html to 'read_html' is deprecated and will be removed in a future version. To read from a literal string, wrap it in a 'StringIO' object.\n",
      "  df = pd.read_html(str(tables[table_no - 1]))[0]\n",
      "/var/folders/p_/y91nv_9n4pd_cdyjthbpxm900000gn/T/ipykernel_12771/2863879547.py:5: PerformanceWarning: dropping on a non-lexsorted multi-index without a level parameter may impact performance.\n",
      "  df = df.drop([\"Subregion\", \"Region\",\"UN R/P\",\"CIA R/P[4]\"], axis = 1)\n",
      "European Union not found in regex\n",
      "World not found in regex\n"
     ]
    },
    {
     "name": "stdout",
     "output_type": "stream",
     "text": [
      "       Country  WB Gini %\n",
      "1      Albania       29.4\n",
      "2      Algeria       27.6\n",
      "3       Angola       51.3\n",
      "4    Argentina       42.0\n",
      "5      Armenia       27.9\n",
      "..         ...        ...\n",
      "165  Venezuela       44.8\n",
      "166    Vietnam       36.8\n",
      "167      Yemen       36.7\n",
      "168     Zambia       55.9\n",
      "169   Zimbabwe       50.3\n",
      "\n",
      "[168 rows x 2 columns]\n"
     ]
    }
   ],
   "source": [
    "#18 List of countries by income equality, UN, World Bank and CIA list – income ratios and Gini indices, WB Gini %.\n",
    "list = getDataFrameFromWikipedia(\"https://en.wikipedia.org/wiki/List_of_countries_by_income_equality\")\n",
    "df = list\n",
    "\n",
    "df = df.drop([\"Subregion\", \"Region\",\"UN R/P\",\"CIA R/P[4]\"], axis = 1)\n",
    "df.columns = df.columns.droplevel(0)\n",
    "df = df.drop([\"Year\"], axis = 1)\n",
    "df = df.drop(0)\n",
    "\n",
    "\n",
    "df = df.rename(columns={'Country': 'Country'})\n",
    "df = df.rename(columns={'%': 'WB Gini %'})\n",
    "df = normaliseCountryNames(df)\n",
    "\n",
    "the_final_table = pd.merge(the_final_table, df, on='Country', how='outer')\n",
    "\n",
    "\n",
    "print(df.head(10000))"
   ]
  },
  {
   "cell_type": "code",
   "execution_count": 162,
   "metadata": {},
   "outputs": [
    {
     "name": "stdout",
     "output_type": "stream",
     "text": [
      "200\n"
     ]
    },
    {
     "name": "stderr",
     "output_type": "stream",
     "text": [
      "/var/folders/p_/y91nv_9n4pd_cdyjthbpxm900000gn/T/ipykernel_12771/3126715534.py:12: FutureWarning: Passing literal html to 'read_html' is deprecated and will be removed in a future version. To read from a literal string, wrap it in a 'StringIO' object.\n",
      "  df = pd.read_html(str(tables[table_no - 1]))[0]\n",
      "Congo * not found in regex\n"
     ]
    },
    {
     "name": "stdout",
     "output_type": "stream",
     "text": [
      "                 Country  Total health 2018\n",
      "0            Afghanistan                 71\n",
      "1                Algeria                258\n",
      "2                Andorra               3188\n",
      "3                 Angola                 84\n",
      "4    Antigua and Barbuda                850\n",
      "..                   ...                ...\n",
      "183              Vanuatu                102\n",
      "184            Venezuela                165\n",
      "185              Vietnam                164\n",
      "186               Zambia                 75\n",
      "187             Zimbabwe                115\n",
      "\n",
      "[187 rows x 2 columns]\n"
     ]
    }
   ],
   "source": [
    "#19. List of countries by total health expenditure per capita, Total health expenditure per capita in 2018 PPP international U.S. dollars, 2018.\n",
    "list = getDataFrameFromWikipedia(\"https://en.wikipedia.org/wiki/List_of_countries_by_total_health_expenditure_per_capita\",2)\n",
    "df = list\n",
    "\n",
    "df = df.drop([\"2019\", \"2020\",\"2021\"], axis = 1)\n",
    "df = df.rename(columns={'Location': 'Country'})\n",
    "df = df.rename(columns={'2018': 'Total health 2018'})\n",
    "\n",
    "df = normaliseCountryNames(df)\n",
    "\n",
    "the_final_table = pd.merge(the_final_table, df, on='Country', how='outer')\n",
    "\n",
    "\n",
    "print(df.head(10000))"
   ]
  },
  {
   "cell_type": "code",
   "execution_count": 163,
   "metadata": {},
   "outputs": [
    {
     "name": "stdout",
     "output_type": "stream",
     "text": [
      "200\n"
     ]
    },
    {
     "name": "stderr",
     "output_type": "stream",
     "text": [
      "/var/folders/p_/y91nv_9n4pd_cdyjthbpxm900000gn/T/ipykernel_12771/3126715534.py:12: FutureWarning: Passing literal html to 'read_html' is deprecated and will be removed in a future version. To read from a literal string, wrap it in a 'StringIO' object.\n",
      "  df = pd.read_html(str(tables[table_no - 1]))[0]\n",
      "Africa not found in regex\n",
      "Americas not found in regex\n",
      "South-East Asia not found in regex\n",
      "Europe not found in regex\n",
      "Eastern Mediterranean not found in regex\n",
      "Western Pacific not found in regex\n",
      "Global not found in regex\n"
     ]
    },
    {
     "name": "stdout",
     "output_type": "stream",
     "text": [
      "                 Country  All Suicide rates by sex and country\n",
      "0            Afghanistan                                   6.0\n",
      "1                Albania                                   3.7\n",
      "2                Algeria                                   2.6\n",
      "3                 Angola                                  12.6\n",
      "4    Antigua and Barbuda                                   0.3\n",
      "..                   ...                                   ...\n",
      "178            Venezuela                                   2.1\n",
      "179              Vietnam                                   7.2\n",
      "180                Yemen                                   7.1\n",
      "181               Zambia                                  14.4\n",
      "182             Zimbabwe                                  23.6\n",
      "\n",
      "[183 rows x 2 columns]\n"
     ]
    }
   ],
   "source": [
    "#20 List of countries by suicide rate, Suicide rates by sex and country, All.\n",
    "list_suicide  = getDataFrameFromWikipedia(\"https://en.wikipedia.org/wiki/List_of_countries_by_suicide_rate\")\n",
    "df = list_suicide\n",
    "\n",
    "df = df.drop([\"Male\", \"Female\"], axis = 1)\n",
    "\n",
    "df = df.rename(columns={'Country': 'Country'})\n",
    "df = df.rename(columns={'All': 'All Suicide rates by sex and country'})\n",
    "\n",
    "df = normaliseCountryNames(df)\n",
    "\n",
    "the_final_table = pd.merge(the_final_table, df, on='Country', how='outer')\n",
    "\n",
    "\n",
    "print(df.head(10000))"
   ]
  },
  {
   "cell_type": "code",
   "execution_count": 164,
   "metadata": {},
   "outputs": [
    {
     "name": "stdout",
     "output_type": "stream",
     "text": [
      "                       Country World Bank[6]  Average download speed (Mbit/s)  \\\n",
      "0                       Monaco        234317                           220.35   \n",
      "1                Liechtenstein        184083                           193.79   \n",
      "2                   Luxembourg        126426                           154.26   \n",
      "3                      Bermuda        118846                              NaN   \n",
      "4                      Ireland        104039                           112.81   \n",
      "..                         ...           ...                              ...   \n",
      "294                    Tokelau           NaN                              NaN   \n",
      "295  Wallis and Futuna Islands           NaN                              NaN   \n",
      "296             Western Sahara           NaN                              NaN   \n",
      "297                   Guernsey           NaN                              NaN   \n",
      "298                     Jersey           NaN                              NaN   \n",
      "\n",
      "    Alcohiol consumption per capita (litres) 2016  \\\n",
      "0                                             NaN   \n",
      "1                                             NaN   \n",
      "2                                            13.0   \n",
      "3                                             NaN   \n",
      "4                                            13.0   \n",
      "..                                            ...   \n",
      "294                                           NaN   \n",
      "295                                           NaN   \n",
      "296                                           NaN   \n",
      "297                                           NaN   \n",
      "298                                           NaN   \n",
      "\n",
      "     Intentional homicide victims per 100,000 inhabitants  \\\n",
      "0                                                  0.0      \n",
      "1                                                  5.1      \n",
      "2                                                  0.6      \n",
      "3                                                 10.9      \n",
      "4                                                  0.4      \n",
      "..                                                 ...      \n",
      "294                                                NaN      \n",
      "295                                                NaN      \n",
      "296                                                NaN      \n",
      "297                                                NaN      \n",
      "298                                                NaN      \n",
      "\n",
      "    Muslim percentage of total population_islam  \\\n",
      "0                                           0.8   \n",
      "1                                           5.4   \n",
      "2                                           2.3   \n",
      "3                                             1   \n",
      "4                                           1.4   \n",
      "..                                          ...   \n",
      "294                                       < 0.1   \n",
      "295                                       < 0.1   \n",
      "296                                        99.4   \n",
      "297                                         NaN   \n",
      "298                                         NaN   \n",
      "\n",
      "    Buddhist population by country, % population pct_final pct_jewish  \\\n",
      "0                                            NaN       NaN        NaN   \n",
      "1                                            NaN         —          —   \n",
      "2                                            NaN    0.0043     0.0043   \n",
      "3                                            NaN   0.00062    0.00062   \n",
      "4                                            NaN     0.017      0.017   \n",
      "..                                           ...       ...        ...   \n",
      "294                                          NaN       NaN        NaN   \n",
      "295                                          NaN       NaN        NaN   \n",
      "296                                          NaN       NaN        NaN   \n",
      "297                                          NaN       NaN        NaN   \n",
      "298                                          NaN       NaN        NaN   \n",
      "\n",
      "     2019 estimates By country, age reduced  Annual US$  % of GDP  WB Gini %  \\\n",
      "0               NaN                     NaN     24092.0    240.00        NaN   \n",
      "1               NaN                      14         NaN      0.00        NaN   \n",
      "2              2.87                      18     32103.0     22.10       33.4   \n",
      "3               NaN                     NaN         NaN       NaN        NaN   \n",
      "4              2.70                      10     28302.0    548.53       29.2   \n",
      "..              ...                     ...         ...       ...        ...   \n",
      "294             NaN                     NaN         NaN       NaN        NaN   \n",
      "295             NaN                     NaN         NaN       NaN        NaN   \n",
      "296             NaN                     NaN         NaN       NaN        NaN   \n",
      "297             NaN                     NaN         NaN       NaN        NaN   \n",
      "298             NaN                     NaN         NaN       NaN        NaN   \n",
      "\n",
      "     Total health 2018  All Suicide rates by sex and country  \n",
      "0               3101.0                                   NaN  \n",
      "1                  NaN                                   NaN  \n",
      "2               6227.0                                   8.6  \n",
      "3                  NaN                                   NaN  \n",
      "4               5484.0                                   8.9  \n",
      "..                 ...                                   ...  \n",
      "294                NaN                                   NaN  \n",
      "295                NaN                                   NaN  \n",
      "296                NaN                                   NaN  \n",
      "297                NaN                                   NaN  \n",
      "298                NaN                                   NaN  \n",
      "\n",
      "[299 rows x 16 columns]\n"
     ]
    }
   ],
   "source": [
    "print(the_final_table.head(10000))\n",
    "\n",
    "the_final_table.to_csv('the_final_table.csv', index=False)\n"
   ]
  },
  {
   "cell_type": "code",
   "execution_count": null,
   "metadata": {},
   "outputs": [],
   "source": []
  },
  {
   "cell_type": "code",
   "execution_count": null,
   "metadata": {},
   "outputs": [],
   "source": []
  }
 ],
 "metadata": {
  "kernelspec": {
   "display_name": "Python 3 (ipykernel)",
   "language": "python",
   "name": "python3"
  },
  "language_info": {
   "codemirror_mode": {
    "name": "ipython",
    "version": 3
   },
   "file_extension": ".py",
   "mimetype": "text/x-python",
   "name": "python",
   "nbconvert_exporter": "python",
   "pygments_lexer": "ipython3",
   "version": "3.10.12"
  }
 },
 "nbformat": 4,
 "nbformat_minor": 4
}
