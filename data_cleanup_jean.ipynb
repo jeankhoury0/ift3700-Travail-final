{
 "cells": [
  {
   "cell_type": "code",
   "execution_count": 64,
   "metadata": {},
   "outputs": [],
   "source": [
    "import pandas as pd\n",
    "import requests\n",
    "from bs4 import BeautifulSoup\n",
    "import country_converter as coco"
   ]
  },
  {
   "cell_type": "markdown",
   "metadata": {},
   "source": [
    "## Get the data\n",
    "The function bellow is used to extract the first table present in a wikipedia Page"
   ]
  },
  {
   "cell_type": "code",
   "execution_count": 65,
   "metadata": {},
   "outputs": [],
   "source": [
    "\n",
    "def getDataFrameFromWikipedia(wikipedia_url, table_no=1):\n",
    "    \"\"\"\n",
    "    returns a dataframe of the data from the wikipedia page. \\n\n",
    "    optionaly, if there are multiple tables on the page, you can specify which table to use in `table_no`.\n",
    "    \"\"\"\n",
    "    response = requests.get(wikipedia_url)\n",
    "    print(response.status_code)\n",
    "    soup = BeautifulSoup(response.text, 'html.parser')\n",
    "    tables = soup.findAll('table', {'class': 'wikitable'})\n",
    "    \n",
    "    if table_no >= 1 and table_no <= len(tables):\n",
    "        df = pd.read_html(str(tables[table_no - 1]))[0]\n",
    "        return df\n",
    "    else:\n",
    "        return None"
   ]
  },
  {
   "cell_type": "markdown",
   "metadata": {},
   "source": [
    "## Normalise the country\n",
    "- As there are no standerdised way to get countries, we use a library called `country_converter` to convert countries for us.\n",
    "- Some country might not exist (Channel Islands, European Union, World...), in that case, we just drop the whole record for this country"
   ]
  },
  {
   "cell_type": "code",
   "execution_count": 66,
   "metadata": {},
   "outputs": [],
   "source": [
    "def normaliseCountryNames(df):\n",
    "    df.columns.values[0] = 'Country'\n",
    "    df = df.fillna('')\n",
    "    df['Country'] = df['Country'].apply(lambda x: coco.convert(names=x, to='name_short', not_found='not found'))\n",
    "    df = df[df['Country'] != 'not found']\n",
    "    return df"
   ]
  },
  {
   "cell_type": "code",
   "execution_count": 67,
   "metadata": {},
   "outputs": [],
   "source": [
    "def keepOnlyNumberInLastColumn(df):\n",
    "    last_col = df.columns[-1]\n",
    "    df.loc[:, last_col] = df[last_col].str.extract('(\\d+)')\n",
    "    df.loc[:, last_col] = pd.to_numeric(df[last_col], errors='coerce')\n",
    "\n",
    "    return df"
   ]
  },
  {
   "cell_type": "markdown",
   "metadata": {},
   "source": [
    "## All column"
   ]
  },
  {
   "cell_type": "code",
   "execution_count": 68,
   "metadata": {},
   "outputs": [],
   "source": [
    "the_final_table = []"
   ]
  },
  {
   "cell_type": "code",
   "execution_count": 69,
   "metadata": {},
   "outputs": [
    {
     "name": "stdout",
     "output_type": "stream",
     "text": [
      "200\n"
     ]
    },
    {
     "name": "stderr",
     "output_type": "stream",
     "text": [
      "/var/folders/rl/9_sc5q9x00vg1qz14xd82nhw0000gn/T/ipykernel_75214/563173382.py:7: PerformanceWarning: dropping on a non-lexsorted multi-index without a level parameter may impact performance.\n",
      "  df = df.drop([\"IMF[4][5]\", \"United Nations[7]\"], axis = 1)\n",
      "Channel Islands not found in regex\n",
      "European Union[n 1] not found in regex\n",
      "World not found in regex\n",
      "Zanzibar not found in regex\n"
     ]
    },
    {
     "name": "stdout",
     "output_type": "stream",
     "text": [
      "           Country World Bank[6]\n",
      "1           Monaco        234317\n",
      "2    Liechtenstein        184083\n",
      "3       Luxembourg        126426\n",
      "4          Bermuda        118846\n",
      "5          Ireland        104039\n",
      "..             ...           ...\n",
      "219     Madagascar           505\n",
      "220    South Sudan          1072\n",
      "221   Sierra Leone           461\n",
      "222    Afghanistan           364\n",
      "223        Burundi           238\n",
      "\n",
      "[219 rows x 2 columns]\n"
     ]
    }
   ],
   "source": [
    "## GET GDP PER CAPITA\n",
    "\n",
    "gdp_per_capita = getDataFrameFromWikipedia(\"https://en.wikipedia.org/wiki/List_of_countries_by_GDP_(nominal)_per_capita\")\n",
    "\n",
    "df= gdp_per_capita\n",
    "\n",
    "df = df.drop([\"IMF[4][5]\", \"United Nations[7]\"], axis = 1)\n",
    "df = df.drop(0)\n",
    "df.columns = df.columns.droplevel(-1)\n",
    "df.columns = [*df.columns[:-1], 'years']\n",
    "df.columns.values[0] = 'Country'\n",
    "\n",
    "df = df.drop([\"UN Region\", \"years\"], axis = 1)\n",
    "\n",
    "\n",
    "df = normaliseCountryNames(df)\n",
    "\n",
    "the_final_table = df\n",
    "\n",
    "print(df.head(10000)) "
   ]
  },
  {
   "cell_type": "code",
   "execution_count": 70,
   "metadata": {},
   "outputs": [
    {
     "name": "stdout",
     "output_type": "stream",
     "text": [
      "200\n",
      "             Country  Average download speed (Mbit/s)\n",
      "0            Romania                           178.90\n",
      "1        South Korea                           241.58\n",
      "2          Hong Kong                           265.17\n",
      "3             Monaco                           220.35\n",
      "4          Singapore                           259.11\n",
      "..               ...                              ...\n",
      "96          Dominica                            37.62\n",
      "97   North Macedonia                            37.20\n",
      "98            Greece                            36.73\n",
      "99        Bangladesh                            36.02\n",
      "100          Senegal                            35.32\n",
      "\n",
      "[101 rows x 2 columns]\n"
     ]
    }
   ],
   "source": [
    "# List of countries by Internet connection speeds, Fixed broadband, Average download speed (Mbit/s) (Ookla).\n",
    "\n",
    "internet_speed = getDataFrameFromWikipedia(\"https://en.wikipedia.org/wiki/List_of_countries_by_Internet_connection_speeds\")\n",
    "\n",
    "df = internet_speed\n",
    "df = df.drop([\"Rank\", \"Averagedownloadspeed(Mbit/s)(M-Lab)[2]\", \"Averagedownloadspeed(Mbit/s)(SpeedTestNet.io)\", \"Averagedownloadspeed(Mbit/s)(Speed-Test-Pros.com)[4]\"], axis = 1)\n",
    "df.columns = [*df.columns[:-1], \"Average download speed (Mbit/s)\"]\n",
    "df = normaliseCountryNames(df)\n",
    "\n",
    "the_final_table = pd.merge(the_final_table, df, on='Country', how='outer')\n",
    "\n",
    "print(df.head(10000)) "
   ]
  },
  {
   "cell_type": "code",
   "execution_count": 71,
   "metadata": {},
   "outputs": [
    {
     "name": "stdout",
     "output_type": "stream",
     "text": [
      "200\n"
     ]
    },
    {
     "name": "stderr",
     "output_type": "stream",
     "text": [
      "Netherlands Antilles not found in regex\n"
     ]
    },
    {
     "name": "stdout",
     "output_type": "stream",
     "text": [
      "         Country Alcohiol consumption per capita (litres) 2016\n",
      "0    Afghanistan                                           0.2\n",
      "1        Albania                                           7.5\n",
      "2        Algeria                                           0.9\n",
      "3        Andorra                                          11.3\n",
      "4         Angola                                           6.4\n",
      "..           ...                                           ...\n",
      "186    Venezuela                                           5.6\n",
      "187      Vietnam                                           8.3\n",
      "188        Yemen                                           0.1\n",
      "189       Zambia                                           4.8\n",
      "190     Zimbabwe                                           4.8\n",
      "\n",
      "[190 rows x 2 columns]\n"
     ]
    }
   ],
   "source": [
    "# List of countries by alcohol consumption per capita, Recorded per capita consumption of pure alcohol (litres) per adult 15 years of age and over per year, 2016.\n",
    "alcohol_consumption = getDataFrameFromWikipedia(\"https://en.wikipedia.org/wiki/List_of_countries_by_alcohol_consumption_per_capita\")\n",
    "\n",
    "df = alcohol_consumption\n",
    "\n",
    "df = df.drop([\"1996[7]\"], axis = 1)\n",
    "df.columns = [*df.columns[:-1], \"Alcohiol consumption per capita (litres) 2016\"]\n",
    "df = normaliseCountryNames(df)\n",
    "\n",
    "the_final_table = pd.merge(the_final_table, df, on='Country', how='outer')\n",
    "\n",
    "print(df.head(10000))"
   ]
  },
  {
   "cell_type": "code",
   "execution_count": 72,
   "metadata": {},
   "outputs": [
    {
     "name": "stdout",
     "output_type": "stream",
     "text": [
      "200\n"
     ]
    },
    {
     "name": "stderr",
     "output_type": "stream",
     "text": [
      " not found in regex\n",
      "Northern Ireland not found in regex\n",
      "Scotland not found in regex\n"
     ]
    },
    {
     "name": "stdout",
     "output_type": "stream",
     "text": [
      "            Country Intentional homicide victims per 100,000 inhabitants\n",
      "1       Afghanistan                                                4.0  \n",
      "2           Albania                                                2.3  \n",
      "3           Algeria                                                1.6  \n",
      "4    American Samoa                                                0.0  \n",
      "5           Andorra                                                2.6  \n",
      "..              ...                                                ...  \n",
      "202       Venezuela                                               19.3  \n",
      "203         Vietnam                                                1.5  \n",
      "204           Yemen                                                6.3  \n",
      "205          Zambia                                                5.2  \n",
      "206        Zimbabwe                                                6.1  \n",
      "\n",
      "[204 rows x 2 columns]\n"
     ]
    }
   ],
   "source": [
    "# List of countries by intentional homicide rate, Intentional homicide victims per 100,000 inhabitants. From UNODC, rate.\n",
    "\n",
    "homicide_rate = getDataFrameFromWikipedia(\"https://en.wikipedia.org/wiki/List_of_countries_by_intentional_homicide_rate\",2)\n",
    "\n",
    "df = homicide_rate\n",
    "\n",
    "df = df.drop([\"Region\", \"Subregion\", \"Year\", \"Count\"], axis = 1)\n",
    "df.columns = [*df.columns[:-1], \"Intentional homicide victims per 100,000 inhabitants\"]\n",
    "df['Location'] = df['Location'].str.replace('*', '', regex=False).str.strip()\n",
    "df = df.rename(columns={'Location': 'Country'})\n",
    "df = normaliseCountryNames(df)\n",
    "\n",
    "the_final_table = pd.merge(the_final_table, df, on='Country', how='outer')\n",
    "\n",
    "print(df.head(10000))"
   ]
  },
  {
   "cell_type": "code",
   "execution_count": 73,
   "metadata": {},
   "outputs": [
    {
     "name": "stderr",
     "output_type": "stream",
     "text": [
      "World total not found in regex\n"
     ]
    },
    {
     "name": "stdout",
     "output_type": "stream",
     "text": [
      "200\n",
      "               Country  Military Expenditure % GDP\n",
      "0          World total                         2.2\n",
      "1        United States                         3.5\n",
      "2             China[a]                         1.6\n",
      "3               Russia                         4.1\n",
      "4                India                         2.4\n",
      "5   Saudi Arabia[a][b]                         7.4\n",
      "6       United Kingdom                         2.2\n",
      "7              Germany                         1.4\n",
      "8            France[c]                         1.9\n",
      "9          South Korea                         2.7\n",
      "10               Japan                         1.1\n",
      "11             Ukraine                        34.0\n",
      "12               Italy                         1.7\n",
      "13           Australia                         1.9\n",
      "14              Canada                         1.2\n",
      "15              Israel                         4.5\n",
      "16               Spain                         1.5\n",
      "17              Brazil                         1.1\n",
      "18           Poland[c]                         2.4\n",
      "19         Netherlands                         1.6\n",
      "20               Qatar                         7.0\n",
      "21              Taiwan                         1.6\n",
      "22           Singapore                         2.8\n",
      "23              Turkey                         1.2\n",
      "24            Pakistan                         2.6\n",
      "25            Colombia                         3.1\n",
      "26             Algeria                         4.8\n",
      "27           Indonesia                         0.7\n",
      "28              Mexico                         0.6\n",
      "29              Norway                         1.6\n",
      "30              Kuwait                         4.5\n",
      "31              Greece                         3.7\n",
      "32              Sweden                         1.3\n",
      "33             Belgium                         1.2\n",
      "34                Iran                         2.6\n",
      "35         Switzerland                         0.8\n",
      "36                Oman                         5.2\n",
      "37            Thailand                         1.2\n",
      "38               Chile                         1.8\n",
      "39             Denmark                         1.2\n",
      "40             Romania                         1.7\n"
     ]
    }
   ],
   "source": [
    "# List of countries by military expenditures, List by the Stockholm International Peace Research Institute, % of GDP.\n",
    "\n",
    "list_of_military_expendature = getDataFrameFromWikipedia(\"https://en.wikipedia.org/wiki/List_of_countries_with_highest_military_expenditures\", 1)\n",
    "\n",
    "df = list_of_military_expendature\n",
    "\n",
    "df = df[['Country', '% of GDP']]\n",
    "df.columns = [*df.columns[:-1], \"Military Expenditure % GDP\"]\n",
    "\n",
    "normaliseCountryNames(df)\n",
    "the_final_table = pd.merge(the_final_table, df, on='Country', how='outer')\n",
    "\n",
    "print(df)"
   ]
  },
  {
   "cell_type": "code",
   "execution_count": 74,
   "metadata": {},
   "outputs": [
    {
     "name": "stdout",
     "output_type": "stream",
     "text": [
      "200\n"
     ]
    },
    {
     "name": "stderr",
     "output_type": "stream",
     "text": [
      "/var/folders/rl/9_sc5q9x00vg1qz14xd82nhw0000gn/T/ipykernel_75214/1017324049.py:9: PerformanceWarning: dropping on a non-lexsorted multi-index without a level parameter may impact performance.\n",
      "  df = df.drop([\"Rank\"], axis=1)\n"
     ]
    },
    {
     "name": "stdout",
     "output_type": "stream",
     "text": [
      "                      Country  Human Development Index\n",
      "0                 Switzerland                    0.962\n",
      "1                      Norway                    0.961\n",
      "2                     Iceland                    0.959\n",
      "3                   Hong Kong                    0.952\n",
      "4                   Australia                    0.951\n",
      "..                        ...                      ...\n",
      "186                   Burundi                    0.426\n",
      "187  Central African Republic                    0.404\n",
      "188                     Niger                    0.400\n",
      "189                      Chad                    0.394\n",
      "190               South Sudan                    0.385\n",
      "\n",
      "[191 rows x 2 columns]\n"
     ]
    }
   ],
   "source": [
    "## GET Human Development Index,\n",
    "\n",
    "human_dev_index = getDataFrameFromWikipedia(\"https://en.wikipedia.org/wiki/List_of_countries_by_Human_Development_Index\", 2)\n",
    "\n",
    "df= human_dev_index\n",
    "# print(df)\n",
    "\n",
    "\n",
    "df = df.drop([\"Rank\"], axis=1)\n",
    "\n",
    "df = df[[('Nation', 'Nation'), ('HDI', '2021 data (2022\\xa0report)\\u200b[2]')]]\n",
    "df.columns = df.columns.droplevel(0)\n",
    "\n",
    "df.columns = [*df.columns[:-1], \"Human Development Index\"]\n",
    "df = normaliseCountryNames(df)\n",
    "\n",
    "\n",
    "the_final_table = pd.merge(the_final_table, df, on='Country', how='outer')\n",
    "\n",
    "print(df.head(10000)) \n",
    "\n",
    "\n",
    "\n"
   ]
  },
  {
   "cell_type": "code",
   "execution_count": 75,
   "metadata": {},
   "outputs": [
    {
     "name": "stdout",
     "output_type": "stream",
     "text": [
      "200\n",
      "           Country  Democracy Index (2020)\n",
      "0           Canada                    9.24\n",
      "1    United States                    7.92\n",
      "2          Austria                    8.16\n",
      "3          Belgium                    7.51\n",
      "4           Cyprus                    7.56\n",
      "..             ...                     ...\n",
      "162       Tanzania                    5.10\n",
      "163           Togo                    2.80\n",
      "164         Uganda                    4.94\n",
      "165         Zambia                    4.86\n",
      "166       Zimbabwe                    3.16\n",
      "\n",
      "[167 rows x 2 columns]\n"
     ]
    }
   ],
   "source": [
    "# Democracy Index, Democracy Index, 2020\n",
    "\n",
    "democracy_index = getDataFrameFromWikipedia(\"https://en.wikipedia.org/wiki/The_Economist_Democracy_Index\", 4)\n",
    "\n",
    "df= democracy_index\n",
    "df = df[['Country','2020']]\n",
    "df.columns = [*df.columns[:-1], \"Democracy Index (2020)\"]\n",
    "df = normaliseCountryNames(df)\n",
    "\n",
    "the_final_table = pd.merge(the_final_table, df, on='Country', how='outer')\n",
    "\n",
    "print(df.head(10000)) \n",
    "\n"
   ]
  },
  {
   "cell_type": "code",
   "execution_count": 76,
   "metadata": {},
   "outputs": [
    {
     "name": "stdout",
     "output_type": "stream",
     "text": [
      "200\n",
      "           Country  tertiary education attainment, 2 y\n",
      "0        Australia                                48.0\n",
      "1          Austria                                39.0\n",
      "2          Belgium                                43.0\n",
      "3           Brazil                                16.0\n",
      "4           Canada                                59.0\n",
      "5            Chile                                36.0\n",
      "6            China                                35.8\n",
      "7         Colombia                                27.0\n",
      "8       Costa Rica                                28.0\n",
      "9          Czechia                                31.0\n",
      "10         Denmark                                44.0\n",
      "11         Estonia                                41.0\n",
      "12         Finland                                41.0\n",
      "13          France                                45.0\n",
      "14         Germany                                30.0\n",
      "15          Greece                                40.0\n",
      "16         Hungary                                32.0\n",
      "17         Iceland                                40.0\n",
      "18       Indonesia                                11.0\n",
      "19         Ireland                                52.0\n",
      "20          Israel                                46.0\n",
      "21           Italy                                25.0\n",
      "22           Japan                                60.0\n",
      "23          Latvia                                40.0\n",
      "24       Lithuania                                55.0\n",
      "25      Luxembourg                                50.0\n",
      "26          Mexico                                21.0\n",
      "27     Netherlands                                45.0\n",
      "28     New Zealand                                39.0\n",
      "29          Norway                                48.0\n",
      "30          Poland                                43.0\n",
      "31        Portugal                                33.0\n",
      "32          Russia                                58.0\n",
      "33    Saudi Arabia                                26.0\n",
      "34        Slovakia                                31.0\n",
      "35        Slovenia                                41.0\n",
      "36    South Africa                                14.0\n",
      "37     South Korea                                69.0\n",
      "38           Spain                                41.0\n",
      "39          Sweden                                46.0\n",
      "40     Switzerland                                49.0\n",
      "41         Türkiye                                28.0\n",
      "42  United Kingdom                                49.0\n",
      "43   United States                                51.1\n"
     ]
    }
   ],
   "source": [
    "# List of countries by tertiary education attainment,Countries by level of tertiary education, at least a 2-year tertiary degree or its equivalent %.\n",
    "\n",
    "tertiary_education_attainment = getDataFrameFromWikipedia(\"https://en.wikipedia.org/wiki/List_of_countries_by_tertiary_education_attainment\", 2)\n",
    "\n",
    "df= tertiary_education_attainment\n",
    "df = df[[('Country', 'Country'), ('Ages 25–34:\\xa0% equivalent to a degree course lasting at least:', '2 years')]]\n",
    "df.columns = [*df.columns[:-1], \"tertiary education attainment, 2 y\"]\n",
    "df = normaliseCountryNames(df)\n",
    "\n",
    "the_final_table = pd.merge(the_final_table, df, on='Country', how='outer')\n",
    "\n",
    "print(df.head(10000)) "
   ]
  },
  {
   "cell_type": "code",
   "execution_count": 77,
   "metadata": {},
   "outputs": [
    {
     "name": "stdout",
     "output_type": "stream",
     "text": [
      "200\n",
      "        Country  Importance of religion\n",
      "0        Sweden                      17\n",
      "1       Denmark                      19\n",
      "2       Estonia                      16\n",
      "3         Japan                      24\n",
      "4     Hong Kong                      24\n",
      "..          ...                     ...\n",
      "107   Sri Lanka                      99\n",
      "108       Yemen                      99\n",
      "109  Bangladesh                      99\n",
      "110   Indonesia                      99\n",
      "111       Niger                      99\n",
      "\n",
      "[112 rows x 2 columns]\n"
     ]
    },
    {
     "name": "stderr",
     "output_type": "stream",
     "text": [
      "/var/folders/rl/9_sc5q9x00vg1qz14xd82nhw0000gn/T/ipykernel_75214/3315460159.py:4: DeprecationWarning: In a future version, `df.iloc[:, i] = newvals` will attempt to set the values inplace instead of always setting a new array. To retain the old behavior, use either `df[df.columns[i]] = newvals` or, if columns are non-unique, `df.isetitem(i, newvals)`\n",
      "  df.loc[:, last_col] = pd.to_numeric(df[last_col], errors='coerce')\n"
     ]
    }
   ],
   "source": [
    "# Importance of religion by country, Countries/Districts, Yes important.\n",
    "\n",
    "importance_religion = getDataFrameFromWikipedia(\"https://en.wikipedia.org/wiki/Importance_of_religion_by_country\")\n",
    "\n",
    "df= importance_religion\n",
    "df = df.drop([\"No, unimportant[1]\"], axis=1)\n",
    "df.columns = [*df.columns[:-1], \"Importance of religion\"]\n",
    "df = normaliseCountryNames(df)\n",
    "df = keepOnlyNumberInLastColumn(df)\n",
    "\n",
    "the_final_table = pd.merge(the_final_table, df, on='Country', how='outer')\n",
    "\n",
    "print(df.head(10000)) "
   ]
  },
  {
   "cell_type": "code",
   "execution_count": 78,
   "metadata": {},
   "outputs": [
    {
     "name": "stdout",
     "output_type": "stream",
     "text": [
      "200\n"
     ]
    },
    {
     "name": "stderr",
     "output_type": "stream",
     "text": [
      "Europe not found in regex\n",
      "Latin America and the Caribbean not found in regex\n",
      "Africa not found in regex\n",
      "Asia not found in regex\n",
      "North America not found in regex\n",
      "Oceania not found in regex\n",
      "Middle East-North Africa not found in regex\n",
      "Total not found in regex\n"
     ]
    },
    {
     "name": "stdout",
     "output_type": "stream",
     "text": [
      "            Country  Importance of religion\n",
      "0       Afghanistan                     0.0\n",
      "1           Albania                    17.0\n",
      "2           Algeria                     0.0\n",
      "3    American Samoa                    98.0\n",
      "4           Andorra                    89.0\n",
      "..              ...                     ...\n",
      "190       Venezuela                    88.0\n",
      "191         Vietnam                     7.0\n",
      "192           Yemen                     0.0\n",
      "193          Zambia                    95.0\n",
      "194        Zimbabwe                    87.0\n",
      "\n",
      "[195 rows x 2 columns]\n"
     ]
    },
    {
     "name": "stderr",
     "output_type": "stream",
     "text": [
      "/var/folders/rl/9_sc5q9x00vg1qz14xd82nhw0000gn/T/ipykernel_75214/3315460159.py:4: DeprecationWarning: In a future version, `df.iloc[:, i] = newvals` will attempt to set the values inplace instead of always setting a new array. To retain the old behavior, use either `df[df.columns[i]] = newvals` or, if columns are non-unique, `df.isetitem(i, newvals)`\n",
      "  df.loc[:, last_col] = pd.to_numeric(df[last_col], errors='coerce')\n"
     ]
    }
   ],
   "source": [
    "# Christianity by country, UN members and dependent territories, % Chriastian.\n",
    "\n",
    "christianity_by_country = getDataFrameFromWikipedia(\"https://en.wikipedia.org/wiki/Christianity_by_country\", 3)\n",
    "\n",
    "df= christianity_by_country\n",
    "df = df[['Country or entity', '% Christian']]\n",
    "df.columns = [*df.columns[:-1], \"Importance of religion\"]\n",
    "df = normaliseCountryNames(df)\n",
    "df = keepOnlyNumberInLastColumn(df)\n",
    "\n",
    "the_final_table = pd.merge(the_final_table, df, on='Country', how='outer')\n",
    "\n",
    "print(df.head(10000)) "
   ]
  },
  {
   "cell_type": "code",
   "execution_count": 79,
   "metadata": {},
   "outputs": [
    {
     "name": "stdout",
     "output_type": "stream",
     "text": [
      "200\n"
     ]
    },
    {
     "name": "stderr",
     "output_type": "stream",
     "text": [
      "Netherlands Antilles not found in regex\n"
     ]
    },
    {
     "name": "stdout",
     "output_type": "stream",
     "text": [
      "                       Country Muslim percentage of total population_islam\n",
      "0                  Afghanistan                                        99.7\n",
      "1                      Albania                                        58.8\n",
      "2                      Algeria                                          99\n",
      "3               American Samoa                                       < 0.1\n",
      "4                      Andorra                                         2.6\n",
      "..                         ...                                         ...\n",
      "227  Wallis and Futuna Islands                                       < 0.1\n",
      "228             Western Sahara                                        99.4\n",
      "229                      Yemen                                        97.2\n",
      "230                     Zambia                                           1\n",
      "231                   Zimbabwe                                         0.7\n",
      "\n",
      "[231 rows x 2 columns]\n"
     ]
    }
   ],
   "source": [
    "#11. Islam by country, Muslim percentage of total population\n",
    "islam_by_country = getDataFrameFromWikipedia(\"https://en.wikipedia.org/wiki/Islam_by_country\")\n",
    "df = islam_by_country\n",
    "df = df.drop([\"Total Population\", \"Muslim Population\", \"Percentage of world (%)\", \"Sources\"], axis = 1)\n",
    "df = df.drop([\"Unnamed: 6\"], axis = 1)\n",
    "df = df.rename(columns={'Country/Region': 'Country'})\n",
    "df = normaliseCountryNames(df)\n",
    "df = df.rename(columns={'Muslim percentage of total population': 'Muslim percentage of total population_islam'})\n",
    "\n",
    "the_final_table = pd.merge(the_final_table, df, on='Country', how='outer')\n",
    "print(df.head(10000))"
   ]
  },
  {
   "cell_type": "code",
   "execution_count": 80,
   "metadata": {},
   "outputs": [
    {
     "name": "stdout",
     "output_type": "stream",
     "text": [
      "200\n"
     ]
    },
    {
     "name": "stderr",
     "output_type": "stream",
     "text": [
      "/var/folders/rl/9_sc5q9x00vg1qz14xd82nhw0000gn/T/ipykernel_75214/3145737077.py:5: PerformanceWarning: dropping on a non-lexsorted multi-index without a level parameter may impact performance.\n",
      "  df = df.drop([\"Pew estimates (2010)[1]\", \"Other estimates\"], axis = 1)\n",
      "World not found in regex\n"
     ]
    },
    {
     "name": "stdout",
     "output_type": "stream",
     "text": [
      "            Country Buddhist population by country, % population\n",
      "0       Afghanistan                                             \n",
      "1           Albania                                             \n",
      "2           Algeria                                             \n",
      "3    American Samoa                                             \n",
      "4           Andorra                                             \n",
      "..              ...                                          ...\n",
      "174       Venezuela                                             \n",
      "175         Vietnam                                             \n",
      "176           Yemen                                             \n",
      "177          Zambia                                             \n",
      "178        Zimbabwe                                             \n",
      "\n",
      "[179 rows x 2 columns]\n"
     ]
    }
   ],
   "source": [
    "#12 Buddhism by country, Buddhist population by country, % population.\n",
    "Buddhist_by_country = getDataFrameFromWikipedia(\"https://en.wikipedia.org/wiki/Buddhism_by_country\")\n",
    "\n",
    "df = Buddhist_by_country\n",
    "df = df.drop([\"Pew estimates (2010)[1]\", \"Other estimates\"], axis = 1)\n",
    "df.columns = df.columns.droplevel(0)\n",
    "df = df.drop([\"Population\", \"No. of Buddhists\", \"Census Year\"], axis = 1)\n",
    "#print(df.columns)\n",
    "\n",
    "df = df.rename(columns={'Country/Territory': 'Country'})\n",
    "df = df.rename(columns={'% Buddhist': 'Buddhist population by country, % population'})\n",
    "df = normaliseCountryNames(df)\n",
    "\n",
    "the_final_table = pd.merge(the_final_table, df, on='Country', how='outer')\n",
    "\n",
    "print(df.head(10000))"
   ]
  },
  {
   "cell_type": "code",
   "execution_count": 81,
   "metadata": {},
   "outputs": [
    {
     "name": "stdout",
     "output_type": "stream",
     "text": [
      "200\n"
     ]
    },
    {
     "name": "stderr",
     "output_type": "stream",
     "text": [
      "/var/folders/rl/9_sc5q9x00vg1qz14xd82nhw0000gn/T/ipykernel_75214/2438867356.py:5: PerformanceWarning: dropping on a non-lexsorted multi-index without a level parameter may impact performance.\n",
      "  df = df.drop([\"Connected population\", \"Enlarged population\",\"Eligible population\",\"National official\"], axis = 1)\n",
      "Netherlands Antilles not found in regex\n",
      "World not found in regex\n"
     ]
    },
    {
     "name": "stdout",
     "output_type": "stream",
     "text": [
      "                    Country pct\n",
      "0                    Israel    \n",
      "1             United States    \n",
      "2                    France    \n",
      "3                 Palestine    \n",
      "4                    Canada    \n",
      "..                      ...  ..\n",
      "107                 Iceland   —\n",
      "108              Montenegro   —\n",
      "109  British Virgin Islands   —\n",
      "110           Liechtenstein   —\n",
      "111        Falkland Islands   —\n",
      "\n",
      "[111 rows x 2 columns]\n"
     ]
    }
   ],
   "source": [
    "#13 Jewish population by country, Table, Core population, pct\n",
    "Jewish_by_country = getDataFrameFromWikipedia(\"https://en.wikipedia.org/wiki/Jewish_population_by_country\")\n",
    "df = Jewish_by_country\n",
    "\n",
    "df = df.drop([\"Connected population\", \"Enlarged population\",\"Eligible population\",\"National official\"], axis = 1)\n",
    "\n",
    "df.columns = df.columns.droplevel(0)\n",
    "df = df.drop([\"Total\", \"pmp\"], axis = 1)\n",
    "df = df.rename(columns={'Countries': 'Country'})\n",
    "df = df.rename(columns={'% pct': 'Core population, pct'})\n",
    "#print(df.columns)\n",
    "\n",
    "df = normaliseCountryNames(df)\n",
    "\n",
    "\n",
    "the_final_table = pd.merge(the_final_table, df, on='Country', how='outer', suffixes=('_final', '_jewish'))\n",
    "\n",
    "\n",
    "print(df.head(10000))"
   ]
  },
  {
   "cell_type": "code",
   "execution_count": 82,
   "metadata": {},
   "outputs": [
    {
     "name": "stdout",
     "output_type": "stream",
     "text": [
      "200\n"
     ]
    },
    {
     "name": "stderr",
     "output_type": "stream",
     "text": [
      "disputed not found in regex\n",
      "Congo  not found in regex\n",
      "World not found in regex\n"
     ]
    },
    {
     "name": "stdout",
     "output_type": "stream",
     "text": [
      "                      Country  2019 estimates\n",
      "1                     Iceland            1.25\n",
      "2                       China            1.32\n",
      "3                   Singapore            1.63\n",
      "4                     Finland            1.71\n",
      "5                       Japan            1.76\n",
      "..                        ...             ...\n",
      "197                      Mali           65.80\n",
      "198                   Somalia           69.31\n",
      "199                      Chad           74.50\n",
      "200  Central African Republic           81.90\n",
      "201              Sierra Leone           80.77\n",
      "\n",
      "[199 rows x 2 columns]\n"
     ]
    }
   ],
   "source": [
    "#14 List of countries by infant and under-five mortality rates,  Under-five mortality (deaths/1,000 live births) – 2019 estimates\n",
    "mortality_rate = getDataFrameFromWikipedia(\"https://en.wikipedia.org/wiki/List_of_countries_by_infant_and_under-five_mortality_rates\",4)\n",
    "\n",
    "df = mortality_rate\n",
    "df = df.drop([\"1950-1955\", \"1955-1960\",'1960-1965', '1965-1970',\n",
    "       '1970-1975', '1975-1980', '1980-1985', '1985-1990', '1990-1995',\n",
    "       '1995-2000', '2000-2005', '2005-2010', '2010-2015', 'To CIA estimates'], axis = 1)\n",
    "df = df.drop(0)\n",
    "\n",
    "df = df.rename(columns={'Location [Note 1]': 'Country'})\n",
    "df = df.rename(columns={'2015-2020': '2019 estimates'})\n",
    "\n",
    "df['Country'] = df['Country'].str.rstrip(' *')\n",
    "\n",
    "for index, row in df.iterrows():\n",
    "    if '(' in row['Country'] and ')' in row['Country']:\n",
    "        df.at[index, 'Country'] = row['Country'].split('(', 1)[1].split(')', 1)[0]\n",
    "\n",
    "df.columns.values[0] = 'Country'\n",
    "\n",
    "\n",
    "df = normaliseCountryNames(df)\n",
    "\n",
    "\n",
    "the_final_table = pd.merge(the_final_table, df, on='Country', how='outer')\n",
    "\n",
    "\n",
    "print(df.head(10000))\n"
   ]
  },
  {
   "cell_type": "code",
   "execution_count": 83,
   "metadata": {},
   "outputs": [
    {
     "name": "stdout",
     "output_type": "stream",
     "text": [
      "200\n",
      "         Country By country, age reduced\n",
      "0    Afghanistan                      12\n",
      "1        Albania                      14\n",
      "2        Algeria                      13\n",
      "3        Andorra                      12\n",
      "4         Angola                      14\n",
      "..           ...                     ...\n",
      "165      Vanuatu                      10\n",
      "166      Vietnam                      14\n",
      "167        Yemen                       7\n",
      "168       Zambia                       8\n",
      "169     Zimbabwe                       7\n",
      "\n",
      "[170 rows x 2 columns]\n"
     ]
    }
   ],
   "source": [
    "#15 Age of criminal responsibility, By country, age reduced\n",
    "\n",
    "Age= getDataFrameFromWikipedia(\"https://en.wikipedia.org/wiki/Age_of_criminal_responsibility\")\n",
    "\n",
    "df = Age\n",
    "\n",
    "\n",
    "df = df.drop([\"Age (full)[b]\", \"Ref\",\"Notes\"], axis = 1)\n",
    "\n",
    "df = df.rename(columns={'Country': 'Country'})\n",
    "df = df.rename(columns={'Age (reduced)[a]': 'By country, age reduced'})\n",
    "\n",
    "for index, row in df.iterrows():\n",
    "    if '(' in row['Country'] and ')' in row['Country']:\n",
    "        df.at[index, 'Country'] = row['Country'].split('(', 1)[1].split(')', 1)[0].strip()\n",
    "    else:\n",
    "        df.at[index, 'Country'] = row['Country'].strip()\n",
    "df = normaliseCountryNames(df)\n",
    "\n",
    "the_final_table = pd.merge(the_final_table, df, on='Country', how='outer', suffixes=('_final', '_age_reduced'))\n",
    "\n",
    "print(df.head(10000))"
   ]
  },
  {
   "cell_type": "code",
   "execution_count": 84,
   "metadata": {},
   "outputs": [
    {
     "name": "stdout",
     "output_type": "stream",
     "text": [
      "200\n"
     ]
    },
    {
     "name": "stderr",
     "output_type": "stream",
     "text": [
      "/var/folders/rl/9_sc5q9x00vg1qz14xd82nhw0000gn/T/ipykernel_75214/4045473643.py:5: PerformanceWarning: dropping on a non-lexsorted multi-index without a level parameter may impact performance.\n",
      "  df = df.drop([\"Minimum wage\", \"Workweek (hours)[4]\",\"Hourly\",\"Effective per\"], axis = 1)\n"
     ]
    },
    {
     "name": "stdout",
     "output_type": "stream",
     "text": [
      "         Country Annual US$\n",
      "1    Afghanistan      858.0\n",
      "2        Albania     4637.0\n",
      "3        Algeria     1777.0\n",
      "4        Andorra    18253.0\n",
      "5         Angola      663.0\n",
      "..           ...        ...\n",
      "197    Venezuela      10.32\n",
      "198      Vietnam     1591.0\n",
      "199        Yemen           \n",
      "200       Zambia      596.0\n",
      "201     Zimbabwe           \n",
      "\n",
      "[201 rows x 2 columns]\n"
     ]
    }
   ],
   "source": [
    "#16 List of countries by minimum wage, List, Annual, US$.\n",
    "list = getDataFrameFromWikipedia(\"https://en.wikipedia.org/wiki/List_of_countries_by_minimum_wage\")\n",
    "df = list\n",
    "\n",
    "df = df.drop([\"Minimum wage\", \"Workweek (hours)[4]\",\"Hourly\",\"Effective per\"], axis = 1)\n",
    "\n",
    "\n",
    "df.columns = df.columns.droplevel(0)\n",
    "\n",
    "df = df.drop([\"PPP (Int$)[7]\"], axis = 1)\n",
    "df = df.drop(0)\n",
    "df = df.iloc[:, :-1]\n",
    "\n",
    "df = df.rename(columns={'Country': 'Country'})\n",
    "df = df.rename(columns={'Nominal (US$)[6]': 'Annual US$'})\n",
    "#print(df.columns)\n",
    "\n",
    "df = normaliseCountryNames(df)\n",
    "\n",
    "\n",
    "the_final_table = pd.merge(the_final_table, df, on='Country', how='outer')\n",
    "\n",
    "\n",
    "print(df.head(10000))\n"
   ]
  },
  {
   "cell_type": "code",
   "execution_count": 85,
   "metadata": {},
   "outputs": [
    {
     "name": "stdout",
     "output_type": "stream",
     "text": [
      "200\n",
      "            Country  % of GDP\n",
      "0     United States    122.56\n",
      "1    United Kingdom    287.08\n",
      "2             Japan     98.44\n",
      "3       Netherlands    381.62\n",
      "4            France    112.06\n",
      "..              ...       ...\n",
      "205  United Kingdom      5.00\n",
      "206          France      6.00\n",
      "207  United Kingdom      2.00\n",
      "208   Liechtenstein      0.00\n",
      "209     New Zealand      0.00\n",
      "\n",
      "[210 rows x 2 columns]\n"
     ]
    }
   ],
   "source": [
    "#17 List of countries by external debt, List of countries with respect to external debt, % GDP\n",
    "list_countries = getDataFrameFromWikipedia(\"https://en.wikipedia.org/wiki/List_of_countries_by_external_debt\")\n",
    "df = list_countries\n",
    "\n",
    "\n",
    "df = df.drop([\"Per capita US dollars\", \"External debt US dollars\",\"% of total wealth[1]\",\"% of total wealth[1]\",\"Date\"], axis = 1)\n",
    "\n",
    "df = df.rename(columns={'Country/Region': 'Country'})\n",
    "df = df.rename(columns={'of GDP': 'external debt % GDP'})\n",
    "\n",
    "for index, row in df.iterrows():\n",
    "    if '(' in row['Country'] and ')' in row['Country']:\n",
    "        df.at[index, 'Country'] = row['Country'].split('(', 1)[1].split(')', 1)[0]\n",
    "\n",
    "df.columns.values[0] = 'Country'\n",
    "\n",
    "df = normaliseCountryNames(df)\n",
    "\n",
    "the_final_table = pd.merge(the_final_table, df, on='Country', how='outer')\n",
    "\n",
    "\n",
    "print(df.head(10000))"
   ]
  },
  {
   "cell_type": "code",
   "execution_count": 86,
   "metadata": {},
   "outputs": [
    {
     "name": "stdout",
     "output_type": "stream",
     "text": [
      "200\n"
     ]
    },
    {
     "name": "stderr",
     "output_type": "stream",
     "text": [
      "/var/folders/rl/9_sc5q9x00vg1qz14xd82nhw0000gn/T/ipykernel_75214/2863879547.py:5: PerformanceWarning: dropping on a non-lexsorted multi-index without a level parameter may impact performance.\n",
      "  df = df.drop([\"Subregion\", \"Region\",\"UN R/P\",\"CIA R/P[4]\"], axis = 1)\n",
      "European Union not found in regex\n",
      "World not found in regex\n"
     ]
    },
    {
     "name": "stdout",
     "output_type": "stream",
     "text": [
      "       Country WB Gini %\n",
      "1      Albania      29.4\n",
      "2      Algeria      27.6\n",
      "3       Angola      51.3\n",
      "4    Argentina      42.0\n",
      "5      Armenia      27.9\n",
      "..         ...       ...\n",
      "165  Venezuela      44.8\n",
      "166    Vietnam      36.8\n",
      "167      Yemen      36.7\n",
      "168     Zambia      55.9\n",
      "169   Zimbabwe      50.3\n",
      "\n",
      "[168 rows x 2 columns]\n"
     ]
    }
   ],
   "source": [
    "#18 List of countries by income equality, UN, World Bank and CIA list – income ratios and Gini indices, WB Gini %.\n",
    "list = getDataFrameFromWikipedia(\"https://en.wikipedia.org/wiki/List_of_countries_by_income_equality\")\n",
    "df = list\n",
    "\n",
    "df = df.drop([\"Subregion\", \"Region\",\"UN R/P\",\"CIA R/P[4]\"], axis = 1)\n",
    "df.columns = df.columns.droplevel(0)\n",
    "df = df.drop([\"Year\"], axis = 1)\n",
    "df = df.drop(0)\n",
    "\n",
    "\n",
    "df = df.rename(columns={'Country': 'Country'})\n",
    "df = df.rename(columns={'%': 'WB Gini %'})\n",
    "df = normaliseCountryNames(df)\n",
    "\n",
    "the_final_table = pd.merge(the_final_table, df, on='Country', how='outer')\n",
    "\n",
    "\n",
    "print(df.head(10000))"
   ]
  },
  {
   "cell_type": "code",
   "execution_count": 87,
   "metadata": {},
   "outputs": [
    {
     "name": "stdout",
     "output_type": "stream",
     "text": [
      "200\n"
     ]
    },
    {
     "name": "stderr",
     "output_type": "stream",
     "text": [
      "Congo * not found in regex\n"
     ]
    },
    {
     "name": "stdout",
     "output_type": "stream",
     "text": [
      "                 Country  Total health 2018\n",
      "0            Afghanistan                 71\n",
      "1                Algeria                258\n",
      "2                Andorra               3188\n",
      "3                 Angola                 84\n",
      "4    Antigua and Barbuda                850\n",
      "..                   ...                ...\n",
      "183              Vanuatu                102\n",
      "184            Venezuela                165\n",
      "185              Vietnam                164\n",
      "186               Zambia                 75\n",
      "187             Zimbabwe                115\n",
      "\n",
      "[187 rows x 2 columns]\n"
     ]
    }
   ],
   "source": [
    "#19. List of countries by total health expenditure per capita, Total health expenditure per capita in 2018 PPP international U.S. dollars, 2018.\n",
    "list = getDataFrameFromWikipedia(\"https://en.wikipedia.org/wiki/List_of_countries_by_total_health_expenditure_per_capita\",2)\n",
    "df = list\n",
    "\n",
    "df = df.drop([\"2019\", \"2020\",\"2021\"], axis = 1)\n",
    "df = df.rename(columns={'Location': 'Country'})\n",
    "df = df.rename(columns={'2018': 'Total health 2018'})\n",
    "\n",
    "df = normaliseCountryNames(df)\n",
    "\n",
    "the_final_table = pd.merge(the_final_table, df, on='Country', how='outer')\n",
    "\n",
    "\n",
    "print(df.head(10000))"
   ]
  },
  {
   "cell_type": "code",
   "execution_count": 88,
   "metadata": {},
   "outputs": [
    {
     "name": "stdout",
     "output_type": "stream",
     "text": [
      "200\n"
     ]
    },
    {
     "name": "stderr",
     "output_type": "stream",
     "text": [
      "Africa not found in regex\n",
      "Americas not found in regex\n",
      "South-East Asia not found in regex\n",
      "Europe not found in regex\n",
      "Eastern Mediterranean not found in regex\n",
      "Western Pacific not found in regex\n",
      "Global not found in regex\n"
     ]
    },
    {
     "name": "stdout",
     "output_type": "stream",
     "text": [
      "                 Country  All Suicide rates by sex and country\n",
      "0            Afghanistan                                   6.0\n",
      "1                Albania                                   3.7\n",
      "2                Algeria                                   2.6\n",
      "3                 Angola                                  12.6\n",
      "4    Antigua and Barbuda                                   0.3\n",
      "..                   ...                                   ...\n",
      "178            Venezuela                                   2.1\n",
      "179              Vietnam                                   7.2\n",
      "180                Yemen                                   7.1\n",
      "181               Zambia                                  14.4\n",
      "182             Zimbabwe                                  23.6\n",
      "\n",
      "[183 rows x 2 columns]\n"
     ]
    }
   ],
   "source": [
    "#20 List of countries by suicide rate, Suicide rates by sex and country, All.\n",
    "list_suicide  = getDataFrameFromWikipedia(\"https://en.wikipedia.org/wiki/List_of_countries_by_suicide_rate\")\n",
    "df = list_suicide\n",
    "\n",
    "df = df.drop([\"Male\", \"Female\"], axis = 1)\n",
    "\n",
    "df = df.rename(columns={'Country': 'Country'})\n",
    "df = df.rename(columns={'All': 'All Suicide rates by sex and country'})\n",
    "\n",
    "df = normaliseCountryNames(df)\n",
    "\n",
    "the_final_table = pd.merge(the_final_table, df, on='Country', how='outer')\n",
    "\n",
    "\n",
    "print(df.head(10000))"
   ]
  },
  {
   "cell_type": "code",
   "execution_count": 89,
   "metadata": {},
   "outputs": [],
   "source": [
    "# CHARBEL   "
   ]
  },
  {
   "cell_type": "code",
   "execution_count": 90,
   "metadata": {},
   "outputs": [
    {
     "name": "stdout",
     "output_type": "stream",
     "text": [
      "200\n"
     ]
    },
    {
     "name": "stderr",
     "output_type": "stream",
     "text": [
      "Republika Srpska not found in regex\n",
      "Northern Ireland * [Note] not found in regex\n",
      "Scotland * [Note] not found in regex\n"
     ]
    },
    {
     "name": "stdout",
     "output_type": "stream",
     "text": [
      "                          Country Incarceration rates (per 100 000)\n",
      "1                     Afghanistan                                36\n",
      "2                         Albania                               174\n",
      "3                         Algeria                               217\n",
      "4                  American Samoa                               538\n",
      "5                         Andorra                                64\n",
      "..                            ...                               ...\n",
      "222        British Virgin Islands                               368\n",
      "223  United States Virgin Islands                               345\n",
      "224                         Yemen                                35\n",
      "225                        Zambia                               118\n",
      "226                      Zimbabwe                               121\n",
      "\n",
      "[223 rows x 2 columns]\n"
     ]
    }
   ],
   "source": [
    "#31. List of countries by incarceration rate\n",
    "\n",
    "incarceration_rate = getDataFrameFromWikipedia(\"https://en.wikipedia.org/wiki/List_of_countries_by_incarceration_rate\", 1)\n",
    "\n",
    "df = incarceration_rate\n",
    "\n",
    "df = df.drop(\"Counts[3]\", axis=1)\n",
    "df = df.drop(0)\n",
    "df.columns = [*df.columns[:-1], \"Incarceration rates (per 100 000)\"]\n",
    "\n",
    "df = normaliseCountryNames(df)\n",
    "\n",
    "the_final_table = pd.merge(the_final_table, df, on='Country', how='outer')\n",
    "\n",
    "print(df.head(10000)) "
   ]
  },
  {
   "cell_type": "code",
   "execution_count": 91,
   "metadata": {},
   "outputs": [
    {
     "name": "stdout",
     "output_type": "stream",
     "text": [
      "200\n"
     ]
    },
    {
     "name": "stderr",
     "output_type": "stream",
     "text": [
      "Congo * not found in regex\n",
      "World not found in regex\n"
     ]
    },
    {
     "name": "stdout",
     "output_type": "stream",
     "text": [
      "         Country Literacy rate\n",
      "0    Afghanistan         37.3%\n",
      "1        Albania         98.1%\n",
      "2        Algeria         81.4%\n",
      "3        Andorra        100.0%\n",
      "4         Angola         71.1%\n",
      "..           ...           ...\n",
      "190    Venezuela         97.1%\n",
      "191      Vietnam         95.8%\n",
      "192        Yemen         70.1%\n",
      "193       Zambia         86.7%\n",
      "194     Zimbabwe         86.5%\n",
      "\n",
      "[194 rows x 2 columns]\n"
     ]
    }
   ],
   "source": [
    "#32. List of countries by literacy rate\n",
    "\n",
    "literacy_rate = getDataFrameFromWikipedia(\"https://en.wikipedia.org/wiki/List_of_countries_by_literacy_rate\", 2)\n",
    "\n",
    "df = literacy_rate\n",
    "\n",
    "df = df.drop([('Literacy rate[10][11]', 'Male'), ('Literacy rate[10][11]', 'Female'), ('Literacy rate[10][11]', 'Gender Gap'), ('Literacy rate[10][11]', 'Year')], axis=1) \n",
    "df.columns = [*df.columns[:-1], \"Literacy rate\"]\n",
    "\n",
    "df = normaliseCountryNames(df)\n",
    "\n",
    "the_final_table = pd.merge(the_final_table, df, on='Country', how='outer')\n",
    "\n",
    "print(df.head(10000)) "
   ]
  },
  {
   "cell_type": "code",
   "execution_count": 92,
   "metadata": {},
   "outputs": [
    {
     "name": "stdout",
     "output_type": "stream",
     "text": [
      "200\n"
     ]
    },
    {
     "name": "stderr",
     "output_type": "stream",
     "text": [
      "Congo[a] not found in regex\n"
     ]
    },
    {
     "name": "stdout",
     "output_type": "stream",
     "text": [
      "                     Country  Age at first marriage\n",
      "0                    Algeria                   30.3\n",
      "1                     Angola                   23.1\n",
      "2                      Benin                   21.3\n",
      "3                   Botswana                   28.7\n",
      "4               Burkina Faso                   21.1\n",
      "5                    Burundi                   22.0\n",
      "6                 Cabo Verde                   23.9\n",
      "7                   Cameroon                   22.4\n",
      "8   Central African Republic                   19.5\n",
      "9                       Chad                   21.8\n",
      "10                   Comoros                   23.0\n",
      "12             Cote d'Ivoire                   23.1\n",
      "13                  DR Congo                   21.6\n",
      "14                  Djibouti                   28.9\n",
      "15                     Egypt                   28.0\n",
      "16         Equatorial Guinea                   23.3\n",
      "17                   Eritrea                   24.9\n",
      "18                  Eswatini                   28.5\n",
      "19                  Ethiopia                   23.6\n",
      "20                     Gabon                   22.6\n",
      "21                    Gambia                   25.6\n",
      "22                     Ghana                   23.7\n",
      "23                    Guinea                   23.9\n",
      "24             Guinea-Bissau                   24.5\n",
      "25                     Kenya                   22.5\n",
      "26                   Lesotho                   23.2\n",
      "27                   Liberia                   21.2\n",
      "28                     Libya                   30.6\n",
      "29                Madagascar                   20.4\n",
      "30                    Malawi                   20.1\n",
      "31                      Mali                   22.3\n",
      "32                Mauritania                   23.1\n",
      "33                 Mauritius                   27.6\n",
      "34                   Morocco                   28.5\n",
      "35                Mozambique                   21.1\n",
      "36                   Namibia                   30.5\n",
      "37                     Niger                   20.6\n",
      "38                   Nigeria                   24.9\n",
      "39                    Rwanda                   22.7\n",
      "40     Sao Tome and Principe                   21.3\n",
      "41                   Senegal                   26.4\n",
      "42                Seychelles                   26.3\n",
      "43              Sierra Leone                   25.5\n",
      "44                   Somalia                   23.6\n",
      "45              South Africa                   35.0\n",
      "46               South Sudan                   22.0\n",
      "47                     Sudan                   25.5\n",
      "48                  Tanzania                   21.4\n",
      "49                      Togo                   25.0\n",
      "50                   Tunisia                   30.7\n",
      "51                    Uganda                   20.3\n",
      "52                    Zambia                   21.2\n",
      "53                  Zimbabwe                   22.3\n",
      "\n",
      "\n"
     ]
    }
   ],
   "source": [
    "#33. List of countries by age at first marriage\n",
    "\n",
    "age_first_marriage = getDataFrameFromWikipedia(\"https://en.wikipedia.org/wiki/List_of_countries_by_age_at_first_marriage\")\n",
    "    \n",
    "df = age_first_marriage\n",
    "    \n",
    "df.drop([\"Men\", \"Women\", \"Age Gap\", \"Age Ratio\", \"Year\", \"Source\"], axis=1, inplace = True)\n",
    "df.columns = [*df.columns[:-1], \"Age at first marriage\"]\n",
    "    \n",
    "df = normaliseCountryNames(df)\n",
    "\n",
    "the_final_table = pd.merge(the_final_table, df, on='Country', how='outer')\n",
    "\n",
    "print(df.head(10000)) \n",
    "print(\"\\n\")"
   ]
  },
  {
   "cell_type": "code",
   "execution_count": 93,
   "metadata": {},
   "outputs": [
    {
     "name": "stdout",
     "output_type": "stream",
     "text": [
      "200\n",
      "                    Country Spending on education (% of GDP)\n",
      "0          Marshall Islands                             15.8\n",
      "1                      Cuba                             12.9\n",
      "2     Micronesia, Fed. Sts.                             12.5\n",
      "3                  Kiribati                             12.0\n",
      "4                   Somalia                              9.6\n",
      "..                      ...                              ...\n",
      "193                 Somalia                             n.a.\n",
      "194  Bosnia and Herzegovina                             n.a.\n",
      "195              Montenegro                             n.a.\n",
      "196             North Korea                             n.a.\n",
      "197        Papua New Guinea                             n.a.\n",
      "\n",
      "[198 rows x 2 columns]\n"
     ]
    }
   ],
   "source": [
    "#34. List of countries by spending on education as percentage of GDP\n",
    " \n",
    "spending_education = getDataFrameFromWikipedia(\"https://en.wikipedia.org/wiki/List_of_countries_by_spending_on_education_as_percentage_of_GDP\", 1)\n",
    "    \n",
    "df = spending_education\n",
    "    \n",
    "df.drop([\"Year\", \"Source\"], axis=1, inplace= True)\n",
    "df.columns = [*df.columns[:-1], \"Spending on education (% of GDP)\"]\n",
    "    \n",
    "df = normaliseCountryNames(df)\n",
    "\n",
    "the_final_table = pd.merge(the_final_table, df, on='Country', how='outer')\n",
    "\n",
    "print(df.head(10000))    \n",
    "    "
   ]
  },
  {
   "cell_type": "code",
   "execution_count": 94,
   "metadata": {},
   "outputs": [
    {
     "name": "stdout",
     "output_type": "stream",
     "text": [
      "200\n",
      "          Country  Homeless population per 10k\n",
      "0     Afghanistan                       1180.0\n",
      "1         Albania                        121.0\n",
      "2       Australia                         48.0\n",
      "3         Austria                         25.4\n",
      "4      Azerbaijan                        725.0\n",
      "..            ...                          ...\n",
      "86  United States                         17.5\n",
      "87        Vatican                          0.0\n",
      "88        Vietnam                         16.6\n",
      "89          Yemen                       1294.0\n",
      "90       Zimbabwe                        848.0\n",
      "\n",
      "[91 rows x 2 columns]\n"
     ]
    }
   ],
   "source": [
    "#35. List of sovereign states by homeless population\n",
    "\n",
    "homeless_pop = getDataFrameFromWikipedia(\"https://en.wikipedia.org/wiki/List_of_sovereign_states_by_homeless_population\", 1)\n",
    "    \n",
    "df = homeless_pop\n",
    "\n",
    "df.drop([\"Homeless (average day)\", \"Data year\", \"Unsheltered per 10k\", \"Main article, other notes\", \"Unnamed: 6\"], axis=1, inplace=True)\n",
    "df.columns = [*df.columns[:-1], \"Homeless population per 10k\"] \n",
    "    \n",
    "df = normaliseCountryNames(df)\n",
    "\n",
    "the_final_table = pd.merge(the_final_table, df, on='Country', how='outer')\n",
    "\n",
    "print(df.head(10000))    "
   ]
  },
  {
   "cell_type": "code",
   "execution_count": 95,
   "metadata": {},
   "outputs": [
    {
     "name": "stdout",
     "output_type": "stream",
     "text": [
      "200\n"
     ]
    },
    {
     "name": "stderr",
     "output_type": "stream",
     "text": [
      "Netherlands Antilles not found in regex\n"
     ]
    },
    {
     "name": "stdout",
     "output_type": "stream",
     "text": [
      "         Country Milk consumption per capita\n",
      "0        Finland                      430.76\n",
      "1     Montenegro                      349.21\n",
      "2    Netherlands                      341.47\n",
      "3         Sweden                      341.23\n",
      "4    Switzerland                      318.69\n",
      "..           ...                         ...\n",
      "178  North Korea                        3.79\n",
      "179     Cambodia                        3.47\n",
      "180         Laos                        2.92\n",
      "181      Liberia                        3.04\n",
      "182     DR Congo                            \n",
      "\n",
      "[182 rows x 2 columns]\n"
     ]
    }
   ],
   "source": [
    "#36. List of countries by milk consumption per capita\n",
    "\n",
    "milk_consumption = getDataFrameFromWikipedia(\"https://en.wikipedia.org/wiki/List_of_countries_by_milk_consumption_per_capita\", 1)\n",
    "    \n",
    "df = milk_consumption\n",
    "\n",
    "df.drop([\"Rank\", \"Change in rank 2013/2007\", \"Milk consumption 2007 (kg/capita/yr) [2]\"], axis=1, inplace=True)\n",
    "df.columns = [*df.columns[:-1], \"Milk consumption per capita\"] \n",
    "    \n",
    "df = normaliseCountryNames(df)\n",
    "\n",
    "the_final_table = pd.merge(the_final_table, df, on='Country', how='outer')\n",
    "\n",
    "print(df.head(10000))  "
   ]
  },
  {
   "cell_type": "code",
   "execution_count": 96,
   "metadata": {},
   "outputs": [
    {
     "name": "stdout",
     "output_type": "stream",
     "text": [
      "200\n"
     ]
    },
    {
     "name": "stderr",
     "output_type": "stream",
     "text": [
      "World not found in regex\n"
     ]
    },
    {
     "name": "stdout",
     "output_type": "stream",
     "text": [
      "                            Country  Number of scientific publications\n",
      "0                             China                             744042\n",
      "1                     United States                             624554\n",
      "2                    United Kingdom                             198500\n",
      "3                             India                             191590\n",
      "4                           Germany                             174524\n",
      "..                              ...                                ...\n",
      "224  Svalbard and Jan Mayen Islands                                  3\n",
      "225                          Tuvalu                                  2\n",
      "226         St. Pierre and Miquelon                                  1\n",
      "227                         Tokelau                                  1\n",
      "228     French Southern Territories                                  1\n",
      "\n",
      "[229 rows x 2 columns]\n"
     ]
    }
   ],
   "source": [
    "#37. List of countries by number of scientific and technical journal articles\n",
    "\n",
    "sci_publi = getDataFrameFromWikipedia(\"https://en.wikipedia.org/wiki/List_of_countries_by_number_of_scientific_and_technical_journal_articles\", 1)\n",
    "    \n",
    "df = sci_publi\n",
    "\n",
    "df.drop([\"Rank\", \"Scientific publications per capita (per million)\"], axis=1, inplace=True)\n",
    "df.columns = [*df.columns[:-1], \"Number of scientific publications\"] \n",
    "    \n",
    "df = normaliseCountryNames(df)\n",
    "\n",
    "the_final_table = pd.merge(the_final_table, df, on='Country', how='outer')\n",
    "\n",
    "print(df.head(10000))  "
   ]
  },
  {
   "cell_type": "code",
   "execution_count": 97,
   "metadata": {},
   "outputs": [
    {
     "name": "stdout",
     "output_type": "stream",
     "text": [
      "200\n",
      "            Country Books published per year\n",
      "0     United States                   275232\n",
      "1             China                   208418\n",
      "2    United Kingdom                   186000\n",
      "3             Japan                   139078\n",
      "4         Indonesia                   135081\n",
      "..              ...                      ...\n",
      "128          Angola                       22\n",
      "129          Gambia                       14\n",
      "130            Mali                       14\n",
      "131    Burkina Faso                       12\n",
      "132            Oman                        7\n",
      "\n",
      "[133 rows x 2 columns]\n"
     ]
    }
   ],
   "source": [
    "#38. Books published per country per year\n",
    "\n",
    "books_publi = getDataFrameFromWikipedia(\"https://en.wikipedia.org/wiki/Books_published_per_country_per_year\", 1)\n",
    "    \n",
    "df = books_publi\n",
    "\n",
    "df.drop([\"Rank\", \"Year\", \"Notes\", \"References\"], axis=1, inplace=True)\n",
    "df.columns = [*df.columns[:-1], \"Books published per year\"] \n",
    "    \n",
    "df = normaliseCountryNames(df)\n",
    "\n",
    "the_final_table = pd.merge(the_final_table, df, on='Country', how='outer')\n",
    "\n",
    "print(df.head(10000))  \n"
   ]
  },
  {
   "cell_type": "code",
   "execution_count": 102,
   "metadata": {},
   "outputs": [
    {
     "name": "stdout",
     "output_type": "stream",
     "text": [
      "200\n"
     ]
    },
    {
     "name": "stderr",
     "output_type": "stream",
     "text": [
      "/var/folders/rl/9_sc5q9x00vg1qz14xd82nhw0000gn/T/ipykernel_75214/3694618971.py:7: PerformanceWarning: dropping on a non-lexsorted multi-index without a level parameter may impact performance.\n",
      "  df.drop([\"Rank\", ('Average daily dietary energy consumption per capita[8]', 'Year')], axis=1, inplace=True)\n",
      "More than one regular expression match for New Caledonia (France)\n",
      "More than one regular expression match for New Caledonia (France)\n",
      "More than one regular expression match for New Caledonia (France)\n",
      "More than one regular expression match for New Caledonia (France)\n",
      "More than one regular expression match for New Caledonia (France)\n",
      "More than one regular expression match for New Caledonia (France)\n",
      "More than one regular expression match for New Caledonia (France)\n",
      "More than one regular expression match for New Caledonia (France)\n",
      "More than one regular expression match for New Caledonia (France)\n",
      "More than one regular expression match for New Caledonia (France)\n",
      "More than one regular expression match for New Caledonia (France)\n",
      "More than one regular expression match for New Caledonia (France)\n",
      "More than one regular expression match for New Caledonia (France)\n",
      "More than one regular expression match for New Caledonia (France)\n",
      "More than one regular expression match for New Caledonia (France)\n",
      "More than one regular expression match for New Caledonia (France)\n",
      "More than one regular expression match for New Caledonia (France)\n",
      "More than one regular expression match for New Caledonia (France)\n",
      "More than one regular expression match for New Caledonia (France)\n",
      "More than one regular expression match for New Caledonia (France)\n",
      "More than one regular expression match for New Caledonia (France)\n",
      "More than one regular expression match for New Caledonia (France)\n",
      "More than one regular expression match for New Caledonia (France)\n",
      "More than one regular expression match for New Caledonia (France)\n",
      "More than one regular expression match for New Caledonia (France)\n",
      "More than one regular expression match for New Caledonia (France)\n",
      "More than one regular expression match for New Caledonia (France)\n",
      "More than one regular expression match for New Caledonia (France)\n",
      "More than one regular expression match for New Caledonia (France)\n",
      "More than one regular expression match for New Caledonia (France)\n",
      "More than one regular expression match for New Caledonia (France)\n",
      "More than one regular expression match for New Caledonia (France)\n",
      "More than one regular expression match for New Caledonia (France)\n",
      "More than one regular expression match for New Caledonia (France)\n",
      "More than one regular expression match for New Caledonia (France)\n",
      "More than one regular expression match for New Caledonia (France)\n",
      "More than one regular expression match for New Caledonia (France)\n",
      "More than one regular expression match for New Caledonia (France)\n",
      "More than one regular expression match for New Caledonia (France)\n",
      "More than one regular expression match for New Caledonia (France)\n",
      "More than one regular expression match for New Caledonia (France)\n",
      "More than one regular expression match for New Caledonia (France)\n",
      "More than one regular expression match for New Caledonia (France)\n",
      "More than one regular expression match for New Caledonia (France)\n",
      "More than one regular expression match for New Caledonia (France)\n",
      "More than one regular expression match for New Caledonia (France)\n",
      "More than one regular expression match for New Caledonia (France)\n",
      "More than one regular expression match for New Caledonia (France)\n",
      "More than one regular expression match for New Caledonia (France)\n",
      "More than one regular expression match for New Caledonia (France)\n",
      "More than one regular expression match for New Caledonia (France)\n",
      "More than one regular expression match for New Caledonia (France)\n",
      "More than one regular expression match for New Caledonia (France)\n",
      "More than one regular expression match for New Caledonia (France)\n",
      "More than one regular expression match for New Caledonia (France)\n",
      "More than one regular expression match for New Caledonia (France)\n",
      "More than one regular expression match for New Caledonia (France)\n",
      "More than one regular expression match for New Caledonia (France)\n",
      "More than one regular expression match for New Caledonia (France)\n",
      "More than one regular expression match for New Caledonia (France)\n",
      "More than one regular expression match for New Caledonia (France)\n",
      "More than one regular expression match for New Caledonia (France)\n",
      "More than one regular expression match for New Caledonia (France)\n",
      "More than one regular expression match for New Caledonia (France)\n",
      "More than one regular expression match for New Caledonia (France)\n",
      "More than one regular expression match for New Caledonia (France)\n",
      "More than one regular expression match for New Caledonia (France)\n",
      "More than one regular expression match for New Caledonia (France)\n",
      "More than one regular expression match for New Caledonia (France)\n",
      "More than one regular expression match for New Caledonia (France)\n",
      "More than one regular expression match for New Caledonia (France)\n",
      "More than one regular expression match for New Caledonia (France)\n",
      "More than one regular expression match for New Caledonia (France)\n",
      "More than one regular expression match for New Caledonia (France)\n",
      "More than one regular expression match for New Caledonia (France)\n",
      "More than one regular expression match for New Caledonia (France)\n",
      "More than one regular expression match for New Caledonia (France)\n",
      "More than one regular expression match for New Caledonia (France)\n",
      "More than one regular expression match for New Caledonia (France)\n",
      "More than one regular expression match for New Caledonia (France)\n",
      "More than one regular expression match for New Caledonia (France)\n",
      "More than one regular expression match for New Caledonia (France)\n",
      "More than one regular expression match for New Caledonia (France)\n",
      "More than one regular expression match for New Caledonia (France)\n",
      "More than one regular expression match for New Caledonia (France)\n",
      "More than one regular expression match for New Caledonia (France)\n",
      "More than one regular expression match for New Caledonia (France)\n",
      "More than one regular expression match for New Caledonia (France)\n",
      "More than one regular expression match for New Caledonia (France)\n",
      "More than one regular expression match for New Caledonia (France)\n",
      "More than one regular expression match for New Caledonia (France)\n",
      "More than one regular expression match for New Caledonia (France)\n",
      "More than one regular expression match for New Caledonia (France)\n"
     ]
    },
    {
     "ename": "TypeError",
     "evalue": "unhashable type: 'list'",
     "output_type": "error",
     "traceback": [
      "\u001b[0;31m---------------------------------------------------------------------------\u001b[0m",
      "\u001b[0;31mTypeError\u001b[0m                                 Traceback (most recent call last)",
      "\u001b[1;32m/Users/jeankhoury0/Documents/ift3700/travail-final/data_cleanup_jean.ipynb Cell 38\u001b[0m line \u001b[0;36m1\n\u001b[1;32m      <a href='vscode-notebook-cell:/Users/jeankhoury0/Documents/ift3700/travail-final/data_cleanup_jean.ipynb#Y150sZmlsZQ%3D%3D?line=7'>8</a>\u001b[0m df\u001b[39m.\u001b[39mcolumns \u001b[39m=\u001b[39m [\u001b[39m*\u001b[39mdf\u001b[39m.\u001b[39mcolumns[:\u001b[39m-\u001b[39m\u001b[39m1\u001b[39m], \u001b[39m\"\u001b[39m\u001b[39mAverage daily dietary energy consumption per capita kcal\u001b[39m\u001b[39m\"\u001b[39m] \n\u001b[1;32m     <a href='vscode-notebook-cell:/Users/jeankhoury0/Documents/ift3700/travail-final/data_cleanup_jean.ipynb#Y150sZmlsZQ%3D%3D?line=9'>10</a>\u001b[0m df \u001b[39m=\u001b[39m normaliseCountryNames(df)\n\u001b[0;32m---> <a href='vscode-notebook-cell:/Users/jeankhoury0/Documents/ift3700/travail-final/data_cleanup_jean.ipynb#Y150sZmlsZQ%3D%3D?line=11'>12</a>\u001b[0m the_final_table \u001b[39m=\u001b[39m pd\u001b[39m.\u001b[39;49mmerge(the_final_table, df, on\u001b[39m=\u001b[39;49m\u001b[39m'\u001b[39;49m\u001b[39mCountry\u001b[39;49m\u001b[39m'\u001b[39;49m, how\u001b[39m=\u001b[39;49m\u001b[39m'\u001b[39;49m\u001b[39mouter\u001b[39;49m\u001b[39m'\u001b[39;49m)\n\u001b[1;32m     <a href='vscode-notebook-cell:/Users/jeankhoury0/Documents/ift3700/travail-final/data_cleanup_jean.ipynb#Y150sZmlsZQ%3D%3D?line=13'>14</a>\u001b[0m \u001b[39mprint\u001b[39m(df\u001b[39m.\u001b[39mhead(\u001b[39m10000\u001b[39m))  \n",
      "File \u001b[0;32m/opt/homebrew/lib/python3.10/site-packages/pandas/core/reshape/merge.py:124\u001b[0m, in \u001b[0;36mmerge\u001b[0;34m(left, right, how, on, left_on, right_on, left_index, right_index, sort, suffixes, copy, indicator, validate)\u001b[0m\n\u001b[1;32m     93\u001b[0m \u001b[39m@Substitution\u001b[39m(\u001b[39m\"\u001b[39m\u001b[39m\\n\u001b[39;00m\u001b[39mleft : DataFrame or named Series\u001b[39m\u001b[39m\"\u001b[39m)\n\u001b[1;32m     94\u001b[0m \u001b[39m@Appender\u001b[39m(_merge_doc, indents\u001b[39m=\u001b[39m\u001b[39m0\u001b[39m)\n\u001b[1;32m     95\u001b[0m \u001b[39mdef\u001b[39;00m \u001b[39mmerge\u001b[39m(\n\u001b[0;32m   (...)\u001b[0m\n\u001b[1;32m    108\u001b[0m     validate: \u001b[39mstr\u001b[39m \u001b[39m|\u001b[39m \u001b[39mNone\u001b[39;00m \u001b[39m=\u001b[39m \u001b[39mNone\u001b[39;00m,\n\u001b[1;32m    109\u001b[0m ) \u001b[39m-\u001b[39m\u001b[39m>\u001b[39m DataFrame:\n\u001b[1;32m    110\u001b[0m     op \u001b[39m=\u001b[39m _MergeOperation(\n\u001b[1;32m    111\u001b[0m         left,\n\u001b[1;32m    112\u001b[0m         right,\n\u001b[0;32m   (...)\u001b[0m\n\u001b[1;32m    122\u001b[0m         validate\u001b[39m=\u001b[39mvalidate,\n\u001b[1;32m    123\u001b[0m     )\n\u001b[0;32m--> 124\u001b[0m     \u001b[39mreturn\u001b[39;00m op\u001b[39m.\u001b[39;49mget_result(copy\u001b[39m=\u001b[39;49mcopy)\n",
      "File \u001b[0;32m/opt/homebrew/lib/python3.10/site-packages/pandas/core/reshape/merge.py:773\u001b[0m, in \u001b[0;36m_MergeOperation.get_result\u001b[0;34m(self, copy)\u001b[0m\n\u001b[1;32m    770\u001b[0m \u001b[39mif\u001b[39;00m \u001b[39mself\u001b[39m\u001b[39m.\u001b[39mindicator:\n\u001b[1;32m    771\u001b[0m     \u001b[39mself\u001b[39m\u001b[39m.\u001b[39mleft, \u001b[39mself\u001b[39m\u001b[39m.\u001b[39mright \u001b[39m=\u001b[39m \u001b[39mself\u001b[39m\u001b[39m.\u001b[39m_indicator_pre_merge(\u001b[39mself\u001b[39m\u001b[39m.\u001b[39mleft, \u001b[39mself\u001b[39m\u001b[39m.\u001b[39mright)\n\u001b[0;32m--> 773\u001b[0m join_index, left_indexer, right_indexer \u001b[39m=\u001b[39m \u001b[39mself\u001b[39;49m\u001b[39m.\u001b[39;49m_get_join_info()\n\u001b[1;32m    775\u001b[0m result \u001b[39m=\u001b[39m \u001b[39mself\u001b[39m\u001b[39m.\u001b[39m_reindex_and_concat(\n\u001b[1;32m    776\u001b[0m     join_index, left_indexer, right_indexer, copy\u001b[39m=\u001b[39mcopy\n\u001b[1;32m    777\u001b[0m )\n\u001b[1;32m    778\u001b[0m result \u001b[39m=\u001b[39m result\u001b[39m.\u001b[39m__finalize__(\u001b[39mself\u001b[39m, method\u001b[39m=\u001b[39m\u001b[39mself\u001b[39m\u001b[39m.\u001b[39m_merge_type)\n",
      "File \u001b[0;32m/opt/homebrew/lib/python3.10/site-packages/pandas/core/reshape/merge.py:1026\u001b[0m, in \u001b[0;36m_MergeOperation._get_join_info\u001b[0;34m(self)\u001b[0m\n\u001b[1;32m   1022\u001b[0m     join_index, right_indexer, left_indexer \u001b[39m=\u001b[39m _left_join_on_index(\n\u001b[1;32m   1023\u001b[0m         right_ax, left_ax, \u001b[39mself\u001b[39m\u001b[39m.\u001b[39mright_join_keys, sort\u001b[39m=\u001b[39m\u001b[39mself\u001b[39m\u001b[39m.\u001b[39msort\n\u001b[1;32m   1024\u001b[0m     )\n\u001b[1;32m   1025\u001b[0m \u001b[39melse\u001b[39;00m:\n\u001b[0;32m-> 1026\u001b[0m     (left_indexer, right_indexer) \u001b[39m=\u001b[39m \u001b[39mself\u001b[39;49m\u001b[39m.\u001b[39;49m_get_join_indexers()\n\u001b[1;32m   1028\u001b[0m     \u001b[39mif\u001b[39;00m \u001b[39mself\u001b[39m\u001b[39m.\u001b[39mright_index:\n\u001b[1;32m   1029\u001b[0m         \u001b[39mif\u001b[39;00m \u001b[39mlen\u001b[39m(\u001b[39mself\u001b[39m\u001b[39m.\u001b[39mleft) \u001b[39m>\u001b[39m \u001b[39m0\u001b[39m:\n",
      "File \u001b[0;32m/opt/homebrew/lib/python3.10/site-packages/pandas/core/reshape/merge.py:1000\u001b[0m, in \u001b[0;36m_MergeOperation._get_join_indexers\u001b[0;34m(self)\u001b[0m\n\u001b[1;32m    998\u001b[0m \u001b[39mdef\u001b[39;00m \u001b[39m_get_join_indexers\u001b[39m(\u001b[39mself\u001b[39m) \u001b[39m-\u001b[39m\u001b[39m>\u001b[39m \u001b[39mtuple\u001b[39m[npt\u001b[39m.\u001b[39mNDArray[np\u001b[39m.\u001b[39mintp], npt\u001b[39m.\u001b[39mNDArray[np\u001b[39m.\u001b[39mintp]]:\n\u001b[1;32m    999\u001b[0m \u001b[39m    \u001b[39m\u001b[39m\"\"\"return the join indexers\"\"\"\u001b[39;00m\n\u001b[0;32m-> 1000\u001b[0m     \u001b[39mreturn\u001b[39;00m get_join_indexers(\n\u001b[1;32m   1001\u001b[0m         \u001b[39mself\u001b[39;49m\u001b[39m.\u001b[39;49mleft_join_keys, \u001b[39mself\u001b[39;49m\u001b[39m.\u001b[39;49mright_join_keys, sort\u001b[39m=\u001b[39;49m\u001b[39mself\u001b[39;49m\u001b[39m.\u001b[39;49msort, how\u001b[39m=\u001b[39;49m\u001b[39mself\u001b[39;49m\u001b[39m.\u001b[39;49mhow\n\u001b[1;32m   1002\u001b[0m     )\n",
      "File \u001b[0;32m/opt/homebrew/lib/python3.10/site-packages/pandas/core/reshape/merge.py:1585\u001b[0m, in \u001b[0;36mget_join_indexers\u001b[0;34m(left_keys, right_keys, sort, how, **kwargs)\u001b[0m\n\u001b[1;32m   1580\u001b[0m \u001b[39m# get left & right join labels and num. of levels at each location\u001b[39;00m\n\u001b[1;32m   1581\u001b[0m mapped \u001b[39m=\u001b[39m (\n\u001b[1;32m   1582\u001b[0m     _factorize_keys(left_keys[n], right_keys[n], sort\u001b[39m=\u001b[39msort, how\u001b[39m=\u001b[39mhow)\n\u001b[1;32m   1583\u001b[0m     \u001b[39mfor\u001b[39;00m n \u001b[39min\u001b[39;00m \u001b[39mrange\u001b[39m(\u001b[39mlen\u001b[39m(left_keys))\n\u001b[1;32m   1584\u001b[0m )\n\u001b[0;32m-> 1585\u001b[0m zipped \u001b[39m=\u001b[39m \u001b[39mzip\u001b[39;49m(\u001b[39m*\u001b[39;49mmapped)\n\u001b[1;32m   1586\u001b[0m llab, rlab, shape \u001b[39m=\u001b[39m (\u001b[39mlist\u001b[39m(x) \u001b[39mfor\u001b[39;00m x \u001b[39min\u001b[39;00m zipped)\n\u001b[1;32m   1588\u001b[0m \u001b[39m# get flat i8 keys from label lists\u001b[39;00m\n",
      "File \u001b[0;32m/opt/homebrew/lib/python3.10/site-packages/pandas/core/reshape/merge.py:1582\u001b[0m, in \u001b[0;36m<genexpr>\u001b[0;34m(.0)\u001b[0m\n\u001b[1;32m   1578\u001b[0m         \u001b[39mreturn\u001b[39;00m _get_no_sort_one_missing_indexer(left_n, \u001b[39mFalse\u001b[39;00m)\n\u001b[1;32m   1580\u001b[0m \u001b[39m# get left & right join labels and num. of levels at each location\u001b[39;00m\n\u001b[1;32m   1581\u001b[0m mapped \u001b[39m=\u001b[39m (\n\u001b[0;32m-> 1582\u001b[0m     _factorize_keys(left_keys[n], right_keys[n], sort\u001b[39m=\u001b[39;49msort, how\u001b[39m=\u001b[39;49mhow)\n\u001b[1;32m   1583\u001b[0m     \u001b[39mfor\u001b[39;00m n \u001b[39min\u001b[39;00m \u001b[39mrange\u001b[39m(\u001b[39mlen\u001b[39m(left_keys))\n\u001b[1;32m   1584\u001b[0m )\n\u001b[1;32m   1585\u001b[0m zipped \u001b[39m=\u001b[39m \u001b[39mzip\u001b[39m(\u001b[39m*\u001b[39mmapped)\n\u001b[1;32m   1586\u001b[0m llab, rlab, shape \u001b[39m=\u001b[39m (\u001b[39mlist\u001b[39m(x) \u001b[39mfor\u001b[39;00m x \u001b[39min\u001b[39;00m zipped)\n",
      "File \u001b[0;32m/opt/homebrew/lib/python3.10/site-packages/pandas/core/reshape/merge.py:2333\u001b[0m, in \u001b[0;36m_factorize_keys\u001b[0;34m(lk, rk, sort, how)\u001b[0m\n\u001b[1;32m   2329\u001b[0m llab \u001b[39m=\u001b[39m rizer\u001b[39m.\u001b[39mfactorize(lk)  \u001b[39m# type: ignore[arg-type]\u001b[39;00m\n\u001b[1;32m   2330\u001b[0m \u001b[39m# Argument 1 to \"factorize\" of \"ObjectFactorizer\" has incompatible type\u001b[39;00m\n\u001b[1;32m   2331\u001b[0m \u001b[39m# \"Union[ndarray[Any, dtype[signedinteger[_64Bit]]],\u001b[39;00m\n\u001b[1;32m   2332\u001b[0m \u001b[39m# ndarray[Any, dtype[object_]]]\"; expected \"ndarray[Any, dtype[object_]]\"\u001b[39;00m\n\u001b[0;32m-> 2333\u001b[0m rlab \u001b[39m=\u001b[39m rizer\u001b[39m.\u001b[39;49mfactorize(rk)  \u001b[39m# type: ignore[arg-type]\u001b[39;00m\n\u001b[1;32m   2334\u001b[0m \u001b[39massert\u001b[39;00m llab\u001b[39m.\u001b[39mdtype \u001b[39m==\u001b[39m np\u001b[39m.\u001b[39mdtype(np\u001b[39m.\u001b[39mintp), llab\u001b[39m.\u001b[39mdtype\n\u001b[1;32m   2335\u001b[0m \u001b[39massert\u001b[39;00m rlab\u001b[39m.\u001b[39mdtype \u001b[39m==\u001b[39m np\u001b[39m.\u001b[39mdtype(np\u001b[39m.\u001b[39mintp), rlab\u001b[39m.\u001b[39mdtype\n",
      "File \u001b[0;32m/opt/homebrew/lib/python3.10/site-packages/pandas/_libs/hashtable.pyx:125\u001b[0m, in \u001b[0;36mpandas._libs.hashtable.ObjectFactorizer.factorize\u001b[0;34m()\u001b[0m\n",
      "File \u001b[0;32mpandas/_libs/hashtable_class_helper.pxi:5951\u001b[0m, in \u001b[0;36mpandas._libs.hashtable.PyObjectHashTable.get_labels\u001b[0;34m()\u001b[0m\n",
      "File \u001b[0;32mpandas/_libs/hashtable_class_helper.pxi:5857\u001b[0m, in \u001b[0;36mpandas._libs.hashtable.PyObjectHashTable._unique\u001b[0;34m()\u001b[0m\n",
      "\u001b[0;31mTypeError\u001b[0m: unhashable type: 'list'"
     ]
    }
   ],
   "source": [
    "#39. List of countries by food energy intake\n",
    "\n",
    "kilocal = getDataFrameFromWikipedia(\"https://en.wikipedia.org/wiki/List_of_countries_by_food_energy_intake\", 1)\n",
    "    \n",
    "df = kilocal\n",
    "\n",
    "df.drop([\"Rank\", ('Average daily dietary energy consumption per capita[8]', 'Year')], axis=1, inplace=True)\n",
    "df.columns = [*df.columns[:-1], \"Average daily dietary energy consumption per capita kcal\"] \n",
    "    \n",
    "df = normaliseCountryNames(df)\n",
    "\n",
    "the_final_table = pd.merge(the_final_table, df, on='Country', how='outer')\n",
    "\n",
    "print(df.head(10000))  "
   ]
  },
  {
   "cell_type": "code",
   "execution_count": 103,
   "metadata": {},
   "outputs": [
    {
     "name": "stdout",
     "output_type": "stream",
     "text": [
      "200\n"
     ]
    }
   ],
   "source": [
    "#40. List of countries by average yearly temperature\n",
    "\n",
    "temp_celsius_avg = getDataFrameFromWikipedia(\"https://en.wikipedia.org/wiki/List_of_countries_by_average_yearly_temperature\", 1)\n",
    "    \n",
    "df = temp_celsius_avg\n",
    "\n",
    "df.columns = [*df.columns[:-1], \"Average yearly temperature from 1961 to 1990 (°C)\"] \n",
    "    \n",
    "df = normaliseCountryNames(df)\n",
    "\n",
    "the_final_table = pd.merge(the_final_table, df, on='Country', how='outer')\n",
    "\n",
    "print(df.head(10000))  \n"
   ]
  },
  {
   "cell_type": "code",
   "execution_count": null,
   "metadata": {},
   "outputs": [
    {
     "name": "stdout",
     "output_type": "stream",
     "text": [
      "                       Country World Bank[6]  Average download speed (Mbit/s)  \\\n",
      "0                       Monaco        234317                           220.35   \n",
      "1                Liechtenstein        184083                           193.79   \n",
      "2                   Luxembourg        126426                           154.26   \n",
      "3                      Bermuda        118846                              NaN   \n",
      "4                      Ireland        104039                           112.81   \n",
      "..                         ...           ...                              ...   \n",
      "296                    Tokelau           NaN                              NaN   \n",
      "297  Wallis and Futuna Islands           NaN                              NaN   \n",
      "298             Western Sahara           NaN                              NaN   \n",
      "299                   Guernsey           NaN                              NaN   \n",
      "300                     Jersey           NaN                              NaN   \n",
      "\n",
      "    Alcohiol consumption per capita (litres) 2016  \\\n",
      "0                                             NaN   \n",
      "1                                             NaN   \n",
      "2                                            13.0   \n",
      "3                                             NaN   \n",
      "4                                            13.0   \n",
      "..                                            ...   \n",
      "296                                           NaN   \n",
      "297                                           NaN   \n",
      "298                                           NaN   \n",
      "299                                           NaN   \n",
      "300                                           NaN   \n",
      "\n",
      "     Intentional homicide victims per 100,000 inhabitants  \\\n",
      "0                                                  0.0      \n",
      "1                                                  5.1      \n",
      "2                                                  0.6      \n",
      "3                                                 10.9      \n",
      "4                                                  0.4      \n",
      "..                                                 ...      \n",
      "296                                                NaN      \n",
      "297                                                NaN      \n",
      "298                                                NaN      \n",
      "299                                                NaN      \n",
      "300                                                NaN      \n",
      "\n",
      "     Military Expenditure % GDP  Human Development Index  \\\n",
      "0                           NaN                      NaN   \n",
      "1                           NaN                    0.935   \n",
      "2                           NaN                    0.930   \n",
      "3                           NaN                      NaN   \n",
      "4                           NaN                    0.945   \n",
      "..                          ...                      ...   \n",
      "296                         NaN                      NaN   \n",
      "297                         NaN                      NaN   \n",
      "298                         NaN                      NaN   \n",
      "299                         NaN                      NaN   \n",
      "300                         NaN                      NaN   \n",
      "\n",
      "     Democracy Index (2020)  tertiary education attainment, 2 y  \\\n",
      "0                       NaN                                 NaN   \n",
      "1                       NaN                                 NaN   \n",
      "2                      8.68                                50.0   \n",
      "3                       NaN                                 NaN   \n",
      "4                      9.05                                52.0   \n",
      "..                      ...                                 ...   \n",
      "296                     NaN                                 NaN   \n",
      "297                     NaN                                 NaN   \n",
      "298                     NaN                                 NaN   \n",
      "299                     NaN                                 NaN   \n",
      "300                     NaN                                 NaN   \n",
      "\n",
      "     Importance of religion_x  ...  \\\n",
      "0                         NaN  ...   \n",
      "1                         NaN  ...   \n",
      "2                        39.0  ...   \n",
      "3                         NaN  ...   \n",
      "4                        54.0  ...   \n",
      "..                        ...  ...   \n",
      "296                       NaN  ...   \n",
      "297                       NaN  ...   \n",
      "298                       NaN  ...   \n",
      "299                       NaN  ...   \n",
      "300                       NaN  ...   \n",
      "\n",
      "     Muslim percentage of total population_islam  \\\n",
      "0                                            0.8   \n",
      "1                                            5.4   \n",
      "2                                            2.3   \n",
      "3                                              1   \n",
      "4                                            1.4   \n",
      "..                                           ...   \n",
      "296                                        < 0.1   \n",
      "297                                        < 0.1   \n",
      "298                                         99.4   \n",
      "299                                          NaN   \n",
      "300                                          NaN   \n",
      "\n",
      "    Buddhist population by country, % population  pct 2019 estimates  \\\n",
      "0                                            NaN  NaN            NaN   \n",
      "1                                            NaN    —            NaN   \n",
      "2                                            NaN  NaN           2.87   \n",
      "3                                            NaN  NaN            NaN   \n",
      "4                                            NaN  NaN           2.70   \n",
      "..                                           ...  ...            ...   \n",
      "296                                          NaN  NaN            NaN   \n",
      "297                                          NaN  NaN            NaN   \n",
      "298                                          NaN  NaN            NaN   \n",
      "299                                          NaN  NaN            NaN   \n",
      "300                                          NaN  NaN            NaN   \n",
      "\n",
      "     By country, age reduced Annual US$  % of GDP  WB Gini %  \\\n",
      "0                        NaN    24092.0    240.00        NaN   \n",
      "1                         14        NaN      0.00        NaN   \n",
      "2                         18    32103.0     22.10       33.4   \n",
      "3                        NaN        NaN       NaN        NaN   \n",
      "4                         10    28302.0    548.53       29.2   \n",
      "..                       ...        ...       ...        ...   \n",
      "296                      NaN        NaN       NaN        NaN   \n",
      "297                      NaN        NaN       NaN        NaN   \n",
      "298                      NaN        NaN       NaN        NaN   \n",
      "299                      NaN        NaN       NaN        NaN   \n",
      "300                      NaN        NaN       NaN        NaN   \n",
      "\n",
      "     Total health 2018  All Suicide rates by sex and country  \n",
      "0               3101.0                                   NaN  \n",
      "1                  NaN                                   NaN  \n",
      "2               6227.0                                   8.6  \n",
      "3                  NaN                                   NaN  \n",
      "4               5484.0                                   8.9  \n",
      "..                 ...                                   ...  \n",
      "296                NaN                                   NaN  \n",
      "297                NaN                                   NaN  \n",
      "298                NaN                                   NaN  \n",
      "299                NaN                                   NaN  \n",
      "300                NaN                                   NaN  \n",
      "\n",
      "[301 rows x 21 columns]\n"
     ]
    }
   ],
   "source": [
    "print(the_final_table.head(10000))\n",
    "\n",
    "the_final_table.to_csv('the_final_table.csv', index=False)\n"
   ]
  }
 ],
 "metadata": {
  "kernelspec": {
   "display_name": "Python 3",
   "language": "python",
   "name": "python3"
  },
  "language_info": {
   "codemirror_mode": {
    "name": "ipython",
    "version": 3
   },
   "file_extension": ".py",
   "mimetype": "text/x-python",
   "name": "python",
   "nbconvert_exporter": "python",
   "pygments_lexer": "ipython3",
   "version": "3.10.13"
  }
 },
 "nbformat": 4,
 "nbformat_minor": 2
}
