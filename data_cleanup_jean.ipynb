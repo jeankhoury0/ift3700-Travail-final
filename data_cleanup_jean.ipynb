{
 "cells": [
  {
   "cell_type": "code",
   "execution_count": 150,
   "metadata": {},
   "outputs": [],
   "source": [
    "import pandas as pd\n",
    "import requests\n",
    "from bs4 import BeautifulSoup\n",
    "import country_converter as coco"
   ]
  },
  {
   "cell_type": "markdown",
   "metadata": {},
   "source": [
    "## Get the data\n",
    "The function bellow is used to extract the first table present in a wikipedia Page"
   ]
  },
  {
   "cell_type": "code",
   "execution_count": 151,
   "metadata": {},
   "outputs": [],
   "source": [
    "\n",
    "def getDataFrameFromWikipedia(wikipedia_url, table_no=1):\n",
    "    \"\"\"\n",
    "    returns a dataframe of the data from the wikipedia page. \\n\n",
    "    optionaly, if there are multiple tables on the page, you can specify which table to use in `table_no`.\n",
    "    \"\"\"\n",
    "    response = requests.get(wikipedia_url)\n",
    "    print(response.status_code)\n",
    "    soup = BeautifulSoup(response.text, 'html.parser')\n",
    "    tables = soup.findAll('table', {'class': 'wikitable'})\n",
    "    \n",
    "    if table_no >= 1 and table_no <= len(tables):\n",
    "        df = pd.read_html(str(tables[table_no - 1]))[0]\n",
    "        return df\n",
    "    else:\n",
    "        return None"
   ]
  },
  {
   "cell_type": "markdown",
   "metadata": {},
   "source": [
    "## Normalise the country\n",
    "- As there are no standerdised way to get countries, we use a library called `country_converter` to convert countries for us.\n",
    "- Some country might not exist (Channel Islands, European Union, World...), in that case, we just drop the whole record for this country"
   ]
  },
  {
   "cell_type": "code",
   "execution_count": 152,
   "metadata": {},
   "outputs": [],
   "source": [
    "def normaliseCountryNames(df):\n",
    "    df.columns.values[0] = 'Country'\n",
    "    df['Country'] = df['Country'].apply(lambda x: coco.convert(names=x, to='name_short', not_found='not found'))\n",
    "    df = df[df['Country'] != 'not found']\n",
    "    return df"
   ]
  },
  {
   "cell_type": "code",
   "execution_count": 153,
   "metadata": {},
   "outputs": [],
   "source": [
    "def keepOnlyNumberInLastColumn(df):\n",
    "    last_col = df.columns[-1]\n",
    "    df.loc[:, last_col] = df[last_col].str.extract('(\\d+)')\n",
    "    df.loc[:, last_col] = pd.to_numeric(df[last_col], errors='coerce')\n",
    "\n",
    "    return df"
   ]
  },
  {
   "cell_type": "markdown",
   "metadata": {},
   "source": [
    "## All column"
   ]
  },
  {
   "cell_type": "code",
   "execution_count": 154,
   "metadata": {},
   "outputs": [],
   "source": [
    "the_final_table = []"
   ]
  },
  {
   "cell_type": "code",
   "execution_count": 155,
   "metadata": {},
   "outputs": [
    {
     "name": "stdout",
     "output_type": "stream",
     "text": [
      "200\n"
     ]
    },
    {
     "name": "stderr",
     "output_type": "stream",
     "text": [
      "/var/folders/rl/9_sc5q9x00vg1qz14xd82nhw0000gn/T/ipykernel_55982/563173382.py:7: PerformanceWarning: dropping on a non-lexsorted multi-index without a level parameter may impact performance.\n",
      "  df = df.drop([\"IMF[4][5]\", \"United Nations[7]\"], axis = 1)\n",
      "Channel Islands not found in regex\n",
      "European Union[n 1] not found in regex\n",
      "World not found in regex\n",
      "Zanzibar not found in regex\n"
     ]
    },
    {
     "name": "stdout",
     "output_type": "stream",
     "text": [
      "           Country World Bank[6]\n",
      "1           Monaco        234317\n",
      "2    Liechtenstein        184083\n",
      "3       Luxembourg        126426\n",
      "4          Bermuda        118846\n",
      "5          Ireland        104039\n",
      "..             ...           ...\n",
      "219     Madagascar           505\n",
      "220    South Sudan          1072\n",
      "221   Sierra Leone           461\n",
      "222    Afghanistan           364\n",
      "223        Burundi           238\n",
      "\n",
      "[219 rows x 2 columns]\n"
     ]
    }
   ],
   "source": [
    "## GET GDP PER CAPITA\n",
    "\n",
    "gdp_per_capita = getDataFrameFromWikipedia(\"https://en.wikipedia.org/wiki/List_of_countries_by_GDP_(nominal)_per_capita\")\n",
    "\n",
    "df= gdp_per_capita\n",
    "\n",
    "df = df.drop([\"IMF[4][5]\", \"United Nations[7]\"], axis = 1)\n",
    "df = df.drop(0)\n",
    "df.columns = df.columns.droplevel(-1)\n",
    "df.columns = [*df.columns[:-1], 'years']\n",
    "df.columns.values[0] = 'Country'\n",
    "\n",
    "df = df.drop([\"UN Region\", \"years\"], axis = 1)\n",
    "\n",
    "\n",
    "df = normaliseCountryNames(df)\n",
    "\n",
    "the_final_table = df\n",
    "\n",
    "print(df.head(10000)) "
   ]
  },
  {
   "cell_type": "code",
   "execution_count": 156,
   "metadata": {},
   "outputs": [
    {
     "name": "stdout",
     "output_type": "stream",
     "text": [
      "200\n",
      "             Country  Average download speed (Mbit/s)\n",
      "0            Romania                           178.90\n",
      "1        South Korea                           241.58\n",
      "2          Hong Kong                           265.17\n",
      "3             Monaco                           220.35\n",
      "4          Singapore                           259.11\n",
      "..               ...                              ...\n",
      "96          Dominica                            37.62\n",
      "97   North Macedonia                            37.20\n",
      "98            Greece                            36.73\n",
      "99        Bangladesh                            36.02\n",
      "100          Senegal                            35.32\n",
      "\n",
      "[101 rows x 2 columns]\n"
     ]
    }
   ],
   "source": [
    "# List of countries by Internet connection speeds, Fixed broadband, Average download speed (Mbit/s) (Ookla).\n",
    "\n",
    "internet_speed = getDataFrameFromWikipedia(\"https://en.wikipedia.org/wiki/List_of_countries_by_Internet_connection_speeds\")\n",
    "\n",
    "df = internet_speed\n",
    "df = df.drop([\"Rank\", \"Averagedownloadspeed(Mbit/s)(M-Lab)[2]\", \"Averagedownloadspeed(Mbit/s)(SpeedTestNet.io)\", \"Averagedownloadspeed(Mbit/s)(Speed-Test-Pros.com)[4]\"], axis = 1)\n",
    "df.columns = [*df.columns[:-1], \"Average download speed (Mbit/s)\"]\n",
    "df = normaliseCountryNames(df)\n",
    "\n",
    "the_final_table = pd.merge(the_final_table, df, on='Country', how='outer')\n",
    "\n",
    "print(df.head(10000)) "
   ]
  },
  {
   "cell_type": "code",
   "execution_count": 157,
   "metadata": {},
   "outputs": [
    {
     "name": "stdout",
     "output_type": "stream",
     "text": [
      "200\n"
     ]
    },
    {
     "name": "stderr",
     "output_type": "stream",
     "text": [
      "Netherlands Antilles not found in regex\n"
     ]
    },
    {
     "name": "stdout",
     "output_type": "stream",
     "text": [
      "         Country Alcohiol consumption per capita (litres) 2016\n",
      "0    Afghanistan                                           0.2\n",
      "1        Albania                                           7.5\n",
      "2        Algeria                                           0.9\n",
      "3        Andorra                                          11.3\n",
      "4         Angola                                           6.4\n",
      "..           ...                                           ...\n",
      "186    Venezuela                                           5.6\n",
      "187      Vietnam                                           8.3\n",
      "188        Yemen                                           0.1\n",
      "189       Zambia                                           4.8\n",
      "190     Zimbabwe                                           4.8\n",
      "\n",
      "[190 rows x 2 columns]\n"
     ]
    }
   ],
   "source": [
    "# List of countries by alcohol consumption per capita, Recorded per capita consumption of pure alcohol (litres) per adult 15 years of age and over per year, 2016.\n",
    "alcohol_consumption = getDataFrameFromWikipedia(\"https://en.wikipedia.org/wiki/List_of_countries_by_alcohol_consumption_per_capita\")\n",
    "\n",
    "df = alcohol_consumption\n",
    "\n",
    "df = df.drop([\"1996[7]\"], axis = 1)\n",
    "df.columns = [*df.columns[:-1], \"Alcohiol consumption per capita (litres) 2016\"]\n",
    "df = normaliseCountryNames(df)\n",
    "\n",
    "the_final_table = pd.merge(the_final_table, df, on='Country', how='outer')\n",
    "\n",
    "print(df.head(10000))"
   ]
  },
  {
   "cell_type": "code",
   "execution_count": 158,
   "metadata": {},
   "outputs": [
    {
     "name": "stdout",
     "output_type": "stream",
     "text": [
      "200\n"
     ]
    },
    {
     "name": "stderr",
     "output_type": "stream",
     "text": [
      "Northern Ireland not found in regex\n",
      "Scotland not found in regex\n"
     ]
    },
    {
     "name": "stdout",
     "output_type": "stream",
     "text": [
      "            Country  Intentional homicide victims per 100,000 inhabitants\n",
      "0       Afghanistan                                                4.0   \n",
      "1           Albania                                                2.3   \n",
      "2           Algeria                                                1.6   \n",
      "3    American Samoa                                                0.0   \n",
      "4           Andorra                                                2.6   \n",
      "..              ...                                                ...   \n",
      "201       Venezuela                                               19.3   \n",
      "202         Vietnam                                                1.5   \n",
      "203           Yemen                                                6.3   \n",
      "204          Zambia                                                5.2   \n",
      "205        Zimbabwe                                                6.1   \n",
      "\n",
      "[204 rows x 2 columns]\n"
     ]
    }
   ],
   "source": [
    "# List of countries by intentional homicide rate, Intentional homicide victims per 100,000 inhabitants. From UNODC, rate.\n",
    "\n",
    "homicide_rate = getDataFrameFromWikipedia(\"https://en.wikipedia.org/wiki/List_of_countries_by_intentional_homicide_rate\",2)\n",
    "\n",
    "df = homicide_rate\n",
    "\n",
    "df = df.drop([\"Region\", \"Subregion\", \"Year\", \"Count\"], axis = 1)\n",
    "df.columns = [*df.columns[:-1], \"Intentional homicide victims per 100,000 inhabitants\"]\n",
    "df['Location'] = df['Location'].str.replace('*', '', regex=False).str.strip()\n",
    "df = df.rename(columns={'Location': 'Country'})\n",
    "df = normaliseCountryNames(df)\n",
    "\n",
    "the_final_table = pd.merge(the_final_table, df, on='Country', how='outer')\n",
    "\n",
    "print(df.head(10000))"
   ]
  },
  {
   "cell_type": "code",
   "execution_count": 159,
   "metadata": {},
   "outputs": [
    {
     "name": "stderr",
     "output_type": "stream",
     "text": [
      "World total not found in regex\n"
     ]
    },
    {
     "name": "stdout",
     "output_type": "stream",
     "text": [
      "200\n",
      "           Country  Military Expenditure % GDP\n",
      "0        not found                         2.2\n",
      "1    United States                         3.5\n",
      "2            China                         1.6\n",
      "3           Russia                         4.1\n",
      "4            India                         2.4\n",
      "5     Saudi Arabia                         7.4\n",
      "6   United Kingdom                         2.2\n",
      "7          Germany                         1.4\n",
      "8           France                         1.9\n",
      "9      South Korea                         2.7\n",
      "10           Japan                         1.1\n",
      "11         Ukraine                        34.0\n",
      "12           Italy                         1.7\n",
      "13       Australia                         1.9\n",
      "14          Canada                         1.2\n",
      "15          Israel                         4.5\n",
      "16           Spain                         1.5\n",
      "17          Brazil                         1.1\n",
      "18          Poland                         2.4\n",
      "19     Netherlands                         1.6\n",
      "20           Qatar                         7.0\n",
      "21          Taiwan                         1.6\n",
      "22       Singapore                         2.8\n",
      "23         Türkiye                         1.2\n",
      "24        Pakistan                         2.6\n",
      "25        Colombia                         3.1\n",
      "26         Algeria                         4.8\n",
      "27       Indonesia                         0.7\n",
      "28          Mexico                         0.6\n",
      "29          Norway                         1.6\n",
      "30          Kuwait                         4.5\n",
      "31          Greece                         3.7\n",
      "32          Sweden                         1.3\n",
      "33         Belgium                         1.2\n",
      "34            Iran                         2.6\n",
      "35     Switzerland                         0.8\n",
      "36            Oman                         5.2\n",
      "37        Thailand                         1.2\n",
      "38           Chile                         1.8\n",
      "39         Denmark                         1.2\n",
      "40         Romania                         1.7\n"
     ]
    },
    {
     "name": "stderr",
     "output_type": "stream",
     "text": [
      "/var/folders/rl/9_sc5q9x00vg1qz14xd82nhw0000gn/T/ipykernel_55982/4042162181.py:3: SettingWithCopyWarning: \n",
      "A value is trying to be set on a copy of a slice from a DataFrame.\n",
      "Try using .loc[row_indexer,col_indexer] = value instead\n",
      "\n",
      "See the caveats in the documentation: https://pandas.pydata.org/pandas-docs/stable/user_guide/indexing.html#returning-a-view-versus-a-copy\n",
      "  df['Country'] = df['Country'].apply(lambda x: coco.convert(names=x, to='name_short', not_found='not found'))\n"
     ]
    }
   ],
   "source": [
    "# List of countries by military expenditures, List by the Stockholm International Peace Research Institute, % of GDP.\n",
    "\n",
    "list_of_military_expendature = getDataFrameFromWikipedia(\"https://en.wikipedia.org/wiki/List_of_countries_with_highest_military_expenditures\", 1)\n",
    "\n",
    "df = list_of_military_expendature\n",
    "\n",
    "df = df[['Country', '% of GDP']]\n",
    "df.columns = [*df.columns[:-1], \"Military Expenditure % GDP\"]\n",
    "\n",
    "normaliseCountryNames(df)\n",
    "the_final_table = pd.merge(the_final_table, df, on='Country', how='outer')\n",
    "\n",
    "print(df)"
   ]
  },
  {
   "cell_type": "code",
   "execution_count": 160,
   "metadata": {},
   "outputs": [
    {
     "name": "stdout",
     "output_type": "stream",
     "text": [
      "200\n"
     ]
    },
    {
     "name": "stderr",
     "output_type": "stream",
     "text": [
      "/var/folders/rl/9_sc5q9x00vg1qz14xd82nhw0000gn/T/ipykernel_55982/1017324049.py:9: PerformanceWarning: dropping on a non-lexsorted multi-index without a level parameter may impact performance.\n",
      "  df = df.drop([\"Rank\"], axis=1)\n"
     ]
    },
    {
     "name": "stdout",
     "output_type": "stream",
     "text": [
      "                      Country  Human Development Index\n",
      "0                 Switzerland                    0.962\n",
      "1                      Norway                    0.961\n",
      "2                     Iceland                    0.959\n",
      "3                   Hong Kong                    0.952\n",
      "4                   Australia                    0.951\n",
      "..                        ...                      ...\n",
      "186                   Burundi                    0.426\n",
      "187  Central African Republic                    0.404\n",
      "188                     Niger                    0.400\n",
      "189                      Chad                    0.394\n",
      "190               South Sudan                    0.385\n",
      "\n",
      "[191 rows x 2 columns]\n"
     ]
    }
   ],
   "source": [
    "## GET Human Development Index,\n",
    "\n",
    "human_dev_index = getDataFrameFromWikipedia(\"https://en.wikipedia.org/wiki/List_of_countries_by_Human_Development_Index\", 2)\n",
    "\n",
    "df= human_dev_index\n",
    "# print(df)\n",
    "\n",
    "\n",
    "df = df.drop([\"Rank\"], axis=1)\n",
    "\n",
    "df = df[[('Nation', 'Nation'), ('HDI', '2021 data (2022\\xa0report)\\u200b[2]')]]\n",
    "df.columns = df.columns.droplevel(0)\n",
    "\n",
    "df.columns = [*df.columns[:-1], \"Human Development Index\"]\n",
    "df = normaliseCountryNames(df)\n",
    "\n",
    "\n",
    "the_final_table = pd.merge(the_final_table, df, on='Country', how='outer')\n",
    "\n",
    "print(df.head(10000)) \n",
    "\n",
    "\n",
    "\n"
   ]
  },
  {
   "cell_type": "code",
   "execution_count": 161,
   "metadata": {},
   "outputs": [
    {
     "name": "stdout",
     "output_type": "stream",
     "text": [
      "200\n",
      "           Country  Democracy Index (2020)\n",
      "0           Canada                    9.24\n",
      "1    United States                    7.92\n",
      "2          Austria                    8.16\n",
      "3          Belgium                    7.51\n",
      "4           Cyprus                    7.56\n",
      "..             ...                     ...\n",
      "162       Tanzania                    5.10\n",
      "163           Togo                    2.80\n",
      "164         Uganda                    4.94\n",
      "165         Zambia                    4.86\n",
      "166       Zimbabwe                    3.16\n",
      "\n",
      "[167 rows x 2 columns]\n"
     ]
    },
    {
     "name": "stderr",
     "output_type": "stream",
     "text": [
      "/var/folders/rl/9_sc5q9x00vg1qz14xd82nhw0000gn/T/ipykernel_55982/4042162181.py:3: SettingWithCopyWarning: \n",
      "A value is trying to be set on a copy of a slice from a DataFrame.\n",
      "Try using .loc[row_indexer,col_indexer] = value instead\n",
      "\n",
      "See the caveats in the documentation: https://pandas.pydata.org/pandas-docs/stable/user_guide/indexing.html#returning-a-view-versus-a-copy\n",
      "  df['Country'] = df['Country'].apply(lambda x: coco.convert(names=x, to='name_short', not_found='not found'))\n"
     ]
    }
   ],
   "source": [
    "# Democracy Index, Democracy Index, 2020\n",
    "\n",
    "democracy_index = getDataFrameFromWikipedia(\"https://en.wikipedia.org/wiki/The_Economist_Democracy_Index\", 4)\n",
    "\n",
    "df= democracy_index\n",
    "df = df[['Country','2020']]\n",
    "df.columns = [*df.columns[:-1], \"Democracy Index (2020)\"]\n",
    "df = normaliseCountryNames(df)\n",
    "\n",
    "the_final_table = pd.merge(the_final_table, df, on='Country', how='outer')\n",
    "\n",
    "print(df.head(10000)) \n",
    "\n"
   ]
  },
  {
   "cell_type": "code",
   "execution_count": 162,
   "metadata": {},
   "outputs": [
    {
     "name": "stdout",
     "output_type": "stream",
     "text": [
      "200\n",
      "           Country  tertiary education attainment, 2 y\n",
      "0        Australia                                48.0\n",
      "1          Austria                                39.0\n",
      "2          Belgium                                43.0\n",
      "3           Brazil                                16.0\n",
      "4           Canada                                59.0\n",
      "5            Chile                                36.0\n",
      "6            China                                35.8\n",
      "7         Colombia                                27.0\n",
      "8       Costa Rica                                28.0\n",
      "9          Czechia                                31.0\n",
      "10         Denmark                                44.0\n",
      "11         Estonia                                41.0\n",
      "12         Finland                                41.0\n",
      "13          France                                45.0\n",
      "14         Germany                                30.0\n",
      "15          Greece                                40.0\n",
      "16         Hungary                                32.0\n",
      "17         Iceland                                40.0\n",
      "18       Indonesia                                11.0\n",
      "19         Ireland                                52.0\n",
      "20          Israel                                46.0\n",
      "21           Italy                                25.0\n",
      "22           Japan                                60.0\n",
      "23          Latvia                                40.0\n",
      "24       Lithuania                                55.0\n",
      "25      Luxembourg                                50.0\n",
      "26          Mexico                                21.0\n",
      "27     Netherlands                                45.0\n",
      "28     New Zealand                                39.0\n",
      "29          Norway                                48.0\n",
      "30          Poland                                43.0\n",
      "31        Portugal                                33.0\n",
      "32          Russia                                58.0\n",
      "33    Saudi Arabia                                26.0\n",
      "34        Slovakia                                31.0\n",
      "35        Slovenia                                41.0\n",
      "36    South Africa                                14.0\n",
      "37     South Korea                                69.0\n",
      "38           Spain                                41.0\n",
      "39          Sweden                                46.0\n",
      "40     Switzerland                                49.0\n",
      "41         Türkiye                                28.0\n",
      "42  United Kingdom                                49.0\n",
      "43   United States                                51.1\n"
     ]
    },
    {
     "name": "stderr",
     "output_type": "stream",
     "text": [
      "/var/folders/rl/9_sc5q9x00vg1qz14xd82nhw0000gn/T/ipykernel_55982/4042162181.py:3: SettingWithCopyWarning: \n",
      "A value is trying to be set on a copy of a slice from a DataFrame.\n",
      "Try using .loc[row_indexer,col_indexer] = value instead\n",
      "\n",
      "See the caveats in the documentation: https://pandas.pydata.org/pandas-docs/stable/user_guide/indexing.html#returning-a-view-versus-a-copy\n",
      "  df['Country'] = df['Country'].apply(lambda x: coco.convert(names=x, to='name_short', not_found='not found'))\n"
     ]
    }
   ],
   "source": [
    "# List of countries by tertiary education attainment,Countries by level of tertiary education, at least a 2-year tertiary degree or its equivalent %.\n",
    "\n",
    "tertiary_education_attainment = getDataFrameFromWikipedia(\"https://en.wikipedia.org/wiki/List_of_countries_by_tertiary_education_attainment\", 2)\n",
    "\n",
    "df= tertiary_education_attainment\n",
    "df = df[[('Country', 'Country'), ('Ages 25–34:\\xa0% equivalent to a degree course lasting at least:', '2 years')]]\n",
    "df.columns = [*df.columns[:-1], \"tertiary education attainment, 2 y\"]\n",
    "df = normaliseCountryNames(df)\n",
    "\n",
    "the_final_table = pd.merge(the_final_table, df, on='Country', how='outer')\n",
    "\n",
    "print(df.head(10000)) "
   ]
  },
  {
   "cell_type": "code",
   "execution_count": 163,
   "metadata": {},
   "outputs": [
    {
     "name": "stdout",
     "output_type": "stream",
     "text": [
      "200\n",
      "        Country  Importance of religion\n",
      "0        Sweden                      17\n",
      "1       Denmark                      19\n",
      "2       Estonia                      16\n",
      "3         Japan                      24\n",
      "4     Hong Kong                      24\n",
      "..          ...                     ...\n",
      "107   Sri Lanka                      99\n",
      "108       Yemen                      99\n",
      "109  Bangladesh                      99\n",
      "110   Indonesia                      99\n",
      "111       Niger                      99\n",
      "\n",
      "[112 rows x 2 columns]\n"
     ]
    },
    {
     "name": "stderr",
     "output_type": "stream",
     "text": [
      "/var/folders/rl/9_sc5q9x00vg1qz14xd82nhw0000gn/T/ipykernel_55982/3315460159.py:4: DeprecationWarning: In a future version, `df.iloc[:, i] = newvals` will attempt to set the values inplace instead of always setting a new array. To retain the old behavior, use either `df[df.columns[i]] = newvals` or, if columns are non-unique, `df.isetitem(i, newvals)`\n",
      "  df.loc[:, last_col] = pd.to_numeric(df[last_col], errors='coerce')\n"
     ]
    }
   ],
   "source": [
    "# Importance of religion by country, Countries/Districts, Yes important.\n",
    "\n",
    "importance_religion = getDataFrameFromWikipedia(\"https://en.wikipedia.org/wiki/Importance_of_religion_by_country\")\n",
    "\n",
    "df= importance_religion\n",
    "df = df.drop([\"No, unimportant[1]\"], axis=1)\n",
    "df.columns = [*df.columns[:-1], \"Importance of religion\"]\n",
    "df = normaliseCountryNames(df)\n",
    "df = keepOnlyNumberInLastColumn(df)\n",
    "\n",
    "the_final_table = pd.merge(the_final_table, df, on='Country', how='outer')\n",
    "\n",
    "print(df.head(10000)) "
   ]
  },
  {
   "cell_type": "code",
   "execution_count": 164,
   "metadata": {},
   "outputs": [
    {
     "name": "stdout",
     "output_type": "stream",
     "text": [
      "200\n"
     ]
    },
    {
     "name": "stderr",
     "output_type": "stream",
     "text": [
      "Europe not found in regex\n",
      "Latin America and the Caribbean not found in regex\n",
      "Africa not found in regex\n",
      "Asia not found in regex\n",
      "North America not found in regex\n",
      "Oceania not found in regex\n",
      "Middle East-North Africa not found in regex\n",
      "Total not found in regex\n"
     ]
    },
    {
     "name": "stdout",
     "output_type": "stream",
     "text": [
      "            Country  Importance of religion\n",
      "0       Afghanistan                     0.0\n",
      "1           Albania                    17.0\n",
      "2           Algeria                     0.0\n",
      "3    American Samoa                    98.0\n",
      "4           Andorra                    89.0\n",
      "..              ...                     ...\n",
      "190       Venezuela                    88.0\n",
      "191         Vietnam                     7.0\n",
      "192           Yemen                     0.0\n",
      "193          Zambia                    95.0\n",
      "194        Zimbabwe                    87.0\n",
      "\n",
      "[195 rows x 2 columns]\n"
     ]
    },
    {
     "name": "stderr",
     "output_type": "stream",
     "text": [
      "/var/folders/rl/9_sc5q9x00vg1qz14xd82nhw0000gn/T/ipykernel_55982/4042162181.py:3: SettingWithCopyWarning: \n",
      "A value is trying to be set on a copy of a slice from a DataFrame.\n",
      "Try using .loc[row_indexer,col_indexer] = value instead\n",
      "\n",
      "See the caveats in the documentation: https://pandas.pydata.org/pandas-docs/stable/user_guide/indexing.html#returning-a-view-versus-a-copy\n",
      "  df['Country'] = df['Country'].apply(lambda x: coco.convert(names=x, to='name_short', not_found='not found'))\n",
      "/var/folders/rl/9_sc5q9x00vg1qz14xd82nhw0000gn/T/ipykernel_55982/3315460159.py:4: DeprecationWarning: In a future version, `df.iloc[:, i] = newvals` will attempt to set the values inplace instead of always setting a new array. To retain the old behavior, use either `df[df.columns[i]] = newvals` or, if columns are non-unique, `df.isetitem(i, newvals)`\n",
      "  df.loc[:, last_col] = pd.to_numeric(df[last_col], errors='coerce')\n"
     ]
    }
   ],
   "source": [
    "# Christianity by country, UN members and dependent territories, % Chriastian.\n",
    "\n",
    "christianity_by_country = getDataFrameFromWikipedia(\"https://en.wikipedia.org/wiki/Christianity_by_country\", 3)\n",
    "\n",
    "df= christianity_by_country\n",
    "df = df[['Country or entity', '% Christian']]\n",
    "df.columns = [*df.columns[:-1], \"Importance of religion\"]\n",
    "df = normaliseCountryNames(df)\n",
    "df = keepOnlyNumberInLastColumn(df)\n",
    "\n",
    "the_final_table = pd.merge(the_final_table, df, on='Country', how='outer')\n",
    "\n",
    "print(df.head(10000)) "
   ]
  },
  {
   "cell_type": "code",
   "execution_count": 166,
   "metadata": {},
   "outputs": [
    {
     "name": "stdout",
     "output_type": "stream",
     "text": [
      "                     Country World Bank[6]  Average download speed (Mbit/s)  \\\n",
      "0                     Monaco        234317                           220.35   \n",
      "1              Liechtenstein        184083                           193.79   \n",
      "2                 Luxembourg        126426                           154.26   \n",
      "3                    Bermuda        118846                              NaN   \n",
      "4                    Ireland        104039                           112.81   \n",
      "..                       ...           ...                              ...   \n",
      "230               St. Helena           NaN                              NaN   \n",
      "231  St. Pierre and Miquelon           NaN                              NaN   \n",
      "232                not found           NaN                              NaN   \n",
      "233         Falkland Islands           NaN                              NaN   \n",
      "234                 Pitcairn           NaN                              NaN   \n",
      "\n",
      "    Alcohiol consumption per capita (litres) 2016  \\\n",
      "0                                             NaN   \n",
      "1                                             NaN   \n",
      "2                                            13.0   \n",
      "3                                             NaN   \n",
      "4                                            13.0   \n",
      "..                                            ...   \n",
      "230                                           NaN   \n",
      "231                                           NaN   \n",
      "232                                           NaN   \n",
      "233                                           NaN   \n",
      "234                                           NaN   \n",
      "\n",
      "     Intentional homicide victims per 100,000 inhabitants  \\\n",
      "0                                                  0.0      \n",
      "1                                                  5.1      \n",
      "2                                                  0.6      \n",
      "3                                                 10.9      \n",
      "4                                                  0.4      \n",
      "..                                                 ...      \n",
      "230                                                0.0      \n",
      "231                                               16.5      \n",
      "232                                                NaN      \n",
      "233                                                NaN      \n",
      "234                                                NaN      \n",
      "\n",
      "     Military Expenditure % GDP  Human Development Index  \\\n",
      "0                           NaN                      NaN   \n",
      "1                           NaN                    0.935   \n",
      "2                           NaN                    0.930   \n",
      "3                           NaN                      NaN   \n",
      "4                           NaN                    0.945   \n",
      "..                          ...                      ...   \n",
      "230                         NaN                      NaN   \n",
      "231                         NaN                      NaN   \n",
      "232                         2.2                      NaN   \n",
      "233                         NaN                      NaN   \n",
      "234                         NaN                      NaN   \n",
      "\n",
      "     Democracy Index (2020)  tertiary education attainment, 2 y  \\\n",
      "0                       NaN                                 NaN   \n",
      "1                       NaN                                 NaN   \n",
      "2                      8.68                                50.0   \n",
      "3                       NaN                                 NaN   \n",
      "4                      9.05                                52.0   \n",
      "..                      ...                                 ...   \n",
      "230                     NaN                                 NaN   \n",
      "231                     NaN                                 NaN   \n",
      "232                     NaN                                 NaN   \n",
      "233                     NaN                                 NaN   \n",
      "234                     NaN                                 NaN   \n",
      "\n",
      "     Importance of religion_x  Importance of religion_y  \n",
      "0                         NaN                      82.0  \n",
      "1                         NaN                      84.0  \n",
      "2                        39.0                      72.0  \n",
      "3                         NaN                      64.0  \n",
      "4                        54.0                      83.0  \n",
      "..                        ...                       ...  \n",
      "230                       NaN                       NaN  \n",
      "231                       NaN                       NaN  \n",
      "232                       NaN                       NaN  \n",
      "233                       NaN                      94.0  \n",
      "234                       NaN                     100.0  \n",
      "\n",
      "[235 rows x 11 columns]\n"
     ]
    }
   ],
   "source": [
    "print(the_final_table.head(10000))\n",
    "\n",
    "the_final_table.to_csv('the_final_table.csv', index=False)\n"
   ]
  }
 ],
 "metadata": {
  "kernelspec": {
   "display_name": "Python 3",
   "language": "python",
   "name": "python3"
  },
  "language_info": {
   "codemirror_mode": {
    "name": "ipython",
    "version": 3
   },
   "file_extension": ".py",
   "mimetype": "text/x-python",
   "name": "python",
   "nbconvert_exporter": "python",
   "pygments_lexer": "ipython3",
   "version": "3.10.13"
  }
 },
 "nbformat": 4,
 "nbformat_minor": 2
}
